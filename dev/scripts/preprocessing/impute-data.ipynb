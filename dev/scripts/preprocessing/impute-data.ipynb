{
 "cells": [
  {
   "cell_type": "markdown",
   "metadata": {},
   "source": [
    "### Impute Data to get rid of outliers (Step 13)\n",
    "#### Author: S. Sakib Hasan"
   ]
  },
  {
   "cell_type": "code",
   "execution_count": 1,
   "metadata": {},
   "outputs": [],
   "source": [
    "import os\n",
    "import pandas as pd\n",
    "import numpy as np\n",
    "import seaborn as sns\n",
    "import matplotlib.pyplot as plt\n",
    "%matplotlib inline\n",
    "from scipy import stats\n",
    "from sklearn.model_selection import train_test_split\n",
    "from sklearn.impute import KNNImputer"
   ]
  },
  {
   "cell_type": "code",
   "execution_count": 2,
   "metadata": {},
   "outputs": [],
   "source": [
    "os.chdir(os.path.join(os.getcwd(), \"..\", \"..\", \"data\"));"
   ]
  },
  {
   "cell_type": "code",
   "execution_count": 3,
   "metadata": {},
   "outputs": [],
   "source": [
    "df = pd.read_csv(\"combined-season-data.csv\", index_col=False);"
   ]
  },
  {
   "cell_type": "code",
   "execution_count": 4,
   "metadata": {},
   "outputs": [
    {
     "data": {
      "text/html": [
       "<div>\n",
       "<style scoped>\n",
       "    .dataframe tbody tr th:only-of-type {\n",
       "        vertical-align: middle;\n",
       "    }\n",
       "\n",
       "    .dataframe tbody tr th {\n",
       "        vertical-align: top;\n",
       "    }\n",
       "\n",
       "    .dataframe thead th {\n",
       "        text-align: right;\n",
       "    }\n",
       "</style>\n",
       "<table border=\"1\" class=\"dataframe\">\n",
       "  <thead>\n",
       "    <tr style=\"text-align: right;\">\n",
       "      <th></th>\n",
       "      <th>season</th>\n",
       "      <th>GW</th>\n",
       "      <th>at_home</th>\n",
       "      <th>player_id</th>\n",
       "      <th>team_id</th>\n",
       "      <th>opponent_id</th>\n",
       "      <th>champion_ls</th>\n",
       "      <th>top5_ls</th>\n",
       "      <th>bottom5_ls</th>\n",
       "      <th>promoted_ts</th>\n",
       "      <th>...</th>\n",
       "      <th>threat_rlf</th>\n",
       "      <th>threat_rsf</th>\n",
       "      <th>total_points_pgw</th>\n",
       "      <th>total_points_rlf</th>\n",
       "      <th>total_points_rsf</th>\n",
       "      <th>yellow_cards</th>\n",
       "      <th>yellow_cards_pgw</th>\n",
       "      <th>yellow_cards_rlf</th>\n",
       "      <th>yellow_cards_rsf</th>\n",
       "      <th>total_points</th>\n",
       "    </tr>\n",
       "  </thead>\n",
       "  <tbody>\n",
       "    <tr>\n",
       "      <th>0</th>\n",
       "      <td>2016</td>\n",
       "      <td>1</td>\n",
       "      <td>0</td>\n",
       "      <td>1</td>\n",
       "      <td>20</td>\n",
       "      <td>4</td>\n",
       "      <td>0</td>\n",
       "      <td>0</td>\n",
       "      <td>0</td>\n",
       "      <td>0</td>\n",
       "      <td>...</td>\n",
       "      <td>0.0</td>\n",
       "      <td>0.0</td>\n",
       "      <td>0.0</td>\n",
       "      <td>0.0</td>\n",
       "      <td>0.0</td>\n",
       "      <td>0</td>\n",
       "      <td>0.0</td>\n",
       "      <td>0</td>\n",
       "      <td>0</td>\n",
       "      <td>0.0</td>\n",
       "    </tr>\n",
       "    <tr>\n",
       "      <th>1</th>\n",
       "      <td>2016</td>\n",
       "      <td>1</td>\n",
       "      <td>1</td>\n",
       "      <td>2</td>\n",
       "      <td>6</td>\n",
       "      <td>17</td>\n",
       "      <td>0</td>\n",
       "      <td>1</td>\n",
       "      <td>0</td>\n",
       "      <td>0</td>\n",
       "      <td>...</td>\n",
       "      <td>0.0</td>\n",
       "      <td>0.0</td>\n",
       "      <td>0.0</td>\n",
       "      <td>0.0</td>\n",
       "      <td>0.0</td>\n",
       "      <td>0</td>\n",
       "      <td>0.0</td>\n",
       "      <td>0</td>\n",
       "      <td>0</td>\n",
       "      <td>1.0</td>\n",
       "    </tr>\n",
       "    <tr>\n",
       "      <th>2</th>\n",
       "      <td>2016</td>\n",
       "      <td>1</td>\n",
       "      <td>1</td>\n",
       "      <td>4</td>\n",
       "      <td>1</td>\n",
       "      <td>9</td>\n",
       "      <td>0</td>\n",
       "      <td>0</td>\n",
       "      <td>0</td>\n",
       "      <td>0</td>\n",
       "      <td>...</td>\n",
       "      <td>0.0</td>\n",
       "      <td>0.0</td>\n",
       "      <td>0.0</td>\n",
       "      <td>0.0</td>\n",
       "      <td>0.0</td>\n",
       "      <td>0</td>\n",
       "      <td>0.0</td>\n",
       "      <td>0</td>\n",
       "      <td>0</td>\n",
       "      <td>2.0</td>\n",
       "    </tr>\n",
       "    <tr>\n",
       "      <th>3</th>\n",
       "      <td>2016</td>\n",
       "      <td>1</td>\n",
       "      <td>0</td>\n",
       "      <td>6</td>\n",
       "      <td>18</td>\n",
       "      <td>13</td>\n",
       "      <td>0</td>\n",
       "      <td>0</td>\n",
       "      <td>0</td>\n",
       "      <td>0</td>\n",
       "      <td>...</td>\n",
       "      <td>0.0</td>\n",
       "      <td>0.0</td>\n",
       "      <td>0.0</td>\n",
       "      <td>0.0</td>\n",
       "      <td>0.0</td>\n",
       "      <td>0</td>\n",
       "      <td>0.0</td>\n",
       "      <td>0</td>\n",
       "      <td>0</td>\n",
       "      <td>0.0</td>\n",
       "    </tr>\n",
       "    <tr>\n",
       "      <th>4</th>\n",
       "      <td>2016</td>\n",
       "      <td>1</td>\n",
       "      <td>1</td>\n",
       "      <td>7</td>\n",
       "      <td>4</td>\n",
       "      <td>20</td>\n",
       "      <td>0</td>\n",
       "      <td>0</td>\n",
       "      <td>0</td>\n",
       "      <td>0</td>\n",
       "      <td>...</td>\n",
       "      <td>0.0</td>\n",
       "      <td>0.0</td>\n",
       "      <td>0.0</td>\n",
       "      <td>0.0</td>\n",
       "      <td>0.0</td>\n",
       "      <td>0</td>\n",
       "      <td>0.0</td>\n",
       "      <td>0</td>\n",
       "      <td>0</td>\n",
       "      <td>0.0</td>\n",
       "    </tr>\n",
       "  </tbody>\n",
       "</table>\n",
       "<p>5 rows × 89 columns</p>\n",
       "</div>"
      ],
      "text/plain": [
       "   season  GW  at_home  player_id  team_id  opponent_id  champion_ls  top5_ls  \\\n",
       "0    2016   1        0          1       20            4            0        0   \n",
       "1    2016   1        1          2        6           17            0        1   \n",
       "2    2016   1        1          4        1            9            0        0   \n",
       "3    2016   1        0          6       18           13            0        0   \n",
       "4    2016   1        1          7        4           20            0        0   \n",
       "\n",
       "   bottom5_ls  promoted_ts  ...  threat_rlf  threat_rsf  total_points_pgw  \\\n",
       "0           0            0  ...         0.0         0.0               0.0   \n",
       "1           0            0  ...         0.0         0.0               0.0   \n",
       "2           0            0  ...         0.0         0.0               0.0   \n",
       "3           0            0  ...         0.0         0.0               0.0   \n",
       "4           0            0  ...         0.0         0.0               0.0   \n",
       "\n",
       "   total_points_rlf  total_points_rsf  yellow_cards  yellow_cards_pgw  \\\n",
       "0               0.0               0.0             0               0.0   \n",
       "1               0.0               0.0             0               0.0   \n",
       "2               0.0               0.0             0               0.0   \n",
       "3               0.0               0.0             0               0.0   \n",
       "4               0.0               0.0             0               0.0   \n",
       "\n",
       "   yellow_cards_rlf  yellow_cards_rsf  total_points  \n",
       "0                 0                 0           0.0  \n",
       "1                 0                 0           1.0  \n",
       "2                 0                 0           2.0  \n",
       "3                 0                 0           0.0  \n",
       "4                 0                 0           0.0  \n",
       "\n",
       "[5 rows x 89 columns]"
      ]
     },
     "execution_count": 4,
     "metadata": {},
     "output_type": "execute_result"
    }
   ],
   "source": [
    "df.head()"
   ]
  },
  {
   "cell_type": "code",
   "execution_count": 5,
   "metadata": {},
   "outputs": [
    {
     "data": {
      "text/html": [
       "<div>\n",
       "<style scoped>\n",
       "    .dataframe tbody tr th:only-of-type {\n",
       "        vertical-align: middle;\n",
       "    }\n",
       "\n",
       "    .dataframe tbody tr th {\n",
       "        vertical-align: top;\n",
       "    }\n",
       "\n",
       "    .dataframe thead th {\n",
       "        text-align: right;\n",
       "    }\n",
       "</style>\n",
       "<table border=\"1\" class=\"dataframe\">\n",
       "  <thead>\n",
       "    <tr style=\"text-align: right;\">\n",
       "      <th></th>\n",
       "      <th>season</th>\n",
       "      <th>GW</th>\n",
       "      <th>at_home</th>\n",
       "      <th>player_id</th>\n",
       "      <th>team_id</th>\n",
       "      <th>opponent_id</th>\n",
       "      <th>champion_ls</th>\n",
       "      <th>top5_ls</th>\n",
       "      <th>bottom5_ls</th>\n",
       "      <th>promoted_ts</th>\n",
       "      <th>...</th>\n",
       "      <th>threat_rlf</th>\n",
       "      <th>threat_rsf</th>\n",
       "      <th>total_points_pgw</th>\n",
       "      <th>total_points_rlf</th>\n",
       "      <th>total_points_rsf</th>\n",
       "      <th>yellow_cards</th>\n",
       "      <th>yellow_cards_pgw</th>\n",
       "      <th>yellow_cards_rlf</th>\n",
       "      <th>yellow_cards_rsf</th>\n",
       "      <th>total_points</th>\n",
       "    </tr>\n",
       "  </thead>\n",
       "  <tbody>\n",
       "    <tr>\n",
       "      <th>76701</th>\n",
       "      <td>2019</td>\n",
       "      <td>16</td>\n",
       "      <td>1</td>\n",
       "      <td>1224</td>\n",
       "      <td>28</td>\n",
       "      <td>29</td>\n",
       "      <td>0</td>\n",
       "      <td>0</td>\n",
       "      <td>0</td>\n",
       "      <td>1</td>\n",
       "      <td>...</td>\n",
       "      <td>0.0</td>\n",
       "      <td>0.0</td>\n",
       "      <td>1.0</td>\n",
       "      <td>0.0</td>\n",
       "      <td>0.0</td>\n",
       "      <td>0</td>\n",
       "      <td>0.0</td>\n",
       "      <td>0</td>\n",
       "      <td>0</td>\n",
       "      <td>0.0</td>\n",
       "    </tr>\n",
       "    <tr>\n",
       "      <th>76702</th>\n",
       "      <td>2019</td>\n",
       "      <td>16</td>\n",
       "      <td>1</td>\n",
       "      <td>1225</td>\n",
       "      <td>17</td>\n",
       "      <td>3</td>\n",
       "      <td>0</td>\n",
       "      <td>0</td>\n",
       "      <td>1</td>\n",
       "      <td>0</td>\n",
       "      <td>...</td>\n",
       "      <td>0.0</td>\n",
       "      <td>0.0</td>\n",
       "      <td>0.0</td>\n",
       "      <td>0.0</td>\n",
       "      <td>0.0</td>\n",
       "      <td>0</td>\n",
       "      <td>0.0</td>\n",
       "      <td>0</td>\n",
       "      <td>0</td>\n",
       "      <td>1.0</td>\n",
       "    </tr>\n",
       "    <tr>\n",
       "      <th>76703</th>\n",
       "      <td>2019</td>\n",
       "      <td>16</td>\n",
       "      <td>1</td>\n",
       "      <td>1226</td>\n",
       "      <td>21</td>\n",
       "      <td>26</td>\n",
       "      <td>0</td>\n",
       "      <td>0</td>\n",
       "      <td>0</td>\n",
       "      <td>0</td>\n",
       "      <td>...</td>\n",
       "      <td>0.0</td>\n",
       "      <td>0.0</td>\n",
       "      <td>0.0</td>\n",
       "      <td>0.0</td>\n",
       "      <td>0.0</td>\n",
       "      <td>0</td>\n",
       "      <td>0.0</td>\n",
       "      <td>0</td>\n",
       "      <td>0</td>\n",
       "      <td>0.0</td>\n",
       "    </tr>\n",
       "    <tr>\n",
       "      <th>76704</th>\n",
       "      <td>2019</td>\n",
       "      <td>16</td>\n",
       "      <td>1</td>\n",
       "      <td>1227</td>\n",
       "      <td>27</td>\n",
       "      <td>8</td>\n",
       "      <td>0</td>\n",
       "      <td>0</td>\n",
       "      <td>0</td>\n",
       "      <td>0</td>\n",
       "      <td>...</td>\n",
       "      <td>0.0</td>\n",
       "      <td>0.0</td>\n",
       "      <td>2.0</td>\n",
       "      <td>0.0</td>\n",
       "      <td>0.0</td>\n",
       "      <td>1</td>\n",
       "      <td>0.0</td>\n",
       "      <td>0</td>\n",
       "      <td>0</td>\n",
       "      <td>1.0</td>\n",
       "    </tr>\n",
       "    <tr>\n",
       "      <th>76705</th>\n",
       "      <td>2019</td>\n",
       "      <td>16</td>\n",
       "      <td>1</td>\n",
       "      <td>1228</td>\n",
       "      <td>27</td>\n",
       "      <td>8</td>\n",
       "      <td>0</td>\n",
       "      <td>0</td>\n",
       "      <td>0</td>\n",
       "      <td>0</td>\n",
       "      <td>...</td>\n",
       "      <td>0.0</td>\n",
       "      <td>0.0</td>\n",
       "      <td>0.0</td>\n",
       "      <td>0.0</td>\n",
       "      <td>0.0</td>\n",
       "      <td>0</td>\n",
       "      <td>0.0</td>\n",
       "      <td>0</td>\n",
       "      <td>0</td>\n",
       "      <td>0.0</td>\n",
       "    </tr>\n",
       "  </tbody>\n",
       "</table>\n",
       "<p>5 rows × 89 columns</p>\n",
       "</div>"
      ],
      "text/plain": [
       "       season  GW  at_home  player_id  team_id  opponent_id  champion_ls  \\\n",
       "76701    2019  16        1       1224       28           29            0   \n",
       "76702    2019  16        1       1225       17            3            0   \n",
       "76703    2019  16        1       1226       21           26            0   \n",
       "76704    2019  16        1       1227       27            8            0   \n",
       "76705    2019  16        1       1228       27            8            0   \n",
       "\n",
       "       top5_ls  bottom5_ls  promoted_ts  ...  threat_rlf  threat_rsf  \\\n",
       "76701        0           0            1  ...         0.0         0.0   \n",
       "76702        0           1            0  ...         0.0         0.0   \n",
       "76703        0           0            0  ...         0.0         0.0   \n",
       "76704        0           0            0  ...         0.0         0.0   \n",
       "76705        0           0            0  ...         0.0         0.0   \n",
       "\n",
       "       total_points_pgw  total_points_rlf  total_points_rsf  yellow_cards  \\\n",
       "76701               1.0               0.0               0.0             0   \n",
       "76702               0.0               0.0               0.0             0   \n",
       "76703               0.0               0.0               0.0             0   \n",
       "76704               2.0               0.0               0.0             1   \n",
       "76705               0.0               0.0               0.0             0   \n",
       "\n",
       "       yellow_cards_pgw  yellow_cards_rlf  yellow_cards_rsf  total_points  \n",
       "76701               0.0                 0                 0           0.0  \n",
       "76702               0.0                 0                 0           1.0  \n",
       "76703               0.0                 0                 0           0.0  \n",
       "76704               0.0                 0                 0           1.0  \n",
       "76705               0.0                 0                 0           0.0  \n",
       "\n",
       "[5 rows x 89 columns]"
      ]
     },
     "execution_count": 5,
     "metadata": {},
     "output_type": "execute_result"
    }
   ],
   "source": [
    "df.tail()"
   ]
  },
  {
   "cell_type": "code",
   "execution_count": 6,
   "metadata": {},
   "outputs": [
    {
     "data": {
      "text/plain": [
       "0"
      ]
     },
     "execution_count": 6,
     "metadata": {},
     "output_type": "execute_result"
    }
   ],
   "source": [
    "df.isnull().sum().sum()"
   ]
  },
  {
   "cell_type": "code",
   "execution_count": 7,
   "metadata": {},
   "outputs": [
    {
     "data": {
      "text/plain": [
       "0"
      ]
     },
     "execution_count": 7,
     "metadata": {},
     "output_type": "execute_result"
    }
   ],
   "source": [
    "df.duplicated().sum()"
   ]
  },
  {
   "cell_type": "code",
   "execution_count": 8,
   "metadata": {},
   "outputs": [
    {
     "data": {
      "text/plain": [
       "<matplotlib.axes._subplots.AxesSubplot at 0x10fec8518>"
      ]
     },
     "execution_count": 8,
     "metadata": {},
     "output_type": "execute_result"
    },
    {
     "data": {
      "image/png": "[encoded data removed]",
      "text/plain": [
       "<Figure size 432x288 with 1 Axes>"
      ]
     },
     "metadata": {
      "needs_background": "light"
     },
     "output_type": "display_data"
    }
   ],
   "source": [
    "sns.boxplot(x=df['total_points'])"
   ]
  },
  {
   "cell_type": "code",
   "execution_count": 9,
   "metadata": {},
   "outputs": [
    {
     "data": {
      "text/plain": [
       "(array([43094., 12010., 10609.,  2930.,   811.,  1421.,  2853.,  1197.,\n",
       "         1047.,   734.]),\n",
       " array([0. , 0.9, 1.8, 2.7, 3.6, 4.5, 5.4, 6.3, 7.2, 8.1, 9. ]),\n",
       " <a list of 10 Patch objects>)"
      ]
     },
     "execution_count": 9,
     "metadata": {},
     "output_type": "execute_result"
    },
    {
     "data": {
      "image/png": "[encoded data removed]",
      "text/plain": [
       "<Figure size 432x288 with 1 Axes>"
      ]
     },
     "metadata": {
      "needs_background": "light"
     },
     "output_type": "display_data"
    }
   ],
   "source": [
    "plt.hist(df[\"total_points\"])"
   ]
  },
  {
   "cell_type": "code",
   "execution_count": 10,
   "metadata": {},
   "outputs": [],
   "source": [
    "distribution_df = pd.DataFrame();"
   ]
  },
  {
   "cell_type": "code",
   "execution_count": 11,
   "metadata": {},
   "outputs": [],
   "source": [
    "distribution_df[\"points\"] = np.unique(df[\"total_points\"])"
   ]
  },
  {
   "cell_type": "code",
   "execution_count": 12,
   "metadata": {},
   "outputs": [],
   "source": [
    "def countPoints(point):\n",
    "    return df[df[\"total_points\"] == point].shape[0]"
   ]
  },
  {
   "cell_type": "code",
   "execution_count": 13,
   "metadata": {},
   "outputs": [],
   "source": [
    "distribution_df[\"data_count\"] = distribution_df[\"points\"].apply(lambda point: countPoints(point))"
   ]
  },
  {
   "cell_type": "code",
   "execution_count": 14,
   "metadata": {},
   "outputs": [],
   "source": [
    "distribution_df[\"data_percent\"] = distribution_df[\"data_count\"].apply(lambda count: round(count / df.shape[0] * 100, 3))"
   ]
  },
  {
   "cell_type": "code",
   "execution_count": 15,
   "metadata": {
    "scrolled": true
   },
   "outputs": [
    {
     "data": {
      "text/html": [
       "<div>\n",
       "<style scoped>\n",
       "    .dataframe tbody tr th:only-of-type {\n",
       "        vertical-align: middle;\n",
       "    }\n",
       "\n",
       "    .dataframe tbody tr th {\n",
       "        vertical-align: top;\n",
       "    }\n",
       "\n",
       "    .dataframe thead th {\n",
       "        text-align: right;\n",
       "    }\n",
       "</style>\n",
       "<table border=\"1\" class=\"dataframe\">\n",
       "  <thead>\n",
       "    <tr style=\"text-align: right;\">\n",
       "      <th></th>\n",
       "      <th>points</th>\n",
       "      <th>data_count</th>\n",
       "      <th>data_percent</th>\n",
       "    </tr>\n",
       "  </thead>\n",
       "  <tbody>\n",
       "    <tr>\n",
       "      <th>0</th>\n",
       "      <td>0.0</td>\n",
       "      <td>43094</td>\n",
       "      <td>56.181</td>\n",
       "    </tr>\n",
       "    <tr>\n",
       "      <th>1</th>\n",
       "      <td>1.0</td>\n",
       "      <td>12010</td>\n",
       "      <td>15.657</td>\n",
       "    </tr>\n",
       "    <tr>\n",
       "      <th>2</th>\n",
       "      <td>2.0</td>\n",
       "      <td>10609</td>\n",
       "      <td>13.831</td>\n",
       "    </tr>\n",
       "    <tr>\n",
       "      <th>3</th>\n",
       "      <td>3.0</td>\n",
       "      <td>2930</td>\n",
       "      <td>3.820</td>\n",
       "    </tr>\n",
       "    <tr>\n",
       "      <th>4</th>\n",
       "      <td>4.0</td>\n",
       "      <td>811</td>\n",
       "      <td>1.057</td>\n",
       "    </tr>\n",
       "    <tr>\n",
       "      <th>5</th>\n",
       "      <td>5.0</td>\n",
       "      <td>1421</td>\n",
       "      <td>1.853</td>\n",
       "    </tr>\n",
       "    <tr>\n",
       "      <th>6</th>\n",
       "      <td>6.0</td>\n",
       "      <td>2853</td>\n",
       "      <td>3.719</td>\n",
       "    </tr>\n",
       "    <tr>\n",
       "      <th>7</th>\n",
       "      <td>7.0</td>\n",
       "      <td>1197</td>\n",
       "      <td>1.561</td>\n",
       "    </tr>\n",
       "    <tr>\n",
       "      <th>8</th>\n",
       "      <td>8.0</td>\n",
       "      <td>1047</td>\n",
       "      <td>1.365</td>\n",
       "    </tr>\n",
       "    <tr>\n",
       "      <th>9</th>\n",
       "      <td>9.0</td>\n",
       "      <td>734</td>\n",
       "      <td>0.957</td>\n",
       "    </tr>\n",
       "  </tbody>\n",
       "</table>\n",
       "</div>"
      ],
      "text/plain": [
       "   points  data_count  data_percent\n",
       "0     0.0       43094        56.181\n",
       "1     1.0       12010        15.657\n",
       "2     2.0       10609        13.831\n",
       "3     3.0        2930         3.820\n",
       "4     4.0         811         1.057\n",
       "5     5.0        1421         1.853\n",
       "6     6.0        2853         3.719\n",
       "7     7.0        1197         1.561\n",
       "8     8.0        1047         1.365\n",
       "9     9.0         734         0.957"
      ]
     },
     "execution_count": 15,
     "metadata": {},
     "output_type": "execute_result"
    }
   ],
   "source": [
    "distribution_df"
   ]
  },
  {
   "cell_type": "code",
   "execution_count": 16,
   "metadata": {},
   "outputs": [],
   "source": [
    "imputer = KNNImputer()"
   ]
  },
  {
   "cell_type": "code",
   "execution_count": 17,
   "metadata": {},
   "outputs": [],
   "source": [
    "outlier_threshold = 500;"
   ]
  },
  {
   "cell_type": "code",
   "execution_count": 18,
   "metadata": {},
   "outputs": [],
   "source": [
    "outlier_points = list(distribution_df[distribution_df[\"data_count\"] <= outlier_threshold][\"points\"])"
   ]
  },
  {
   "cell_type": "code",
   "execution_count": 19,
   "metadata": {},
   "outputs": [],
   "source": [
    "def impute_outlier(outlier_points):\n",
    "    for point in outlier_points:\n",
    "        total_points = \"total_points\";\n",
    "        player_id = \"player_id\";\n",
    "        opponent_id = \"opponent_id\";\n",
    "        at_home = \"at_home\";\n",
    "        season = \"season\";\n",
    "        gw = \"GW\";\n",
    "\n",
    "        # get the overall df based on the current outlier point\n",
    "        overall_df = df[df[total_points] == point];\n",
    "\n",
    "        for index, row in overall_df.iterrows():\n",
    "            cond1 = (df[player_id] == row[player_id]) & (df[opponent_id] == row[opponent_id]) & (df[at_home] == row[at_home])\n",
    "            cond2 = (df[player_id] == row[player_id]) & (df[opponent_id] == row[opponent_id])\n",
    "            cond3 = (df[player_id] == row[player_id])\n",
    "\n",
    "            lookup_df = df[cond1]\n",
    "            cond = cond1\n",
    "            impute_cond = 1\n",
    "\n",
    "            if lookup_df.shape[0] == 1 or len(np.unique(list(lookup_df[total_points]))) == 1:\n",
    "                lookup_df = df[cond2]\n",
    "                cond = cond2\n",
    "                impute_cond = 2\n",
    "            if lookup_df.shape[0] == 1 or len(np.unique(list(lookup_df[total_points]))) == 1:\n",
    "                lookup_df = df[cond3]\n",
    "                cond = cond3\n",
    "                impute_cond = 3\n",
    "            if lookup_df.shape[0] == 1 or len(np.unique(list(lookup_df[total_points]))) == 1:\n",
    "                break;\n",
    "\n",
    "            # set the total point at that index to null\n",
    "            df.at[index, total_points] = None\n",
    "            lookup_df = df[cond]\n",
    "\n",
    "            impute_df = pd.DataFrame(data=imputer.fit_transform(lookup_df), columns=df.columns)\n",
    "            full_cond_impute_df = (impute_df[season] == row[season]) & (impute_df[gw] == row[gw]);\n",
    "\n",
    "            if impute_cond == 1:\n",
    "                full_cond_impute_df = full_cond_impute_df & (impute_df[player_id] == row[player_id]) & (impute_df[opponent_id] == row[opponent_id]) & (impute_df[at_home] == row[at_home])\n",
    "            elif impute_cond == 2:\n",
    "                full_cond_impute_df = full_cond_impute_df & (impute_df[player_id] == row[player_id]) & (impute_df[opponent_id] == row[opponent_id])\n",
    "            elif impute_cond == 3:\n",
    "                full_cond_impute_df = full_cond_impute_df & (impute_df[player_id] == row[player_id])\n",
    "\n",
    "            full_cond_df = (cond) & (df[season] == row[season]) & (df[gw] == row[gw])\n",
    "            df.loc[full_cond_df, total_points] = round(impute_df[full_cond_impute_df].iloc[0][total_points], 0)\n",
    "\n",
    "        print(\"Done imputing outlier point {}\".format(point));"
   ]
  },
  {
   "cell_type": "code",
   "execution_count": 20,
   "metadata": {},
   "outputs": [],
   "source": [
    "def refresh_distribution():\n",
    "    distribution_df = pd.DataFrame();\n",
    "    distribution_df[\"points\"] = np.unique(df[\"total_points\"])\n",
    "    distribution_df[\"data_count\"] = distribution_df[\"points\"].apply(lambda point: countPoints(point))\n",
    "    distribution_df[\"data_percent\"] = distribution_df[\"data_count\"].apply(lambda count: round(count / df.shape[0] * 100, 3));\n",
    "    return distribution_df;"
   ]
  },
  {
   "cell_type": "code",
   "execution_count": 21,
   "metadata": {},
   "outputs": [],
   "source": [
    "while len(outlier_points) > 0:\n",
    "    print(\"Current outlier points: \", outlier_points);\n",
    "    if (len(outlier_points) == 1):\n",
    "        outlier = outlier_points[0]\n",
    "        df = df[df[\"total_points\"] != outlier]\n",
    "    else: \n",
    "        impute_outlier(outlier_points);\n",
    "        distribution_df = refresh_distribution();\n",
    "        outlier_points = list(distribution_df[distribution_df[\"data_count\"] <= outlier_threshold][\"points\"])"
   ]
  },
  {
   "cell_type": "code",
   "execution_count": 23,
   "metadata": {},
   "outputs": [],
   "source": [
    "distribution_df = refresh_distribution();"
   ]
  },
  {
   "cell_type": "code",
   "execution_count": 24,
   "metadata": {},
   "outputs": [
    {
     "data": {
      "text/html": [
       "<div>\n",
       "<style scoped>\n",
       "    .dataframe tbody tr th:only-of-type {\n",
       "        vertical-align: middle;\n",
       "    }\n",
       "\n",
       "    .dataframe tbody tr th {\n",
       "        vertical-align: top;\n",
       "    }\n",
       "\n",
       "    .dataframe thead th {\n",
       "        text-align: right;\n",
       "    }\n",
       "</style>\n",
       "<table border=\"1\" class=\"dataframe\">\n",
       "  <thead>\n",
       "    <tr style=\"text-align: right;\">\n",
       "      <th></th>\n",
       "      <th>points</th>\n",
       "      <th>data_count</th>\n",
       "      <th>data_percent</th>\n",
       "    </tr>\n",
       "  </thead>\n",
       "  <tbody>\n",
       "    <tr>\n",
       "      <th>0</th>\n",
       "      <td>0.0</td>\n",
       "      <td>43094</td>\n",
       "      <td>56.181</td>\n",
       "    </tr>\n",
       "    <tr>\n",
       "      <th>1</th>\n",
       "      <td>1.0</td>\n",
       "      <td>12010</td>\n",
       "      <td>15.657</td>\n",
       "    </tr>\n",
       "    <tr>\n",
       "      <th>2</th>\n",
       "      <td>2.0</td>\n",
       "      <td>10609</td>\n",
       "      <td>13.831</td>\n",
       "    </tr>\n",
       "    <tr>\n",
       "      <th>3</th>\n",
       "      <td>3.0</td>\n",
       "      <td>2930</td>\n",
       "      <td>3.820</td>\n",
       "    </tr>\n",
       "    <tr>\n",
       "      <th>4</th>\n",
       "      <td>4.0</td>\n",
       "      <td>811</td>\n",
       "      <td>1.057</td>\n",
       "    </tr>\n",
       "    <tr>\n",
       "      <th>5</th>\n",
       "      <td>5.0</td>\n",
       "      <td>1421</td>\n",
       "      <td>1.853</td>\n",
       "    </tr>\n",
       "    <tr>\n",
       "      <th>6</th>\n",
       "      <td>6.0</td>\n",
       "      <td>2853</td>\n",
       "      <td>3.719</td>\n",
       "    </tr>\n",
       "    <tr>\n",
       "      <th>7</th>\n",
       "      <td>7.0</td>\n",
       "      <td>1197</td>\n",
       "      <td>1.561</td>\n",
       "    </tr>\n",
       "    <tr>\n",
       "      <th>8</th>\n",
       "      <td>8.0</td>\n",
       "      <td>1047</td>\n",
       "      <td>1.365</td>\n",
       "    </tr>\n",
       "    <tr>\n",
       "      <th>9</th>\n",
       "      <td>9.0</td>\n",
       "      <td>734</td>\n",
       "      <td>0.957</td>\n",
       "    </tr>\n",
       "  </tbody>\n",
       "</table>\n",
       "</div>"
      ],
      "text/plain": [
       "   points  data_count  data_percent\n",
       "0     0.0       43094        56.181\n",
       "1     1.0       12010        15.657\n",
       "2     2.0       10609        13.831\n",
       "3     3.0        2930         3.820\n",
       "4     4.0         811         1.057\n",
       "5     5.0        1421         1.853\n",
       "6     6.0        2853         3.719\n",
       "7     7.0        1197         1.561\n",
       "8     8.0        1047         1.365\n",
       "9     9.0         734         0.957"
      ]
     },
     "execution_count": 24,
     "metadata": {},
     "output_type": "execute_result"
    }
   ],
   "source": [
    "distribution_df"
   ]
  },
  {
   "cell_type": "code",
   "execution_count": 25,
   "metadata": {},
   "outputs": [
    {
     "data": {
      "text/plain": [
       "<matplotlib.axes._subplots.AxesSubplot at 0x12c507c50>"
      ]
     },
     "execution_count": 25,
     "metadata": {},
     "output_type": "execute_result"
    },
    {
     "data": {
      "image/png": "[encoded data removed]",
      "text/plain": [
       "<Figure size 432x288 with 1 Axes>"
      ]
     },
     "metadata": {
      "needs_background": "light"
     },
     "output_type": "display_data"
    }
   ],
   "source": [
    "sns.boxplot(x=df['total_points'])"
   ]
  },
  {
   "cell_type": "code",
   "execution_count": 26,
   "metadata": {},
   "outputs": [
    {
     "data": {
      "text/plain": [
       "(76706, 89)"
      ]
     },
     "execution_count": 26,
     "metadata": {},
     "output_type": "execute_result"
    }
   ],
   "source": [
    "df.shape"
   ]
  },
  {
   "cell_type": "code",
   "execution_count": 27,
   "metadata": {},
   "outputs": [],
   "source": [
    "df.to_csv(\"combined-season-data.csv\", index=False);\n",
    "df.to_csv(\"combined-season-data-impute.csv\", index=False);"
   ]
  }
 ],
 "metadata": {
  "kernelspec": {
   "display_name": "Python 3",
   "language": "python",
   "name": "python3"
  },
  "language_info": {
   "codemirror_mode": {
    "name": "ipython",
    "version": 3
   },
   "file_extension": ".py",
   "mimetype": "text/x-python",
   "name": "python",
   "nbconvert_exporter": "python",
   "pygments_lexer": "ipython3",
   "version": "3.7.2"
  }
 },
 "nbformat": 4,
 "nbformat_minor": 2
}
