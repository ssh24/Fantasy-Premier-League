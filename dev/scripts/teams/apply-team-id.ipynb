{
 "cells": [
  {
   "cell_type": "markdown",
   "metadata": {},
   "source": [
    "### Apply team id for each player (Step 9)\n",
    "#### Author: S. Sakib Hasan"
   ]
  },
  {
   "cell_type": "code",
   "execution_count": 1,
   "metadata": {},
   "outputs": [],
   "source": [
    "import os\n",
    "import pandas as pd\n",
    "import numpy as np\n",
    "import re"
   ]
  },
  {
   "cell_type": "code",
   "execution_count": 2,
   "metadata": {},
   "outputs": [],
   "source": [
    "os.chdir(os.path.join(os.getcwd(), \"..\", \"..\", \"data\"))"
   ]
  },
  {
   "cell_type": "code",
   "execution_count": 3,
   "metadata": {},
   "outputs": [],
   "source": [
    "seasons = [\"2016\", \"2017\", \"2018\", \"2019\"];"
   ]
  },
  {
   "cell_type": "code",
   "execution_count": 4,
   "metadata": {},
   "outputs": [],
   "source": [
    "def getTeamId(row, fixtures):\n",
    "    player_id = row[\"player_id\"];\n",
    "    at_home = row[\"at_home\"];\n",
    "    opponent_id = row[\"opponent_id\"];\n",
    "    gw = row[\"GW\"];\n",
    "    \n",
    "    # if at_home -> 0, you are not at home = so you opponent is at home\n",
    "    col_to_find = \"HT_id\" if (at_home == 0) else \"AT_id\"\n",
    "    col_to_get = \"AT_id\" if (at_home == 0) else \"HT_id\"\n",
    "    \n",
    "    try:\n",
    "        team_id = fixtures[(fixtures[\"Round Number\"] == gw) & (fixtures[col_to_find] == opponent_id)][col_to_get].iloc[0]\n",
    "        player_team_map[player_id] = team_id;\n",
    "        return team_id;\n",
    "    except:\n",
    "        return player_team_map[player_id]"
   ]
  },
  {
   "cell_type": "code",
   "execution_count": 5,
   "metadata": {},
   "outputs": [
    {
     "name": "stdout",
     "output_type": "stream",
     "text": [
      "Done season 2016\n",
      "Done season 2017\n",
      "Done season 2018\n",
      "Done season 2019\n"
     ]
    }
   ],
   "source": [
    "for season in seasons:\n",
    "    player_team_map = {}\n",
    "    df = pd.read_csv(\"{}-prepared-data.csv\".format(season), index_col=False);\n",
    "    fixtures = pd.read_csv(\"fixtures-{}.csv\".format(season));\n",
    "    df[\"team_id\"] = df.apply(lambda row: getTeamId(row, fixtures), axis=1)\n",
    "    df.to_csv(\"{}-prepared-data.csv\".format(season), index=False);\n",
    "    print(\"Done season {}\".format(season));"
   ]
  }
 ],
 "metadata": {
  "kernelspec": {
   "display_name": "Python 3",
   "language": "python",
   "name": "python3"
  },
  "language_info": {
   "codemirror_mode": {
    "name": "ipython",
    "version": 3
   },
   "file_extension": ".py",
   "mimetype": "text/x-python",
   "name": "python",
   "nbconvert_exporter": "python",
   "pygments_lexer": "ipython3",
   "version": "3.7.2"
  }
 },
 "nbformat": 4,
 "nbformat_minor": 2
}
