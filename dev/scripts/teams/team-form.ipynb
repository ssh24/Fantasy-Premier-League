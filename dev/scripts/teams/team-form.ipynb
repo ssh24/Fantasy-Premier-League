{
 "cells": [
  {
   "cell_type": "markdown",
   "metadata": {},
   "source": [
    "### Generate team form data (Step 11)\n",
    "#### Author: S. Sakib Hasan"
   ]
  },
  {
   "cell_type": "code",
   "execution_count": 1,
   "metadata": {},
   "outputs": [],
   "source": [
    "import os\n",
    "import pandas as pd\n",
    "import numpy as np\n",
    "import warnings\n",
    "import time\n",
    "from scipy import stats"
   ]
  },
  {
   "cell_type": "code",
   "execution_count": 2,
   "metadata": {},
   "outputs": [],
   "source": [
    "os.chdir(os.path.join(os.getcwd(), \"..\", \"..\", \"data\"));"
   ]
  },
  {
   "cell_type": "code",
   "execution_count": 3,
   "metadata": {},
   "outputs": [],
   "source": [
    "df = pd.read_csv(\"combined-season-data.csv\");"
   ]
  },
  {
   "cell_type": "code",
   "execution_count": 4,
   "metadata": {},
   "outputs": [
    {
     "data": {
      "text/plain": [
       "Index(['season', 'GW', 'at_home', 'player_id', 'opponent_id', 'champion_ls',\n",
       "       'top5_ls', 'bottom5_ls', 'promoted_ts', 'assists', 'assists_pgw',\n",
       "       'bonus', 'bonus_pgw', 'bps', 'bps_pgw', 'clean_sheets',\n",
       "       'clean_sheets_pgw', 'creativity', 'creativity_pgw', 'goals_conceded',\n",
       "       'goals_conceded_pgw', 'goals_scored', 'goals_scored_pgw', 'ict_index',\n",
       "       'ict_index_pgw', 'influence', 'influence_pgw', 'minutes', 'minutes_pgw',\n",
       "       'own_goals', 'own_goals_pgw', 'penalties_missed',\n",
       "       'penalties_missed_pgw', 'penalties_saved', 'penalties_saved_pgw',\n",
       "       'red_cards', 'red_cards_pgw', 'result', 'result_pgw', 'saves',\n",
       "       'saves_pgw', 'threat', 'threat_pgw', 'yellow_cards', 'yellow_cards_pgw',\n",
       "       'total_points_pgw', 'total_points', 'team_id'],\n",
       "      dtype='object')"
      ]
     },
     "execution_count": 4,
     "metadata": {},
     "output_type": "execute_result"
    }
   ],
   "source": [
    "df.columns"
   ]
  },
  {
   "cell_type": "code",
   "execution_count": 5,
   "metadata": {},
   "outputs": [
    {
     "data": {
      "text/html": [
       "<div>\n",
       "<style scoped>\n",
       "    .dataframe tbody tr th:only-of-type {\n",
       "        vertical-align: middle;\n",
       "    }\n",
       "\n",
       "    .dataframe tbody tr th {\n",
       "        vertical-align: top;\n",
       "    }\n",
       "\n",
       "    .dataframe thead th {\n",
       "        text-align: right;\n",
       "    }\n",
       "</style>\n",
       "<table border=\"1\" class=\"dataframe\">\n",
       "  <thead>\n",
       "    <tr style=\"text-align: right;\">\n",
       "      <th></th>\n",
       "      <th>season</th>\n",
       "      <th>GW</th>\n",
       "      <th>at_home</th>\n",
       "      <th>player_id</th>\n",
       "      <th>opponent_id</th>\n",
       "      <th>champion_ls</th>\n",
       "      <th>top5_ls</th>\n",
       "      <th>bottom5_ls</th>\n",
       "      <th>promoted_ts</th>\n",
       "      <th>assists</th>\n",
       "      <th>...</th>\n",
       "      <th>result_pgw</th>\n",
       "      <th>saves</th>\n",
       "      <th>saves_pgw</th>\n",
       "      <th>threat</th>\n",
       "      <th>threat_pgw</th>\n",
       "      <th>yellow_cards</th>\n",
       "      <th>yellow_cards_pgw</th>\n",
       "      <th>total_points_pgw</th>\n",
       "      <th>total_points</th>\n",
       "      <th>team_id</th>\n",
       "    </tr>\n",
       "  </thead>\n",
       "  <tbody>\n",
       "    <tr>\n",
       "      <th>0</th>\n",
       "      <td>2016</td>\n",
       "      <td>1</td>\n",
       "      <td>0</td>\n",
       "      <td>1</td>\n",
       "      <td>4</td>\n",
       "      <td>0</td>\n",
       "      <td>0</td>\n",
       "      <td>0</td>\n",
       "      <td>0</td>\n",
       "      <td>0</td>\n",
       "      <td>...</td>\n",
       "      <td>0.0</td>\n",
       "      <td>0</td>\n",
       "      <td>0.0</td>\n",
       "      <td>0.0</td>\n",
       "      <td>0.0</td>\n",
       "      <td>0</td>\n",
       "      <td>0.0</td>\n",
       "      <td>0.0</td>\n",
       "      <td>0</td>\n",
       "      <td>20</td>\n",
       "    </tr>\n",
       "    <tr>\n",
       "      <th>1</th>\n",
       "      <td>2016</td>\n",
       "      <td>1</td>\n",
       "      <td>1</td>\n",
       "      <td>2</td>\n",
       "      <td>17</td>\n",
       "      <td>0</td>\n",
       "      <td>1</td>\n",
       "      <td>0</td>\n",
       "      <td>0</td>\n",
       "      <td>0</td>\n",
       "      <td>...</td>\n",
       "      <td>0.0</td>\n",
       "      <td>0</td>\n",
       "      <td>0.0</td>\n",
       "      <td>0.0</td>\n",
       "      <td>0.0</td>\n",
       "      <td>0</td>\n",
       "      <td>0.0</td>\n",
       "      <td>0.0</td>\n",
       "      <td>1</td>\n",
       "      <td>6</td>\n",
       "    </tr>\n",
       "    <tr>\n",
       "      <th>2</th>\n",
       "      <td>2016</td>\n",
       "      <td>1</td>\n",
       "      <td>1</td>\n",
       "      <td>4</td>\n",
       "      <td>9</td>\n",
       "      <td>0</td>\n",
       "      <td>0</td>\n",
       "      <td>0</td>\n",
       "      <td>0</td>\n",
       "      <td>0</td>\n",
       "      <td>...</td>\n",
       "      <td>0.0</td>\n",
       "      <td>0</td>\n",
       "      <td>0.0</td>\n",
       "      <td>23.0</td>\n",
       "      <td>0.0</td>\n",
       "      <td>0</td>\n",
       "      <td>0.0</td>\n",
       "      <td>0.0</td>\n",
       "      <td>2</td>\n",
       "      <td>1</td>\n",
       "    </tr>\n",
       "    <tr>\n",
       "      <th>3</th>\n",
       "      <td>2016</td>\n",
       "      <td>1</td>\n",
       "      <td>0</td>\n",
       "      <td>6</td>\n",
       "      <td>13</td>\n",
       "      <td>0</td>\n",
       "      <td>0</td>\n",
       "      <td>0</td>\n",
       "      <td>0</td>\n",
       "      <td>0</td>\n",
       "      <td>...</td>\n",
       "      <td>0.0</td>\n",
       "      <td>0</td>\n",
       "      <td>0.0</td>\n",
       "      <td>0.0</td>\n",
       "      <td>0.0</td>\n",
       "      <td>0</td>\n",
       "      <td>0.0</td>\n",
       "      <td>0.0</td>\n",
       "      <td>0</td>\n",
       "      <td>18</td>\n",
       "    </tr>\n",
       "    <tr>\n",
       "      <th>4</th>\n",
       "      <td>2016</td>\n",
       "      <td>1</td>\n",
       "      <td>1</td>\n",
       "      <td>7</td>\n",
       "      <td>20</td>\n",
       "      <td>0</td>\n",
       "      <td>0</td>\n",
       "      <td>0</td>\n",
       "      <td>0</td>\n",
       "      <td>0</td>\n",
       "      <td>...</td>\n",
       "      <td>0.0</td>\n",
       "      <td>0</td>\n",
       "      <td>0.0</td>\n",
       "      <td>0.0</td>\n",
       "      <td>0.0</td>\n",
       "      <td>0</td>\n",
       "      <td>0.0</td>\n",
       "      <td>0.0</td>\n",
       "      <td>0</td>\n",
       "      <td>4</td>\n",
       "    </tr>\n",
       "  </tbody>\n",
       "</table>\n",
       "<p>5 rows × 48 columns</p>\n",
       "</div>"
      ],
      "text/plain": [
       "   season  GW  at_home  player_id  opponent_id  champion_ls  top5_ls  \\\n",
       "0    2016   1        0          1            4            0        0   \n",
       "1    2016   1        1          2           17            0        1   \n",
       "2    2016   1        1          4            9            0        0   \n",
       "3    2016   1        0          6           13            0        0   \n",
       "4    2016   1        1          7           20            0        0   \n",
       "\n",
       "   bottom5_ls  promoted_ts  assists  ...  result_pgw  saves  saves_pgw  \\\n",
       "0           0            0        0  ...         0.0      0        0.0   \n",
       "1           0            0        0  ...         0.0      0        0.0   \n",
       "2           0            0        0  ...         0.0      0        0.0   \n",
       "3           0            0        0  ...         0.0      0        0.0   \n",
       "4           0            0        0  ...         0.0      0        0.0   \n",
       "\n",
       "   threat  threat_pgw  yellow_cards  yellow_cards_pgw  total_points_pgw  \\\n",
       "0     0.0         0.0             0               0.0               0.0   \n",
       "1     0.0         0.0             0               0.0               0.0   \n",
       "2    23.0         0.0             0               0.0               0.0   \n",
       "3     0.0         0.0             0               0.0               0.0   \n",
       "4     0.0         0.0             0               0.0               0.0   \n",
       "\n",
       "   total_points  team_id  \n",
       "0             0       20  \n",
       "1             1        6  \n",
       "2             2        1  \n",
       "3             0       18  \n",
       "4             0        4  \n",
       "\n",
       "[5 rows x 48 columns]"
      ]
     },
     "execution_count": 5,
     "metadata": {},
     "output_type": "execute_result"
    }
   ],
   "source": [
    "df.head()"
   ]
  },
  {
   "cell_type": "code",
   "execution_count": 6,
   "metadata": {},
   "outputs": [],
   "source": [
    "team_gws = 4;"
   ]
  },
  {
   "cell_type": "code",
   "execution_count": 7,
   "metadata": {},
   "outputs": [],
   "source": [
    "seasons = np.unique(df[\"season\"])"
   ]
  },
  {
   "cell_type": "code",
   "execution_count": 8,
   "metadata": {},
   "outputs": [],
   "source": [
    "team_opponent = [\"team\", \"opponent\"]"
   ]
  },
  {
   "cell_type": "code",
   "execution_count": 9,
   "metadata": {},
   "outputs": [
    {
     "name": "stdout",
     "output_type": "stream",
     "text": [
      "Getting form data for: team\n",
      "Done team 1\n",
      "Done team 2\n",
      "Done team 3\n",
      "Done team 4\n",
      "Done team 5\n",
      "Done team 6\n"
     ]
    },
    {
     "name": "stderr",
     "output_type": "stream",
     "text": [
      "/usr/local/lib/python3.7/site-packages/numpy/core/fromnumeric.py:2920: RuntimeWarning: Mean of empty slice.\n",
      "  out=out, **kwargs)\n",
      "/usr/local/lib/python3.7/site-packages/numpy/core/_methods.py:85: RuntimeWarning: invalid value encountered in double_scalars\n",
      "  ret = ret.dtype.type(ret / rcount)\n"
     ]
    },
    {
     "name": "stdout",
     "output_type": "stream",
     "text": [
      "Done team 7\n",
      "Done team 8\n",
      "Done team 9\n",
      "Done team 10\n",
      "Done team 11\n",
      "Done team 12\n",
      "Done team 13\n",
      "Done team 14\n",
      "Done team 15\n",
      "Done team 16\n",
      "Done team 17\n",
      "Done team 18\n",
      "Done team 19\n",
      "Done team 20\n",
      "Done team 21\n",
      "Done team 22\n",
      "Done team 23\n",
      "Done team 24\n",
      "Done team 25\n",
      "Done team 26\n",
      "Done team 27\n",
      "Done team 28\n",
      "Done team 29\n",
      "Getting form data for: opponent\n",
      "Done team 1\n",
      "Done team 2\n",
      "Done team 3\n",
      "Done team 4\n",
      "Done team 5\n",
      "Done team 6\n",
      "Done team 7\n",
      "Done team 8\n",
      "Done team 9\n",
      "Done team 10\n",
      "Done team 11\n",
      "Done team 12\n",
      "Done team 13\n",
      "Done team 14\n",
      "Done team 15\n",
      "Done team 16\n",
      "Done team 17\n",
      "Done team 18\n",
      "Done team 19\n",
      "Done team 20\n",
      "Done team 21\n",
      "Done team 22\n",
      "Done team 23\n",
      "Done team 24\n",
      "Done team 25\n",
      "Done team 26\n",
      "Done team 27\n",
      "Done team 28\n",
      "Done team 29\n"
     ]
    }
   ],
   "source": [
    "for team_oppo in team_opponent:\n",
    "    print(\"Getting form data for: {}\".format(team_oppo));\n",
    "    team_ids = np.unique(df[\"{}_id\".format(team_oppo)])\n",
    "    \n",
    "    for team in team_ids:\n",
    "        for season in seasons:\n",
    "            gws = np.unique(df[df[\"season\"] == season][\"GW\"])\n",
    "            for i in range(len(gws)):\n",
    "                gw = gws[i]\n",
    "                sub_df = df[(df[\"{}_id\".format(team_oppo)] == team) & (df[\"season\"] == season) & (df[\"GW\"] == gw)]\n",
    "                indexes = list(sub_df.index)\n",
    "\n",
    "                if (i < team_gws):\n",
    "                    df.loc[(df[\"{}_id\".format(team_oppo)] == team) & (df[\"season\"] == season) & (df[\"GW\"] == gw), \n",
    "                           '{}_form'.format(team_oppo)] = 0;\n",
    "                else:\n",
    "                    gws_to_look = np.arange((gw-team_gws), gw);\n",
    "                    results = []\n",
    "                    for gw_ in gws_to_look:\n",
    "                        result_gw = np.unique(df[(df[\"{}_id\".format(team_oppo)] == team) & (df[\"season\"] == season) & \n",
    "                                       (df[\"GW\"] == gw_)][\"result\"])\n",
    "                        for res in result_gw:\n",
    "                            results.append(res);\n",
    "                    avg_form = np.mean(results);\n",
    "                    df.loc[(df[\"{}_id\".format(team_oppo)] == team) & (df[\"season\"] == season) & (df[\"GW\"] == gw), \n",
    "                           '{}_form'.format(team_oppo)] = avg_form;\n",
    "\n",
    "        print(\"Done team {}\".format(team))"
   ]
  },
  {
   "cell_type": "code",
   "execution_count": 10,
   "metadata": {},
   "outputs": [],
   "source": [
    "df_cols = list(np.unique(df.columns))"
   ]
  },
  {
   "cell_type": "code",
   "execution_count": 11,
   "metadata": {},
   "outputs": [],
   "source": [
    "main_cols = ['season', 'GW', 'at_home', 'player_id', 'team_id', 'opponent_id', 'champion_ls',\n",
    "       'top5_ls', 'bottom5_ls', 'promoted_ts', 'total_points']"
   ]
  },
  {
   "cell_type": "code",
   "execution_count": 12,
   "metadata": {},
   "outputs": [],
   "source": [
    "target_col = [\"total_points\"]"
   ]
  },
  {
   "cell_type": "code",
   "execution_count": 13,
   "metadata": {},
   "outputs": [],
   "source": [
    "cols = [item for item in df_cols if item not in main_cols]"
   ]
  },
  {
   "cell_type": "code",
   "execution_count": 14,
   "metadata": {},
   "outputs": [],
   "source": [
    "cols.sort()"
   ]
  },
  {
   "cell_type": "code",
   "execution_count": 15,
   "metadata": {
    "scrolled": true
   },
   "outputs": [
    {
     "data": {
      "text/plain": [
       "'total_points'"
      ]
     },
     "execution_count": 15,
     "metadata": {},
     "output_type": "execute_result"
    }
   ],
   "source": [
    "main_cols.pop()"
   ]
  },
  {
   "cell_type": "code",
   "execution_count": 16,
   "metadata": {},
   "outputs": [],
   "source": [
    "final_cols = main_cols + cols + target_col"
   ]
  },
  {
   "cell_type": "code",
   "execution_count": 17,
   "metadata": {},
   "outputs": [
    {
     "data": {
      "text/plain": [
       "['season',\n",
       " 'GW',\n",
       " 'at_home',\n",
       " 'player_id',\n",
       " 'team_id',\n",
       " 'opponent_id',\n",
       " 'champion_ls',\n",
       " 'top5_ls',\n",
       " 'bottom5_ls',\n",
       " 'promoted_ts',\n",
       " 'assists',\n",
       " 'assists_pgw',\n",
       " 'bonus',\n",
       " 'bonus_pgw',\n",
       " 'bps',\n",
       " 'bps_pgw',\n",
       " 'clean_sheets',\n",
       " 'clean_sheets_pgw',\n",
       " 'creativity',\n",
       " 'creativity_pgw',\n",
       " 'goals_conceded',\n",
       " 'goals_conceded_pgw',\n",
       " 'goals_scored',\n",
       " 'goals_scored_pgw',\n",
       " 'ict_index',\n",
       " 'ict_index_pgw',\n",
       " 'influence',\n",
       " 'influence_pgw',\n",
       " 'minutes',\n",
       " 'minutes_pgw',\n",
       " 'opponent_form',\n",
       " 'own_goals',\n",
       " 'own_goals_pgw',\n",
       " 'penalties_missed',\n",
       " 'penalties_missed_pgw',\n",
       " 'penalties_saved',\n",
       " 'penalties_saved_pgw',\n",
       " 'red_cards',\n",
       " 'red_cards_pgw',\n",
       " 'result',\n",
       " 'result_pgw',\n",
       " 'saves',\n",
       " 'saves_pgw',\n",
       " 'team_form',\n",
       " 'threat',\n",
       " 'threat_pgw',\n",
       " 'total_points_pgw',\n",
       " 'yellow_cards',\n",
       " 'yellow_cards_pgw',\n",
       " 'total_points']"
      ]
     },
     "execution_count": 17,
     "metadata": {},
     "output_type": "execute_result"
    }
   ],
   "source": [
    "final_cols"
   ]
  },
  {
   "cell_type": "code",
   "execution_count": 18,
   "metadata": {},
   "outputs": [],
   "source": [
    "df = df[final_cols]"
   ]
  },
  {
   "cell_type": "code",
   "execution_count": 19,
   "metadata": {},
   "outputs": [
    {
     "data": {
      "text/plain": [
       "(72784, 50)"
      ]
     },
     "execution_count": 19,
     "metadata": {},
     "output_type": "execute_result"
    }
   ],
   "source": [
    "df.shape"
   ]
  },
  {
   "cell_type": "code",
   "execution_count": 20,
   "metadata": {},
   "outputs": [
    {
     "data": {
      "text/html": [
       "<div>\n",
       "<style scoped>\n",
       "    .dataframe tbody tr th:only-of-type {\n",
       "        vertical-align: middle;\n",
       "    }\n",
       "\n",
       "    .dataframe tbody tr th {\n",
       "        vertical-align: top;\n",
       "    }\n",
       "\n",
       "    .dataframe thead th {\n",
       "        text-align: right;\n",
       "    }\n",
       "</style>\n",
       "<table border=\"1\" class=\"dataframe\">\n",
       "  <thead>\n",
       "    <tr style=\"text-align: right;\">\n",
       "      <th></th>\n",
       "      <th>season</th>\n",
       "      <th>GW</th>\n",
       "      <th>at_home</th>\n",
       "      <th>player_id</th>\n",
       "      <th>team_id</th>\n",
       "      <th>opponent_id</th>\n",
       "      <th>champion_ls</th>\n",
       "      <th>top5_ls</th>\n",
       "      <th>bottom5_ls</th>\n",
       "      <th>promoted_ts</th>\n",
       "      <th>...</th>\n",
       "      <th>result_pgw</th>\n",
       "      <th>saves</th>\n",
       "      <th>saves_pgw</th>\n",
       "      <th>team_form</th>\n",
       "      <th>threat</th>\n",
       "      <th>threat_pgw</th>\n",
       "      <th>total_points_pgw</th>\n",
       "      <th>yellow_cards</th>\n",
       "      <th>yellow_cards_pgw</th>\n",
       "      <th>total_points</th>\n",
       "    </tr>\n",
       "  </thead>\n",
       "  <tbody>\n",
       "    <tr>\n",
       "      <th>0</th>\n",
       "      <td>2016</td>\n",
       "      <td>1</td>\n",
       "      <td>0</td>\n",
       "      <td>1</td>\n",
       "      <td>20</td>\n",
       "      <td>4</td>\n",
       "      <td>0</td>\n",
       "      <td>0</td>\n",
       "      <td>0</td>\n",
       "      <td>0</td>\n",
       "      <td>...</td>\n",
       "      <td>0.0</td>\n",
       "      <td>0</td>\n",
       "      <td>0.0</td>\n",
       "      <td>0.0</td>\n",
       "      <td>0.0</td>\n",
       "      <td>0.0</td>\n",
       "      <td>0.0</td>\n",
       "      <td>0</td>\n",
       "      <td>0.0</td>\n",
       "      <td>0</td>\n",
       "    </tr>\n",
       "    <tr>\n",
       "      <th>1</th>\n",
       "      <td>2016</td>\n",
       "      <td>1</td>\n",
       "      <td>1</td>\n",
       "      <td>2</td>\n",
       "      <td>6</td>\n",
       "      <td>17</td>\n",
       "      <td>0</td>\n",
       "      <td>1</td>\n",
       "      <td>0</td>\n",
       "      <td>0</td>\n",
       "      <td>...</td>\n",
       "      <td>0.0</td>\n",
       "      <td>0</td>\n",
       "      <td>0.0</td>\n",
       "      <td>0.0</td>\n",
       "      <td>0.0</td>\n",
       "      <td>0.0</td>\n",
       "      <td>0.0</td>\n",
       "      <td>0</td>\n",
       "      <td>0.0</td>\n",
       "      <td>1</td>\n",
       "    </tr>\n",
       "    <tr>\n",
       "      <th>2</th>\n",
       "      <td>2016</td>\n",
       "      <td>1</td>\n",
       "      <td>1</td>\n",
       "      <td>4</td>\n",
       "      <td>1</td>\n",
       "      <td>9</td>\n",
       "      <td>0</td>\n",
       "      <td>0</td>\n",
       "      <td>0</td>\n",
       "      <td>0</td>\n",
       "      <td>...</td>\n",
       "      <td>0.0</td>\n",
       "      <td>0</td>\n",
       "      <td>0.0</td>\n",
       "      <td>0.0</td>\n",
       "      <td>23.0</td>\n",
       "      <td>0.0</td>\n",
       "      <td>0.0</td>\n",
       "      <td>0</td>\n",
       "      <td>0.0</td>\n",
       "      <td>2</td>\n",
       "    </tr>\n",
       "    <tr>\n",
       "      <th>3</th>\n",
       "      <td>2016</td>\n",
       "      <td>1</td>\n",
       "      <td>0</td>\n",
       "      <td>6</td>\n",
       "      <td>18</td>\n",
       "      <td>13</td>\n",
       "      <td>0</td>\n",
       "      <td>0</td>\n",
       "      <td>0</td>\n",
       "      <td>0</td>\n",
       "      <td>...</td>\n",
       "      <td>0.0</td>\n",
       "      <td>0</td>\n",
       "      <td>0.0</td>\n",
       "      <td>0.0</td>\n",
       "      <td>0.0</td>\n",
       "      <td>0.0</td>\n",
       "      <td>0.0</td>\n",
       "      <td>0</td>\n",
       "      <td>0.0</td>\n",
       "      <td>0</td>\n",
       "    </tr>\n",
       "    <tr>\n",
       "      <th>4</th>\n",
       "      <td>2016</td>\n",
       "      <td>1</td>\n",
       "      <td>1</td>\n",
       "      <td>7</td>\n",
       "      <td>4</td>\n",
       "      <td>20</td>\n",
       "      <td>0</td>\n",
       "      <td>0</td>\n",
       "      <td>0</td>\n",
       "      <td>0</td>\n",
       "      <td>...</td>\n",
       "      <td>0.0</td>\n",
       "      <td>0</td>\n",
       "      <td>0.0</td>\n",
       "      <td>0.0</td>\n",
       "      <td>0.0</td>\n",
       "      <td>0.0</td>\n",
       "      <td>0.0</td>\n",
       "      <td>0</td>\n",
       "      <td>0.0</td>\n",
       "      <td>0</td>\n",
       "    </tr>\n",
       "  </tbody>\n",
       "</table>\n",
       "<p>5 rows × 50 columns</p>\n",
       "</div>"
      ],
      "text/plain": [
       "   season  GW  at_home  player_id  team_id  opponent_id  champion_ls  top5_ls  \\\n",
       "0    2016   1        0          1       20            4            0        0   \n",
       "1    2016   1        1          2        6           17            0        1   \n",
       "2    2016   1        1          4        1            9            0        0   \n",
       "3    2016   1        0          6       18           13            0        0   \n",
       "4    2016   1        1          7        4           20            0        0   \n",
       "\n",
       "   bottom5_ls  promoted_ts  ...  result_pgw  saves  saves_pgw  team_form  \\\n",
       "0           0            0  ...         0.0      0        0.0        0.0   \n",
       "1           0            0  ...         0.0      0        0.0        0.0   \n",
       "2           0            0  ...         0.0      0        0.0        0.0   \n",
       "3           0            0  ...         0.0      0        0.0        0.0   \n",
       "4           0            0  ...         0.0      0        0.0        0.0   \n",
       "\n",
       "   threat  threat_pgw  total_points_pgw  yellow_cards  yellow_cards_pgw  \\\n",
       "0     0.0         0.0               0.0             0               0.0   \n",
       "1     0.0         0.0               0.0             0               0.0   \n",
       "2    23.0         0.0               0.0             0               0.0   \n",
       "3     0.0         0.0               0.0             0               0.0   \n",
       "4     0.0         0.0               0.0             0               0.0   \n",
       "\n",
       "   total_points  \n",
       "0             0  \n",
       "1             1  \n",
       "2             2  \n",
       "3             0  \n",
       "4             0  \n",
       "\n",
       "[5 rows x 50 columns]"
      ]
     },
     "execution_count": 20,
     "metadata": {},
     "output_type": "execute_result"
    }
   ],
   "source": [
    "df.head()"
   ]
  },
  {
   "cell_type": "code",
   "execution_count": 21,
   "metadata": {},
   "outputs": [],
   "source": [
    "df.to_csv(\"combined-season-data-tf.csv\", index=False)"
   ]
  },
  {
   "cell_type": "code",
   "execution_count": 22,
   "metadata": {},
   "outputs": [],
   "source": [
    "df.to_csv(\"combined-season-data.csv\", index=False)"
   ]
  }
 ],
 "metadata": {
  "kernelspec": {
   "display_name": "Python 3",
   "language": "python",
   "name": "python3"
  },
  "language_info": {
   "codemirror_mode": {
    "name": "ipython",
    "version": 3
   },
   "file_extension": ".py",
   "mimetype": "text/x-python",
   "name": "python",
   "nbconvert_exporter": "python",
   "pygments_lexer": "ipython3",
   "version": "3.7.2"
  }
 },
 "nbformat": 4,
 "nbformat_minor": 2
}
