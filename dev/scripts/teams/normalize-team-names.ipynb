{
 "cells": [
  {
   "cell_type": "markdown",
   "metadata": {},
   "source": [
    "### Normalize team names retrieved from datasource (Step 8)\n",
    "#### Author: S. Sakib Hasan"
   ]
  },
  {
   "cell_type": "code",
   "execution_count": 1,
   "metadata": {},
   "outputs": [],
   "source": [
    "import os\n",
    "import pandas as pd\n",
    "import numpy as np\n",
    "import re"
   ]
  },
  {
   "cell_type": "code",
   "execution_count": 2,
   "metadata": {},
   "outputs": [],
   "source": [
    "seasons = [\"2016-17\", \"2017-18\", \"2018-19\", \"2019-20\"];"
   ]
  },
  {
   "cell_type": "code",
   "execution_count": 3,
   "metadata": {},
   "outputs": [],
   "source": [
    "fix_map = {\n",
    "    \"Hull\": \"Hull City\",\n",
    "    \"Leicester\": \"Leicester City\",\n",
    "    \"Man City\": \"Manchester City\",\n",
    "    \"Man Utd\": \"Manchester United\",\n",
    "    \"Stoke\": \"Stoke City\",\n",
    "    \"Swansea\": \"Swansea City\",\n",
    "    \"Spurs\": \"Tottenham Hotspur\",\n",
    "    \"West Brom\": \"West Bromwich Albion\",\n",
    "    \"West Ham\": \"West Ham United\",\n",
    "    \"Brighton\": \"Brighton and Hove Albion\",\n",
    "    \"Newcastle\": \"Newcastle United\",\n",
    "    \"Huddersfield\": \"Huddersfield Town\",\n",
    "    \"Cardiff\": \"Cardiff City\",\n",
    "    \"Wolves\": \"Wolverhampton Wanderers\",\n",
    "    \"Norwich\": \"Norwich City\",\n",
    "    \"Sheffield Utd\": \"Sheffield United\"\n",
    "}"
   ]
  },
  {
   "cell_type": "code",
   "execution_count": 4,
   "metadata": {},
   "outputs": [],
   "source": [
    "def getTeamId(team):\n",
    "    return team_df[team_df[\"team_name\"] == team][\"team_id\"].iloc[0]"
   ]
  },
  {
   "cell_type": "code",
   "execution_count": 5,
   "metadata": {},
   "outputs": [],
   "source": [
    "cwd = os.getcwd()"
   ]
  },
  {
   "cell_type": "code",
   "execution_count": 6,
   "metadata": {},
   "outputs": [
    {
     "name": "stdout",
     "output_type": "stream",
     "text": [
      "Done season: 2016\n",
      "Done season: 2017\n",
      "Done season: 2018\n",
      "Done season: 2019\n"
     ]
    }
   ],
   "source": [
    "for season in seasons:\n",
    "    os.chdir(os.path.join(os.getcwd(), \"..\", \"..\", \"..\", \"data\", season));\n",
    "    \n",
    "    season_short = season.split(\"-\")[0]\n",
    "    fixtures = pd.read_csv(\"epl-{}.csv\".format(season_short));\n",
    "    \n",
    "    fixtures[\"Home Team\"] = fixtures[\"Home Team\"].apply(lambda team: fix_map[team] if team in fix_map else team)\n",
    "    fixtures[\"Away Team\"] = fixtures[\"Away Team\"].apply(lambda team: fix_map[team] if team in fix_map else team)\n",
    "    \n",
    "    os.chdir(os.path.join(os.getcwd(), \"..\", \"..\", \"dev\", \"data\"));\n",
    "    \n",
    "    team_df = pd.read_csv(\"team_id_map.csv\");\n",
    "    \n",
    "    fixtures[\"HT_id\"] = fixtures[\"Home Team\"].apply(lambda team: getTeamId(team))\n",
    "    fixtures[\"AT_id\"] = fixtures[\"Away Team\"].apply(lambda team: getTeamId(team))\n",
    "    \n",
    "    fixtures.to_csv(\"fixtures-{}.csv\".format(season_short), index=False);\n",
    "    \n",
    "    os.chdir(cwd);\n",
    "    \n",
    "    print(\"Done season: {}\".format(season_short))"
   ]
  }
 ],
 "metadata": {
  "kernelspec": {
   "display_name": "Python 3",
   "language": "python",
   "name": "python3"
  },
  "language_info": {
   "codemirror_mode": {
    "name": "ipython",
    "version": 3
   },
   "file_extension": ".py",
   "mimetype": "text/x-python",
   "name": "python",
   "nbconvert_exporter": "python",
   "pygments_lexer": "ipython3",
   "version": "3.7.2"
  }
 },
 "nbformat": 4,
 "nbformat_minor": 2
}
