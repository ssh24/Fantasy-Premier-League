{
 "cells": [
  {
   "cell_type": "code",
   "execution_count": 1,
   "metadata": {},
   "outputs": [],
   "source": [
    "import os\n",
    "import pandas as pd\n",
    "import numpy as np\n",
    "import re"
   ]
  },
  {
   "cell_type": "code",
   "execution_count": 2,
   "metadata": {},
   "outputs": [],
   "source": [
    "os.chdir(os.path.join(os.getcwd(), \"..\", \"..\", \"data\"));"
   ]
  },
  {
   "cell_type": "code",
   "execution_count": 3,
   "metadata": {},
   "outputs": [],
   "source": [
    "seasons = [\"2016-17\", \"2017-18\", \"2018-19\", \"2019-20\"];"
   ]
  },
  {
   "cell_type": "code",
   "execution_count": 4,
   "metadata": {},
   "outputs": [
    {
     "name": "stdout",
     "output_type": "stream",
     "text": [
      "Done merging gw data for season 2016-17\n",
      "Done merging gw data for season 2017-18\n",
      "Done merging gw data for season 2018-19\n",
      "Done merging gw data for season 2019-20\n"
     ]
    }
   ],
   "source": [
    "for season in seasons:\n",
    "    os.chdir(os.path.join(os.getcwd(), season, \"gws\"));\n",
    "    gws = os.listdir(os.getcwd())\n",
    "    merge_df = pd.DataFrame();\n",
    "    for gw in gws:\n",
    "        m = re.search('gw(\\d+).csv', gw);\n",
    "        if m:\n",
    "            gw_df = pd.read_csv(\"gw{}.csv\".format(m.group(1)), encoding = \"ISO-8859-1\")\n",
    "            gw_df[\"GW\"] = m.group(1)\n",
    "            merge_df = merge_df.append(gw_df);\n",
    "    merge_df.sort_values(by=['GW'], inplace=True)\n",
    "    merge_df.to_csv(\"merged_gw_data.csv\", index=False);\n",
    "    print(\"Done merging gw data for season {}\".format(season))\n",
    "    os.chdir(os.path.join(os.getcwd(), \"..\", \"..\"));"
   ]
  }
 ],
 "metadata": {
  "kernelspec": {
   "display_name": "Python 3",
   "language": "python",
   "name": "python3"
  },
  "language_info": {
   "codemirror_mode": {
    "name": "ipython",
    "version": 3
   },
   "file_extension": ".py",
   "mimetype": "text/x-python",
   "name": "python",
   "nbconvert_exporter": "python",
   "pygments_lexer": "ipython3",
   "version": "3.7.2"
  }
 },
 "nbformat": 4,
 "nbformat_minor": 2
}
