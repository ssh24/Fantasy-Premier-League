{
 "cells": [
  {
   "cell_type": "code",
   "execution_count": 1,
   "metadata": {},
   "outputs": [],
   "source": [
    "import os\n",
    "import pandas as pd\n",
    "import numpy as np"
   ]
  },
  {
   "cell_type": "code",
   "execution_count": 2,
   "metadata": {},
   "outputs": [],
   "source": [
    "filename = \"player_id_map.csv\";"
   ]
  },
  {
   "cell_type": "code",
   "execution_count": 3,
   "metadata": {},
   "outputs": [],
   "source": [
    "seasons = [\"2017-18\", \"2018-19\", \"2019-20\"];"
   ]
  },
  {
   "cell_type": "code",
   "execution_count": 4,
   "metadata": {},
   "outputs": [
    {
     "name": "stdout",
     "output_type": "stream",
     "text": [
      "Found 215 new players in season 2017-18\n",
      "Found 195 new players in season 2018-19\n",
      "Found 162 new players in season 2019-20\n"
     ]
    }
   ],
   "source": [
    "for season in seasons:\n",
    "    os.chdir(os.path.join(os.getcwd(), \"..\", \"data\"));\n",
    "    player_id_df = pd.read_csv(filename);\n",
    "    existing_names = np.unique(player_id_df[\"player_name\"]);\n",
    "    \n",
    "    os.chdir(os.path.join(os.getcwd(), \"..\", \"..\", \"data\", season, \"gws\"));\n",
    "    df = pd.read_csv(\"merged_gw.csv\", encoding = \"utf-8\");\n",
    "    new_names = np.unique(df[\"name\"]);\n",
    "    if (season == \"2018-19\" or season == \"2019-20\"):\n",
    "        updated_names = [];\n",
    "        for new in new_names:\n",
    "            splits = new.split(\"_\")[:-1];\n",
    "            name = \"_\".join(splits);\n",
    "            updated_names.append(name);\n",
    "        new_names = updated_names;\n",
    "    last_index = player_id_df.tail(1).index.item();\n",
    "    last_id = player_id_df.iloc[last_index][\"player_id\"];\n",
    "    player_ids = [];\n",
    "    player_names = [];\n",
    "    \n",
    "    for new in new_names:\n",
    "        if (new not in existing_names):\n",
    "            last_id = last_id + 1\n",
    "            player_ids.append(last_id);\n",
    "            player_names.append(new);\n",
    "    \n",
    "    print(\"Found {} new players in season {}\".format(len(player_ids), season));\n",
    "        \n",
    "    appender = pd.DataFrame({\"player_name\": player_names, \"player_id\": player_ids });\n",
    "    player_id_df = player_id_df.append(appender);\n",
    "    player_id_df.reset_index(drop=True, inplace=True);\n",
    "    \n",
    "    os.chdir(os.path.join(os.getcwd(), \"..\", \"..\", \"..\", \"dev\", \"data\"));\n",
    "    player_id_df.to_csv(\"player_id_map.csv\", index=False);"
   ]
  }
 ],
 "metadata": {
  "kernelspec": {
   "display_name": "Python 3",
   "language": "python",
   "name": "python3"
  },
  "language_info": {
   "codemirror_mode": {
    "name": "ipython",
    "version": 3
   },
   "file_extension": ".py",
   "mimetype": "text/x-python",
   "name": "python",
   "nbconvert_exporter": "python",
   "pygments_lexer": "ipython3",
   "version": "3.7.2"
  }
 },
 "nbformat": 4,
 "nbformat_minor": 2
}
