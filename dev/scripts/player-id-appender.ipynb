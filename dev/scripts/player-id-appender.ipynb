{
 "cells": [
  {
   "cell_type": "code",
   "execution_count": 1,
   "metadata": {},
   "outputs": [],
   "source": [
    "import os\n",
    "import pandas as pd\n",
    "import numpy as np"
   ]
  },
  {
   "cell_type": "code",
   "execution_count": 2,
   "metadata": {},
   "outputs": [],
   "source": [
    "os.chdir(os.path.join(os.getcwd(), \"..\", \"data\"));"
   ]
  },
  {
   "cell_type": "code",
   "execution_count": 3,
   "metadata": {},
   "outputs": [],
   "source": [
    "filename = \"player_id_map.csv\";"
   ]
  },
  {
   "cell_type": "code",
   "execution_count": 4,
   "metadata": {},
   "outputs": [],
   "source": [
    "season = \"2019-20\";"
   ]
  },
  {
   "cell_type": "code",
   "execution_count": 5,
   "metadata": {},
   "outputs": [],
   "source": [
    "player_id_df = pd.read_csv(filename)"
   ]
  },
  {
   "cell_type": "code",
   "execution_count": 6,
   "metadata": {},
   "outputs": [],
   "source": [
    "os.chdir(os.path.join(os.getcwd(), \"..\", \"..\", \"data\", season, \"gws\"));"
   ]
  },
  {
   "cell_type": "code",
   "execution_count": 7,
   "metadata": {},
   "outputs": [],
   "source": [
    "df = pd.read_csv(\"merged_gw.csv\", encoding = \"utf-8\");"
   ]
  },
  {
   "cell_type": "code",
   "execution_count": 8,
   "metadata": {},
   "outputs": [
    {
     "data": {
      "text/plain": [
       "526"
      ]
     },
     "execution_count": 8,
     "metadata": {},
     "output_type": "execute_result"
    }
   ],
   "source": [
    "len(np.unique(df[\"name\"]))"
   ]
  },
  {
   "cell_type": "code",
   "execution_count": 9,
   "metadata": {},
   "outputs": [
    {
     "data": {
      "text/plain": [
       "1093"
      ]
     },
     "execution_count": 9,
     "metadata": {},
     "output_type": "execute_result"
    }
   ],
   "source": [
    "len(player_id_df[\"player_name\"])"
   ]
  },
  {
   "cell_type": "code",
   "execution_count": 10,
   "metadata": {},
   "outputs": [],
   "source": [
    "existing_names = np.unique(player_id_df[\"player_name\"])"
   ]
  },
  {
   "cell_type": "code",
   "execution_count": 11,
   "metadata": {},
   "outputs": [],
   "source": [
    "new_names = np.unique(df[\"name\"])"
   ]
  },
  {
   "cell_type": "code",
   "execution_count": 12,
   "metadata": {},
   "outputs": [],
   "source": [
    "if (season == \"2018-19\" or season == \"2019-20\"):\n",
    "    updated_names = [];\n",
    "    for new in new_names:\n",
    "        splits = new.split(\"_\")[:-1];\n",
    "        name = \"_\".join(splits);\n",
    "        updated_names.append(name);\n",
    "    new_names = updated_names;"
   ]
  },
  {
   "cell_type": "code",
   "execution_count": 13,
   "metadata": {},
   "outputs": [],
   "source": [
    "last_index = player_id_df.tail(1).index.item()\n",
    "last_id = player_id_df.iloc[last_index][\"player_id\"]"
   ]
  },
  {
   "cell_type": "code",
   "execution_count": 14,
   "metadata": {},
   "outputs": [],
   "source": [
    "player_ids = [];\n",
    "player_names = [];"
   ]
  },
  {
   "cell_type": "code",
   "execution_count": 15,
   "metadata": {},
   "outputs": [
    {
     "name": "stdout",
     "output_type": "stream",
     "text": [
      "Added new player: Adam_Webster\n",
      "Added new player: Ahmed_El Mohamady\n",
      "Added new player: Albian_Ajeti\n",
      "Added new player: Alexander_Tettey\n",
      "Added new player: Allan_Saint-Maximin\n",
      "Added new player: Andre_Green\n",
      "Added new player: Anwar_El Ghazi\n",
      "Added new player: Arnaut_Danjuma Groeneveld\n",
      "Added new player: Bailey_Peacock-Farrell\n",
      "Added new player: Ben_Godfrey\n",
      "Added new player: Ben_Osborn\n",
      "Added new player: Billy_Sharp\n",
      "Added new player: Birkir_Bjarnason\n",
      "Added new player: Bjorn_Engels\n",
      "Added new player: Callum_Robinson\n",
      "Added new player: Che_Adams\n",
      "Added new player: Chris_Basham\n",
      "Added new player: Christian_Pulisic\n",
      "Added new player: Christoph_Zimmermann\n",
      "Added new player: Conor_Hourihane\n",
      "Added new player: Daniel_Ceballos Fernández\n",
      "Added new player: David_McGoldrick\n",
      "Added new player: Dean_Henderson\n",
      "Added new player: Dennis_Praet\n",
      "Added new player: Dennis_Srbeny\n",
      "Added new player: Djibril_Sidibé\n",
      "Added new player: Douglas Luiz_Soares de Paulo\n",
      "Added new player: Emil_Krafth\n",
      "Added new player: Emiliano_Buendía\n",
      "Added new player: Enda_Stevens\n",
      "Added new player: Ezri_Konsa Ngoyo\n",
      "Added new player: Frédéric_Guilbert\n",
      "Added new player: Gabriel Teodoro_Martinelli Silva\n",
      "Added new player: George_Baldock\n",
      "Added new player: Giovani_Lo Celso\n",
      "Added new player: Henri_Lansbury\n",
      "Added new player: Heurelho da Silva_Gomes\n",
      "Added new player: Ibrahim_Amadou\n",
      "Added new player: Ismaïla_Sarr\n",
      "Added new player: Jack_Grealish\n",
      "Added new player: Jack_O'Connell\n",
      "Added new player: Jack_Stacey\n",
      "Added new player: Jake_Eastwood\n",
      "Added new player: Jamal_Lewis\n",
      "Added new player: James_Justin\n",
      "Added new player: Jean-Philippe_Gbamin\n",
      "Added new player: Jed_Steer\n",
      "Added new player: Jesús_Vallejo Lázaro\n",
      "Added new player: Jetro_Willems\n",
      "Added new player: Joelinton Cássio_Apolinário de Lira\n",
      "Added new player: John_Egan\n",
      "Added new player: John_Fleck\n",
      "Added new player: John_Lundstram\n",
      "Added new player: John_McGinn\n",
      "Added new player: Jonathan_Kodjia\n",
      "Added new player: Josip_Drmic\n",
      "Added new player: José Ignacio_Peleteiro Romallo\n",
      "Added new player: José Ángel_Esmorís Tasende\n",
      "Added new player: João Pedro Cavaco_Cancelo\n",
      "Added new player: Keinan_Davis\n",
      "Added new player: Kenny_McLean\n",
      "Added new player: Kieran_Tierney\n",
      "Added new player: Kieron_Freeman\n",
      "Added new player: Leandro_Trossard\n",
      "Added new player: Lewis_Gibson\n",
      "Added new player: Lloyd_Kelly\n",
      "Added new player: Lovre_Kalinic\n",
      "Added new player: Luke_Freeman\n",
      "Added new player: Mahmoud Ahmed_Ibrahim Hassan\n",
      "Added new player: Marco_Stiepermann\n",
      "Added new player: Mario_Vrancic\n",
      "Added new player: Mark_Duffy\n",
      "Added new player: Marvelous_Nakamba\n",
      "Added new player: Mason_Mount\n",
      "Added new player: Matthew_Clarke\n",
      "Added new player: Maximillian_Aarons\n",
      "Added new player: Michael_McGovern\n",
      "Added new player: Michael_Verrips\n",
      "Added new player: Moise_Kean\n",
      "Added new player: Moritz_Leitner\n",
      "Added new player: Moussa_Djenepo\n",
      "Added new player: Muhamed_Bešić\n",
      "Added new player: Neal_Maupay\n",
      "Added new player: Nicolas_Pépé\n",
      "Added new player: Onel_Hernández\n",
      "Added new player: Pablo_Fornals\n",
      "Added new player: Patrick_Cutrone\n",
      "Added new player: Patrick_Roberts\n",
      "Added new player: Pedro_Lomba Neto\n",
      "Added new player: Philip_Heise\n",
      "Added new player: Ralf_Fahrmann\n",
      "Added new player: Ravel_Morrison\n",
      "Added new player: Reece_James\n",
      "Added new player: Richard_Stearman\n",
      "Added new player: Roberto_Jimenez Gago\n",
      "Added new player: Rodrigo_Hernandez\n",
      "Added new player: Simon_Moore\n",
      "Added new player: Sébastien_Haller\n",
      "Added new player: Tanguy_Ndombele\n",
      "Added new player: Teemu_Pukki\n",
      "Added new player: Timm_Klose\n",
      "Added new player: Todd_Cantwell\n",
      "Added new player: Tom_Trybull\n",
      "Added new player: Troy_Parrott\n",
      "Added new player: Wesley_Moraes\n",
      "Added new player: Ørjan_Nyland\n"
     ]
    }
   ],
   "source": [
    "for new in new_names:\n",
    "    if (new not in existing_names):\n",
    "        last_id = last_id + 1\n",
    "        player_ids.append(last_id);\n",
    "        player_names.append(new);\n",
    "        print(\"Added new player: {}\".format(new))"
   ]
  },
  {
   "cell_type": "code",
   "execution_count": 16,
   "metadata": {},
   "outputs": [],
   "source": [
    "appender = pd.DataFrame({\"player_name\": player_names, \"player_id\": player_ids });"
   ]
  },
  {
   "cell_type": "code",
   "execution_count": 17,
   "metadata": {},
   "outputs": [],
   "source": [
    "player_id_df = player_id_df.append(appender);"
   ]
  },
  {
   "cell_type": "code",
   "execution_count": 18,
   "metadata": {},
   "outputs": [],
   "source": [
    "player_id_df.reset_index(drop=True, inplace=True)"
   ]
  },
  {
   "cell_type": "code",
   "execution_count": 19,
   "metadata": {},
   "outputs": [
    {
     "data": {
      "text/plain": [
       "(1199, 2)"
      ]
     },
     "execution_count": 19,
     "metadata": {},
     "output_type": "execute_result"
    }
   ],
   "source": [
    "player_id_df.shape"
   ]
  },
  {
   "cell_type": "code",
   "execution_count": 20,
   "metadata": {},
   "outputs": [],
   "source": [
    "os.chdir(os.path.join(os.getcwd(), \"..\", \"..\", \"..\", \"dev\", \"data\"));"
   ]
  },
  {
   "cell_type": "code",
   "execution_count": 21,
   "metadata": {},
   "outputs": [],
   "source": [
    "player_id_df.to_csv(\"player_id_map.csv\", index=False);"
   ]
  }
 ],
 "metadata": {
  "kernelspec": {
   "display_name": "Python 3",
   "language": "python",
   "name": "python3"
  },
  "language_info": {
   "codemirror_mode": {
    "name": "ipython",
    "version": 3
   },
   "file_extension": ".py",
   "mimetype": "text/x-python",
   "name": "python",
   "nbconvert_exporter": "python",
   "pygments_lexer": "ipython3",
   "version": "3.7.2"
  }
 },
 "nbformat": 4,
 "nbformat_minor": 2
}
