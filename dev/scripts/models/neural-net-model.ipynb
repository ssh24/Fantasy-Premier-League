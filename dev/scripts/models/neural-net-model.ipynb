{
 "cells": [
  {
   "cell_type": "code",
   "execution_count": 1,
   "metadata": {},
   "outputs": [],
   "source": [
    "# load and the test weekly fpl scrape\n",
    "season=\"2019-20\"\n",
    "gw=9\n",
    "model_type=\"nn\""
   ]
  },
  {
   "cell_type": "code",
   "execution_count": 2,
   "metadata": {},
   "outputs": [
    {
     "name": "stderr",
     "output_type": "stream",
     "text": [
      "Using TensorFlow backend.\n"
     ]
    }
   ],
   "source": [
    "import os\n",
    "import pandas as pd\n",
    "import numpy as np\n",
    "import keras\n",
    "from keras.models import Sequential\n",
    "from keras.layers import Dense, Dropout\n",
    "from keras import regularizers\n",
    "from keras.wrappers.scikit_learn import KerasRegressor\n",
    "from sklearn.pipeline import Pipeline\n",
    "from sklearn.model_selection import train_test_split\n",
    "from sklearn import metrics\n",
    "import matplotlib.pyplot as plt\n",
    "from sklearn.preprocessing import MinMaxScaler\n",
    "import pickle"
   ]
  },
  {
   "cell_type": "code",
   "execution_count": 3,
   "metadata": {},
   "outputs": [],
   "source": [
    "os.chdir(os.path.join(os.getcwd(), \"..\", \"..\", \"data\"));"
   ]
  },
  {
   "cell_type": "code",
   "execution_count": 4,
   "metadata": {},
   "outputs": [],
   "source": [
    "random_state = np.random.seed(24)"
   ]
  },
  {
   "cell_type": "code",
   "execution_count": 5,
   "metadata": {},
   "outputs": [],
   "source": [
    "X_train = pd.read_csv(\"x-train.csv\");\n",
    "X_test = pd.read_csv(\"x-test.csv\");\n",
    "X_val = pd.read_csv(\"x-val.csv\");"
   ]
  },
  {
   "cell_type": "code",
   "execution_count": 6,
   "metadata": {},
   "outputs": [],
   "source": [
    "y_train = pd.read_csv(\"y-train.csv\");\n",
    "y_test = pd.read_csv(\"y-test.csv\");\n",
    "y_val = pd.read_csv(\"y-val.csv\");"
   ]
  },
  {
   "cell_type": "code",
   "execution_count": 7,
   "metadata": {},
   "outputs": [
    {
     "name": "stdout",
     "output_type": "stream",
     "text": [
      "X train shape:  (43116, 68)\n",
      "y train shape:  (43116, 1)\n"
     ]
    }
   ],
   "source": [
    "print(\"X train shape: \", X_train.shape)\n",
    "print(\"y train shape: \", y_train.shape)"
   ]
  },
  {
   "cell_type": "code",
   "execution_count": 8,
   "metadata": {},
   "outputs": [
    {
     "name": "stdout",
     "output_type": "stream",
     "text": [
      "X test shape:  (14372, 68)\n",
      "y test shape:  (14372, 1)\n"
     ]
    }
   ],
   "source": [
    "print(\"X test shape: \", X_test.shape)\n",
    "print(\"y test shape: \", y_test.shape)"
   ]
  },
  {
   "cell_type": "code",
   "execution_count": 9,
   "metadata": {},
   "outputs": [
    {
     "name": "stdout",
     "output_type": "stream",
     "text": [
      "X val shape:  (14372, 68)\n",
      "y val shape:  (14372, 1)\n"
     ]
    }
   ],
   "source": [
    "print(\"X val shape: \", X_val.shape)\n",
    "print(\"y val shape: \", y_val.shape)"
   ]
  },
  {
   "cell_type": "code",
   "execution_count": 10,
   "metadata": {
    "scrolled": true
   },
   "outputs": [],
   "source": [
    "# scaler = MinMaxScaler()"
   ]
  },
  {
   "cell_type": "code",
   "execution_count": 11,
   "metadata": {},
   "outputs": [],
   "source": [
    "# X_train_scaled = scaler.fit_transform(X_train);"
   ]
  },
  {
   "cell_type": "code",
   "execution_count": 12,
   "metadata": {},
   "outputs": [],
   "source": [
    "# X_val_scaled = scaler.transform(X_val)"
   ]
  },
  {
   "cell_type": "code",
   "execution_count": 13,
   "metadata": {},
   "outputs": [],
   "source": [
    "def create_mlp(dim, dropout=0.1, l2_reg=0.01, regress=False):\n",
    "    # define our MLP network\n",
    "    model = Sequential();\n",
    "    \n",
    "    model.add(Dense(8, input_dim=dim, kernel_regularizer=regularizers.l2(l2_reg), activation=\"elu\"));\n",
    "    model.add(Dropout(dropout));\n",
    "    model.add(Dense(7, kernel_regularizer=regularizers.l2(l2_reg), activation=\"elu\"));\n",
    "    model.add(Dropout(dropout));\n",
    "    model.add(Dense(6, kernel_regularizer=regularizers.l2(l2_reg), activation=\"elu\"));\n",
    "    model.add(Dropout(dropout));\n",
    "    model.add(Dense(5, kernel_regularizer=regularizers.l2(l2_reg), activation=\"elu\"));\n",
    "    model.add(Dropout(dropout));\n",
    "    model.add(Dense(4, kernel_regularizer=regularizers.l2(l2_reg), activation=\"elu\"));\n",
    "    model.add(Dropout(dropout));\n",
    "    model.add(Dense(3, kernel_regularizer=regularizers.l2(l2_reg), activation=\"elu\"));\n",
    "    model.add(Dropout(dropout));\n",
    "    model.add(Dense(2, kernel_regularizer=regularizers.l2(l2_reg), activation=\"elu\"));\n",
    "    model.add(Dropout(dropout));\n",
    " \n",
    "    # check to see if the regression node should be added\n",
    "    if regress:\n",
    "        model.add(Dense(1, kernel_regularizer=regularizers.l2(l2_reg), activation=\"linear\"));\n",
    " \n",
    "    # return our model\n",
    "    return model"
   ]
  },
  {
   "cell_type": "code",
   "execution_count": 14,
   "metadata": {},
   "outputs": [
    {
     "name": "stderr",
     "output_type": "stream",
     "text": [
      "WARNING: Logging before flag parsing goes to stderr.\n",
      "W1017 10:31:25.327574 4606776768 deprecation_wrapper.py:119] From /usr/local/lib/python3.7/site-packages/keras/backend/tensorflow_backend.py:74: The name tf.get_default_graph is deprecated. Please use tf.compat.v1.get_default_graph instead.\n",
      "\n",
      "W1017 10:31:25.355540 4606776768 deprecation_wrapper.py:119] From /usr/local/lib/python3.7/site-packages/keras/backend/tensorflow_backend.py:517: The name tf.placeholder is deprecated. Please use tf.compat.v1.placeholder instead.\n",
      "\n",
      "W1017 10:31:25.363941 4606776768 deprecation_wrapper.py:119] From /usr/local/lib/python3.7/site-packages/keras/backend/tensorflow_backend.py:4138: The name tf.random_uniform is deprecated. Please use tf.random.uniform instead.\n",
      "\n",
      "W1017 10:31:25.386219 4606776768 deprecation_wrapper.py:119] From /usr/local/lib/python3.7/site-packages/keras/backend/tensorflow_backend.py:133: The name tf.placeholder_with_default is deprecated. Please use tf.compat.v1.placeholder_with_default instead.\n",
      "\n",
      "W1017 10:31:25.393109 4606776768 deprecation.py:506] From /usr/local/lib/python3.7/site-packages/keras/backend/tensorflow_backend.py:3445: calling dropout (from tensorflow.python.ops.nn_ops) with keep_prob is deprecated and will be removed in a future version.\n",
      "Instructions for updating:\n",
      "Please use `rate` instead of `keep_prob`. Rate should be set to `rate = 1 - keep_prob`.\n",
      "W1017 10:31:25.614089 4606776768 deprecation_wrapper.py:119] From /usr/local/lib/python3.7/site-packages/keras/optimizers.py:790: The name tf.train.Optimizer is deprecated. Please use tf.compat.v1.train.Optimizer instead.\n",
      "\n"
     ]
    }
   ],
   "source": [
    "model = create_mlp(X_train.shape[1], dropout=0.07, l2_reg=0.07, regress=True)\n",
    "opt = keras.optimizers.Adam(lr=0.0001)\n",
    "model.compile(loss=\"mean_squared_error\", optimizer=opt);"
   ]
  },
  {
   "cell_type": "code",
   "execution_count": 15,
   "metadata": {},
   "outputs": [],
   "source": [
    "es = keras.callbacks.EarlyStopping(monitor='val_loss',\n",
    "                              min_delta=0,\n",
    "                              patience=10,\n",
    "                              verbose=0, mode='auto')"
   ]
  },
  {
   "cell_type": "code",
   "execution_count": 16,
   "metadata": {},
   "outputs": [
    {
     "name": "stderr",
     "output_type": "stream",
     "text": [
      "W1017 10:31:26.105390 4606776768 deprecation_wrapper.py:119] From /usr/local/lib/python3.7/site-packages/keras/backend/tensorflow_backend.py:986: The name tf.assign_add is deprecated. Please use tf.compat.v1.assign_add instead.\n",
      "\n"
     ]
    },
    {
     "name": "stdout",
     "output_type": "stream",
     "text": [
      "Train on 43116 samples, validate on 14372 samples\n",
      "Epoch 1/500\n",
      "43116/43116 [==============================] - 3s 68us/step - loss: 13.2213 - val_loss: 8.3085\n",
      "Epoch 2/500\n",
      "43116/43116 [==============================] - 2s 51us/step - loss: 7.8043 - val_loss: 7.1906\n",
      "Epoch 3/500\n",
      "43116/43116 [==============================] - 2s 50us/step - loss: 6.8895 - val_loss: 6.5337\n",
      "Epoch 4/500\n",
      "43116/43116 [==============================] - 2s 53us/step - loss: 6.3250 - val_loss: 6.0362\n",
      "Epoch 5/500\n",
      "43116/43116 [==============================] - 2s 48us/step - loss: 5.9720 - val_loss: 5.6885\n",
      "Epoch 6/500\n",
      "43116/43116 [==============================] - 2s 47us/step - loss: 5.7083 - val_loss: 5.4364\n",
      "Epoch 7/500\n",
      "43116/43116 [==============================] - 2s 45us/step - loss: 5.4832 - val_loss: 5.2209\n",
      "Epoch 8/500\n",
      "43116/43116 [==============================] - 2s 47us/step - loss: 5.2855 - val_loss: 5.0483\n",
      "Epoch 9/500\n",
      "43116/43116 [==============================] - 2s 44us/step - loss: 5.1178 - val_loss: 4.8986\n",
      "Epoch 10/500\n",
      "43116/43116 [==============================] - 2s 43us/step - loss: 4.9438 - val_loss: 4.7781\n",
      "Epoch 11/500\n",
      "43116/43116 [==============================] - 2s 43us/step - loss: 4.7751 - val_loss: 4.6852\n",
      "Epoch 12/500\n",
      "43116/43116 [==============================] - 2s 43us/step - loss: 4.6816 - val_loss: 4.6109\n",
      "Epoch 13/500\n",
      "43116/43116 [==============================] - 2s 46us/step - loss: 4.5929 - val_loss: 4.5573\n",
      "Epoch 14/500\n",
      "43116/43116 [==============================] - 2s 42us/step - loss: 4.5511 - val_loss: 4.5111\n",
      "Epoch 15/500\n",
      "43116/43116 [==============================] - 2s 43us/step - loss: 4.4943 - val_loss: 4.4747\n",
      "Epoch 16/500\n",
      "43116/43116 [==============================] - 2s 42us/step - loss: 4.4653 - val_loss: 4.4433\n",
      "Epoch 17/500\n",
      "43116/43116 [==============================] - 2s 44us/step - loss: 4.4363 - val_loss: 4.4203\n",
      "Epoch 18/500\n",
      "43116/43116 [==============================] - 2s 43us/step - loss: 4.4121 - val_loss: 4.4017\n",
      "Epoch 19/500\n",
      "43116/43116 [==============================] - 2s 44us/step - loss: 4.3650 - val_loss: 4.3832\n",
      "Epoch 20/500\n",
      "43116/43116 [==============================] - 2s 44us/step - loss: 4.3541 - val_loss: 4.3751\n",
      "Epoch 21/500\n",
      "43116/43116 [==============================] - 2s 44us/step - loss: 4.3585 - val_loss: 4.3570\n",
      "Epoch 22/500\n",
      "43116/43116 [==============================] - 2s 43us/step - loss: 4.3361 - val_loss: 4.3472\n",
      "Epoch 23/500\n",
      "43116/43116 [==============================] - 2s 46us/step - loss: 4.3270 - val_loss: 4.3388\n",
      "Epoch 24/500\n",
      "43116/43116 [==============================] - 2s 47us/step - loss: 4.3027 - val_loss: 4.3259\n",
      "Epoch 25/500\n",
      "43116/43116 [==============================] - 2s 44us/step - loss: 4.3099 - val_loss: 4.3192\n",
      "Epoch 26/500\n",
      "43116/43116 [==============================] - 2s 44us/step - loss: 4.2984 - val_loss: 4.3149\n",
      "Epoch 27/500\n",
      "43116/43116 [==============================] - 2s 46us/step - loss: 4.2886 - val_loss: 4.3076\n",
      "Epoch 28/500\n",
      "43116/43116 [==============================] - 2s 48us/step - loss: 4.2964 - val_loss: 4.3025\n",
      "Epoch 29/500\n",
      "43116/43116 [==============================] - 2s 48us/step - loss: 4.2892 - val_loss: 4.2988\n",
      "Epoch 30/500\n",
      "43116/43116 [==============================] - 2s 47us/step - loss: 4.2609 - val_loss: 4.2952\n",
      "Epoch 31/500\n",
      "43116/43116 [==============================] - 2s 48us/step - loss: 4.2666 - val_loss: 4.2909\n",
      "Epoch 32/500\n",
      "43116/43116 [==============================] - 2s 51us/step - loss: 4.2762 - val_loss: 4.2897\n",
      "Epoch 33/500\n",
      "43116/43116 [==============================] - 2s 53us/step - loss: 4.2684 - val_loss: 4.2896\n",
      "Epoch 34/500\n",
      "43116/43116 [==============================] - 2s 43us/step - loss: 4.2659 - val_loss: 4.2866\n",
      "Epoch 35/500\n",
      "43116/43116 [==============================] - 2s 44us/step - loss: 4.2680 - val_loss: 4.2841\n",
      "Epoch 36/500\n",
      "43116/43116 [==============================] - 2s 46us/step - loss: 4.2570 - val_loss: 4.2835\n",
      "Epoch 37/500\n",
      "43116/43116 [==============================] - 2s 43us/step - loss: 4.2548 - val_loss: 4.2806\n",
      "Epoch 38/500\n",
      "43116/43116 [==============================] - 2s 46us/step - loss: 4.2558 - val_loss: 4.2806\n",
      "Epoch 39/500\n",
      "43116/43116 [==============================] - 2s 45us/step - loss: 4.2648 - val_loss: 4.2814\n",
      "Epoch 40/500\n",
      "43116/43116 [==============================] - 2s 46us/step - loss: 4.2566 - val_loss: 4.2774\n",
      "Epoch 41/500\n",
      "43116/43116 [==============================] - 2s 50us/step - loss: 4.2547 - val_loss: 4.2765\n",
      "Epoch 42/500\n",
      "43116/43116 [==============================] - 2s 47us/step - loss: 4.2647 - val_loss: 4.2750\n",
      "Epoch 43/500\n",
      "43116/43116 [==============================] - 2s 44us/step - loss: 4.2627 - val_loss: 4.2751\n",
      "Epoch 44/500\n",
      "43116/43116 [==============================] - 2s 45us/step - loss: 4.2546 - val_loss: 4.2744\n",
      "Epoch 45/500\n",
      "43116/43116 [==============================] - 2s 44us/step - loss: 4.2515 - val_loss: 4.2721\n",
      "Epoch 46/500\n",
      "43116/43116 [==============================] - 2s 46us/step - loss: 4.2462 - val_loss: 4.2727\n",
      "Epoch 47/500\n",
      "43116/43116 [==============================] - 2s 43us/step - loss: 4.2491 - val_loss: 4.2690\n",
      "Epoch 48/500\n",
      "43116/43116 [==============================] - 2s 43us/step - loss: 4.2353 - val_loss: 4.2696\n",
      "Epoch 49/500\n",
      "43116/43116 [==============================] - 2s 45us/step - loss: 4.2488 - val_loss: 4.2655\n",
      "Epoch 50/500\n",
      "43116/43116 [==============================] - 2s 44us/step - loss: 4.2482 - val_loss: 4.2656\n",
      "Epoch 51/500\n",
      "43116/43116 [==============================] - 2s 46us/step - loss: 4.2557 - val_loss: 4.2658\n",
      "Epoch 52/500\n",
      "43116/43116 [==============================] - 2s 47us/step - loss: 4.2492 - val_loss: 4.2671\n",
      "Epoch 53/500\n",
      "43116/43116 [==============================] - 2s 45us/step - loss: 4.2518 - val_loss: 4.2658\n",
      "Epoch 54/500\n",
      "43116/43116 [==============================] - 2s 51us/step - loss: 4.2410 - val_loss: 4.2648\n",
      "Epoch 55/500\n",
      "43116/43116 [==============================] - 2s 49us/step - loss: 4.2446 - val_loss: 4.2674\n",
      "Epoch 56/500\n",
      "43116/43116 [==============================] - 2s 45us/step - loss: 4.2411 - val_loss: 4.2625\n",
      "Epoch 57/500\n",
      "43116/43116 [==============================] - 2s 45us/step - loss: 4.2252 - val_loss: 4.2599\n",
      "Epoch 58/500\n",
      "43116/43116 [==============================] - 2s 50us/step - loss: 4.2397 - val_loss: 4.2641\n",
      "Epoch 59/500\n",
      "43116/43116 [==============================] - 2s 49us/step - loss: 4.2481 - val_loss: 4.2611\n",
      "Epoch 60/500\n",
      "43116/43116 [==============================] - 2s 47us/step - loss: 4.2297 - val_loss: 4.2598\n",
      "Epoch 61/500\n",
      "43116/43116 [==============================] - 2s 48us/step - loss: 4.2423 - val_loss: 4.2624\n",
      "Epoch 62/500\n",
      "43116/43116 [==============================] - 2s 46us/step - loss: 4.2339 - val_loss: 4.2580\n",
      "Epoch 63/500\n",
      "43116/43116 [==============================] - 2s 46us/step - loss: 4.2447 - val_loss: 4.2591\n",
      "Epoch 64/500\n",
      "43116/43116 [==============================] - 2s 48us/step - loss: 4.2419 - val_loss: 4.2574\n",
      "Epoch 65/500\n",
      "43116/43116 [==============================] - 2s 46us/step - loss: 4.2394 - val_loss: 4.2569\n",
      "Epoch 66/500\n",
      "43116/43116 [==============================] - 2s 46us/step - loss: 4.2399 - val_loss: 4.2555\n",
      "Epoch 67/500\n",
      "43116/43116 [==============================] - 2s 46us/step - loss: 4.2318 - val_loss: 4.2548\n",
      "Epoch 68/500\n",
      "43116/43116 [==============================] - 2s 48us/step - loss: 4.2343 - val_loss: 4.2551\n",
      "Epoch 69/500\n",
      "43116/43116 [==============================] - 2s 46us/step - loss: 4.2375 - val_loss: 4.2550\n",
      "Epoch 70/500\n",
      "43116/43116 [==============================] - 2s 49us/step - loss: 4.2334 - val_loss: 4.2524\n",
      "Epoch 71/500\n",
      "43116/43116 [==============================] - 2s 45us/step - loss: 4.2332 - val_loss: 4.2545\n",
      "Epoch 72/500\n",
      "43116/43116 [==============================] - 2s 49us/step - loss: 4.2330 - val_loss: 4.2526\n",
      "Epoch 73/500\n",
      "43116/43116 [==============================] - 2s 47us/step - loss: 4.2241 - val_loss: 4.2499\n",
      "Epoch 74/500\n",
      "43116/43116 [==============================] - 2s 48us/step - loss: 4.2260 - val_loss: 4.2503\n",
      "Epoch 75/500\n",
      "43116/43116 [==============================] - 2s 49us/step - loss: 4.2362 - val_loss: 4.2527\n",
      "Epoch 76/500\n",
      "43116/43116 [==============================] - 2s 45us/step - loss: 4.2337 - val_loss: 4.2517\n",
      "Epoch 77/500\n"
     ]
    },
    {
     "name": "stdout",
     "output_type": "stream",
     "text": [
      "43116/43116 [==============================] - 2s 45us/step - loss: 4.2332 - val_loss: 4.2528\n",
      "Epoch 78/500\n",
      "43116/43116 [==============================] - 2s 46us/step - loss: 4.2406 - val_loss: 4.2511\n",
      "Epoch 79/500\n",
      "43116/43116 [==============================] - 2s 47us/step - loss: 4.2274 - val_loss: 4.2515\n",
      "Epoch 80/500\n",
      "43116/43116 [==============================] - 2s 45us/step - loss: 4.2293 - val_loss: 4.2498\n",
      "Epoch 81/500\n",
      "43116/43116 [==============================] - 2s 48us/step - loss: 4.2291 - val_loss: 4.2498\n",
      "Epoch 82/500\n",
      "43116/43116 [==============================] - 2s 45us/step - loss: 4.2385 - val_loss: 4.2500\n",
      "Epoch 83/500\n",
      "43116/43116 [==============================] - 2s 44us/step - loss: 4.2413 - val_loss: 4.2487\n",
      "Epoch 84/500\n",
      "43116/43116 [==============================] - 2s 45us/step - loss: 4.2255 - val_loss: 4.2522\n",
      "Epoch 85/500\n",
      "43116/43116 [==============================] - 2s 48us/step - loss: 4.2319 - val_loss: 4.2505\n",
      "Epoch 86/500\n",
      "43116/43116 [==============================] - 2s 45us/step - loss: 4.2299 - val_loss: 4.2495\n",
      "Epoch 87/500\n",
      "43116/43116 [==============================] - 2s 45us/step - loss: 4.2204 - val_loss: 4.2467\n",
      "Epoch 88/500\n",
      "43116/43116 [==============================] - 2s 44us/step - loss: 4.2306 - val_loss: 4.2477\n",
      "Epoch 89/500\n",
      "43116/43116 [==============================] - 2s 44us/step - loss: 4.2256 - val_loss: 4.2496\n",
      "Epoch 90/500\n",
      "43116/43116 [==============================] - 2s 45us/step - loss: 4.2225 - val_loss: 4.2473\n",
      "Epoch 91/500\n",
      "43116/43116 [==============================] - 2s 47us/step - loss: 4.2305 - val_loss: 4.2485\n",
      "Epoch 92/500\n",
      "43116/43116 [==============================] - 2s 45us/step - loss: 4.2244 - val_loss: 4.2467\n",
      "Epoch 93/500\n",
      "43116/43116 [==============================] - 2s 43us/step - loss: 4.2355 - val_loss: 4.2458\n",
      "Epoch 94/500\n",
      "43116/43116 [==============================] - 2s 47us/step - loss: 4.2277 - val_loss: 4.2450\n",
      "Epoch 95/500\n",
      "43116/43116 [==============================] - 2s 43us/step - loss: 4.2250 - val_loss: 4.2454\n",
      "Epoch 96/500\n",
      "43116/43116 [==============================] - 2s 44us/step - loss: 4.2339 - val_loss: 4.2465\n",
      "Epoch 97/500\n",
      "43116/43116 [==============================] - 2s 45us/step - loss: 4.2245 - val_loss: 4.2447\n",
      "Epoch 98/500\n",
      "43116/43116 [==============================] - 2s 43us/step - loss: 4.2338 - val_loss: 4.2441\n",
      "Epoch 99/500\n",
      "43116/43116 [==============================] - 2s 45us/step - loss: 4.2387 - val_loss: 4.2458\n",
      "Epoch 100/500\n",
      "43116/43116 [==============================] - 2s 43us/step - loss: 4.2338 - val_loss: 4.2452\n",
      "Epoch 101/500\n",
      "43116/43116 [==============================] - 2s 43us/step - loss: 4.2191 - val_loss: 4.2458\n",
      "Epoch 102/500\n",
      "43116/43116 [==============================] - 2s 45us/step - loss: 4.2329 - val_loss: 4.2426\n",
      "Epoch 103/500\n",
      "43116/43116 [==============================] - 2s 48us/step - loss: 4.2208 - val_loss: 4.2454\n",
      "Epoch 104/500\n",
      "43116/43116 [==============================] - 2s 45us/step - loss: 4.2344 - val_loss: 4.2442\n",
      "Epoch 105/500\n",
      "43116/43116 [==============================] - 2s 45us/step - loss: 4.2212 - val_loss: 4.2501\n",
      "Epoch 106/500\n",
      "43116/43116 [==============================] - 2s 43us/step - loss: 4.2323 - val_loss: 4.2438\n",
      "Epoch 107/500\n",
      "43116/43116 [==============================] - 2s 49us/step - loss: 4.2127 - val_loss: 4.2415\n",
      "Epoch 108/500\n",
      "43116/43116 [==============================] - 2s 45us/step - loss: 4.2330 - val_loss: 4.2465\n",
      "Epoch 109/500\n",
      "43116/43116 [==============================] - 2s 48us/step - loss: 4.2294 - val_loss: 4.2430\n",
      "Epoch 110/500\n",
      "43116/43116 [==============================] - 2s 50us/step - loss: 4.2184 - val_loss: 4.2430\n",
      "Epoch 111/500\n",
      "43116/43116 [==============================] - 2s 45us/step - loss: 4.2278 - val_loss: 4.2422\n",
      "Epoch 112/500\n",
      "43116/43116 [==============================] - 2s 47us/step - loss: 4.2280 - val_loss: 4.2419\n",
      "Epoch 113/500\n",
      "43116/43116 [==============================] - 2s 45us/step - loss: 4.2337 - val_loss: 4.2411\n",
      "Epoch 114/500\n",
      "43116/43116 [==============================] - 2s 44us/step - loss: 4.2202 - val_loss: 4.2443\n",
      "Epoch 115/500\n",
      "43116/43116 [==============================] - 2s 46us/step - loss: 4.2236 - val_loss: 4.2416\n",
      "Epoch 116/500\n",
      "43116/43116 [==============================] - 2s 46us/step - loss: 4.2204 - val_loss: 4.2409\n",
      "Epoch 117/500\n",
      "43116/43116 [==============================] - 2s 46us/step - loss: 4.2225 - val_loss: 4.2387\n",
      "Epoch 118/500\n",
      "43116/43116 [==============================] - 2s 49us/step - loss: 4.2107 - val_loss: 4.2376\n",
      "Epoch 119/500\n",
      "43116/43116 [==============================] - 2s 45us/step - loss: 4.2257 - val_loss: 4.2395\n",
      "Epoch 120/500\n",
      "43116/43116 [==============================] - 2s 46us/step - loss: 4.2247 - val_loss: 4.2405\n",
      "Epoch 121/500\n",
      "43116/43116 [==============================] - 2s 45us/step - loss: 4.2310 - val_loss: 4.2433\n",
      "Epoch 122/500\n",
      "43116/43116 [==============================] - 2s 48us/step - loss: 4.2261 - val_loss: 4.2412\n",
      "Epoch 123/500\n",
      "43116/43116 [==============================] - 2s 48us/step - loss: 4.2275 - val_loss: 4.2403\n",
      "Epoch 124/500\n",
      "43116/43116 [==============================] - 2s 44us/step - loss: 4.2191 - val_loss: 4.2404\n",
      "Epoch 125/500\n",
      "43116/43116 [==============================] - 2s 43us/step - loss: 4.2166 - val_loss: 4.2378\n",
      "Epoch 126/500\n",
      "43116/43116 [==============================] - 2s 44us/step - loss: 4.2161 - val_loss: 4.2380\n",
      "Epoch 127/500\n",
      "43116/43116 [==============================] - 2s 46us/step - loss: 4.2245 - val_loss: 4.2424\n",
      "Epoch 128/500\n",
      "43116/43116 [==============================] - 2s 45us/step - loss: 4.2255 - val_loss: 4.2384\n"
     ]
    }
   ],
   "source": [
    "history = model.fit(X_train, y_train, validation_data=(X_val, y_val),\n",
    "                    epochs=500, shuffle=True, callbacks=[es], verbose=1)"
   ]
  },
  {
   "cell_type": "code",
   "execution_count": 17,
   "metadata": {},
   "outputs": [],
   "source": [
    "# X_test_scaled = scaler.transform(X_test)"
   ]
  },
  {
   "cell_type": "code",
   "execution_count": 18,
   "metadata": {},
   "outputs": [],
   "source": [
    "# pickle.dump(scaler, open(\"scaler.sav\", 'wb'))"
   ]
  },
  {
   "cell_type": "code",
   "execution_count": 19,
   "metadata": {},
   "outputs": [],
   "source": [
    "y_true = np.array(y_test[\"total_points\"]);"
   ]
  },
  {
   "cell_type": "code",
   "execution_count": 20,
   "metadata": {},
   "outputs": [],
   "source": [
    "y_pred = model.predict(X_test);"
   ]
  },
  {
   "cell_type": "code",
   "execution_count": 21,
   "metadata": {},
   "outputs": [],
   "source": [
    "pred_df = pd.DataFrame({'Actual': y_true.flatten(), 'Predicted': y_pred.flatten()})"
   ]
  },
  {
   "cell_type": "code",
   "execution_count": 22,
   "metadata": {},
   "outputs": [],
   "source": [
    "def getInRange(actual, predicted, lower_bound=0, upper_bound=1):\n",
    "    return ((actual - predicted) >= lower_bound) and ((actual - predicted) <= upper_bound)"
   ]
  },
  {
   "cell_type": "code",
   "execution_count": 23,
   "metadata": {},
   "outputs": [],
   "source": [
    "pred_df[\"in_range\"] = pred_df.apply(lambda row: getInRange(row[\"Actual\"], row[\"Predicted\"], 0, 1), axis=1)"
   ]
  },
  {
   "cell_type": "code",
   "execution_count": 24,
   "metadata": {},
   "outputs": [
    {
     "name": "stdout",
     "output_type": "stream",
     "text": [
      "In range: 0.09\n"
     ]
    }
   ],
   "source": [
    "print(\"In range: {0:.2f}\".format(pred_df[pred_df[\"in_range\"] == True].shape[0]/pred_df.shape[0]))"
   ]
  },
  {
   "cell_type": "code",
   "execution_count": 25,
   "metadata": {},
   "outputs": [
    {
     "data": {
      "text/html": [
       "<div>\n",
       "<style scoped>\n",
       "    .dataframe tbody tr th:only-of-type {\n",
       "        vertical-align: middle;\n",
       "    }\n",
       "\n",
       "    .dataframe tbody tr th {\n",
       "        vertical-align: top;\n",
       "    }\n",
       "\n",
       "    .dataframe thead th {\n",
       "        text-align: right;\n",
       "    }\n",
       "</style>\n",
       "<table border=\"1\" class=\"dataframe\">\n",
       "  <thead>\n",
       "    <tr style=\"text-align: right;\">\n",
       "      <th></th>\n",
       "      <th>Actual</th>\n",
       "      <th>Predicted</th>\n",
       "      <th>in_range</th>\n",
       "    </tr>\n",
       "  </thead>\n",
       "  <tbody>\n",
       "    <tr>\n",
       "      <th>0</th>\n",
       "      <td>0.0</td>\n",
       "      <td>2.556983</td>\n",
       "      <td>False</td>\n",
       "    </tr>\n",
       "    <tr>\n",
       "      <th>1</th>\n",
       "      <td>2.0</td>\n",
       "      <td>2.663203</td>\n",
       "      <td>False</td>\n",
       "    </tr>\n",
       "    <tr>\n",
       "      <th>2</th>\n",
       "      <td>0.0</td>\n",
       "      <td>0.428959</td>\n",
       "      <td>False</td>\n",
       "    </tr>\n",
       "    <tr>\n",
       "      <th>3</th>\n",
       "      <td>0.0</td>\n",
       "      <td>0.420198</td>\n",
       "      <td>False</td>\n",
       "    </tr>\n",
       "    <tr>\n",
       "      <th>4</th>\n",
       "      <td>0.0</td>\n",
       "      <td>0.428612</td>\n",
       "      <td>False</td>\n",
       "    </tr>\n",
       "    <tr>\n",
       "      <th>5</th>\n",
       "      <td>0.0</td>\n",
       "      <td>0.524193</td>\n",
       "      <td>False</td>\n",
       "    </tr>\n",
       "    <tr>\n",
       "      <th>6</th>\n",
       "      <td>0.0</td>\n",
       "      <td>0.427868</td>\n",
       "      <td>False</td>\n",
       "    </tr>\n",
       "    <tr>\n",
       "      <th>7</th>\n",
       "      <td>7.0</td>\n",
       "      <td>2.606669</td>\n",
       "      <td>False</td>\n",
       "    </tr>\n",
       "    <tr>\n",
       "      <th>8</th>\n",
       "      <td>0.0</td>\n",
       "      <td>0.416678</td>\n",
       "      <td>False</td>\n",
       "    </tr>\n",
       "    <tr>\n",
       "      <th>9</th>\n",
       "      <td>2.0</td>\n",
       "      <td>2.632698</td>\n",
       "      <td>False</td>\n",
       "    </tr>\n",
       "    <tr>\n",
       "      <th>10</th>\n",
       "      <td>2.0</td>\n",
       "      <td>2.751960</td>\n",
       "      <td>False</td>\n",
       "    </tr>\n",
       "    <tr>\n",
       "      <th>11</th>\n",
       "      <td>0.0</td>\n",
       "      <td>0.428779</td>\n",
       "      <td>False</td>\n",
       "    </tr>\n",
       "    <tr>\n",
       "      <th>12</th>\n",
       "      <td>3.0</td>\n",
       "      <td>0.447375</td>\n",
       "      <td>False</td>\n",
       "    </tr>\n",
       "    <tr>\n",
       "      <th>13</th>\n",
       "      <td>1.0</td>\n",
       "      <td>2.538078</td>\n",
       "      <td>False</td>\n",
       "    </tr>\n",
       "    <tr>\n",
       "      <th>14</th>\n",
       "      <td>6.0</td>\n",
       "      <td>2.581203</td>\n",
       "      <td>False</td>\n",
       "    </tr>\n",
       "    <tr>\n",
       "      <th>15</th>\n",
       "      <td>0.0</td>\n",
       "      <td>0.417709</td>\n",
       "      <td>False</td>\n",
       "    </tr>\n",
       "    <tr>\n",
       "      <th>16</th>\n",
       "      <td>0.0</td>\n",
       "      <td>0.464906</td>\n",
       "      <td>False</td>\n",
       "    </tr>\n",
       "    <tr>\n",
       "      <th>17</th>\n",
       "      <td>0.0</td>\n",
       "      <td>0.432079</td>\n",
       "      <td>False</td>\n",
       "    </tr>\n",
       "    <tr>\n",
       "      <th>18</th>\n",
       "      <td>0.0</td>\n",
       "      <td>0.428322</td>\n",
       "      <td>False</td>\n",
       "    </tr>\n",
       "    <tr>\n",
       "      <th>19</th>\n",
       "      <td>2.0</td>\n",
       "      <td>2.558001</td>\n",
       "      <td>False</td>\n",
       "    </tr>\n",
       "    <tr>\n",
       "      <th>20</th>\n",
       "      <td>2.0</td>\n",
       "      <td>1.455607</td>\n",
       "      <td>True</td>\n",
       "    </tr>\n",
       "    <tr>\n",
       "      <th>21</th>\n",
       "      <td>1.0</td>\n",
       "      <td>2.548331</td>\n",
       "      <td>False</td>\n",
       "    </tr>\n",
       "    <tr>\n",
       "      <th>22</th>\n",
       "      <td>0.0</td>\n",
       "      <td>2.562493</td>\n",
       "      <td>False</td>\n",
       "    </tr>\n",
       "    <tr>\n",
       "      <th>23</th>\n",
       "      <td>0.0</td>\n",
       "      <td>0.503582</td>\n",
       "      <td>False</td>\n",
       "    </tr>\n",
       "    <tr>\n",
       "      <th>24</th>\n",
       "      <td>2.0</td>\n",
       "      <td>0.417902</td>\n",
       "      <td>False</td>\n",
       "    </tr>\n",
       "  </tbody>\n",
       "</table>\n",
       "</div>"
      ],
      "text/plain": [
       "    Actual  Predicted  in_range\n",
       "0      0.0   2.556983     False\n",
       "1      2.0   2.663203     False\n",
       "2      0.0   0.428959     False\n",
       "3      0.0   0.420198     False\n",
       "4      0.0   0.428612     False\n",
       "5      0.0   0.524193     False\n",
       "6      0.0   0.427868     False\n",
       "7      7.0   2.606669     False\n",
       "8      0.0   0.416678     False\n",
       "9      2.0   2.632698     False\n",
       "10     2.0   2.751960     False\n",
       "11     0.0   0.428779     False\n",
       "12     3.0   0.447375     False\n",
       "13     1.0   2.538078     False\n",
       "14     6.0   2.581203     False\n",
       "15     0.0   0.417709     False\n",
       "16     0.0   0.464906     False\n",
       "17     0.0   0.432079     False\n",
       "18     0.0   0.428322     False\n",
       "19     2.0   2.558001     False\n",
       "20     2.0   1.455607      True\n",
       "21     1.0   2.548331     False\n",
       "22     0.0   2.562493     False\n",
       "23     0.0   0.503582     False\n",
       "24     2.0   0.417902     False"
      ]
     },
     "execution_count": 25,
     "metadata": {},
     "output_type": "execute_result"
    }
   ],
   "source": [
    "pred_df.head(25)"
   ]
  },
  {
   "cell_type": "code",
   "execution_count": 26,
   "metadata": {},
   "outputs": [],
   "source": [
    "test_df = pred_df.head(25)"
   ]
  },
  {
   "cell_type": "code",
   "execution_count": 27,
   "metadata": {},
   "outputs": [
    {
     "data": {
      "image/png": "[encoded data removed]",
      "text/plain": [
       "<Figure size 720x576 with 1 Axes>"
      ]
     },
     "metadata": {
      "needs_background": "light"
     },
     "output_type": "display_data"
    }
   ],
   "source": [
    "test_df.plot(kind='bar',figsize=(10,8))\n",
    "plt.grid(which='major', linestyle='-', linewidth='0.5', color='green')\n",
    "plt.grid(which='minor', linestyle=':', linewidth='0.5', color='black')\n",
    "plt.show()"
   ]
  },
  {
   "cell_type": "code",
   "execution_count": 28,
   "metadata": {},
   "outputs": [
    {
     "data": {
      "image/png": "[encoded data removed]",
      "text/plain": [
       "<Figure size 432x288 with 1 Axes>"
      ]
     },
     "metadata": {
      "needs_background": "light"
     },
     "output_type": "display_data"
    }
   ],
   "source": [
    "# Plot training & validation loss values\n",
    "plt.plot(history.history['loss'])\n",
    "plt.plot(history.history['val_loss'])\n",
    "plt.title('Model loss')\n",
    "plt.ylabel('Loss')\n",
    "plt.xlabel('Epoch')\n",
    "plt.legend(['Train', 'Validation'], loc='upper left')\n",
    "plt.show()"
   ]
  },
  {
   "cell_type": "code",
   "execution_count": 29,
   "metadata": {},
   "outputs": [
    {
     "name": "stdout",
     "output_type": "stream",
     "text": [
      "Mean Absolute Error: 1.2242489722651484\n",
      "R2 score: 0.23493160265723356\n",
      "Mean Squared Error: 3.8098983725057507\n",
      "Root Mean Squared Error: 1.9518960967494532\n"
     ]
    }
   ],
   "source": [
    "print('Mean Absolute Error:', metrics.mean_absolute_error(y_test, y_pred))\n",
    "print('R2 score:', metrics.r2_score(y_test, y_pred))\n",
    "\n",
    "print('Mean Squared Error:', metrics.mean_squared_error(y_test, y_pred))  \n",
    "print('Root Mean Squared Error:', np.sqrt(metrics.mean_squared_error(y_test, y_pred)))"
   ]
  },
  {
   "cell_type": "code",
   "execution_count": 30,
   "metadata": {},
   "outputs": [],
   "source": [
    "filename = '{}-model.h5'.format(model_type)"
   ]
  },
  {
   "cell_type": "code",
   "execution_count": 31,
   "metadata": {},
   "outputs": [],
   "source": [
    "gw_dir = os.path.join(os.getcwd(), \"..\", \"model\", season, str(gw))"
   ]
  },
  {
   "cell_type": "code",
   "execution_count": 32,
   "metadata": {},
   "outputs": [],
   "source": [
    "if not os.path.exists(gw_dir):\n",
    "    os.makedirs(gw_dir)"
   ]
  },
  {
   "cell_type": "code",
   "execution_count": 33,
   "metadata": {},
   "outputs": [],
   "source": [
    "os.chdir(gw_dir)"
   ]
  },
  {
   "cell_type": "code",
   "execution_count": 34,
   "metadata": {},
   "outputs": [],
   "source": [
    "model.save(filename)"
   ]
  }
 ],
 "metadata": {
  "kernelspec": {
   "display_name": "Python 3",
   "language": "python",
   "name": "python3"
  },
  "language_info": {
   "codemirror_mode": {
    "name": "ipython",
    "version": 3
   },
   "file_extension": ".py",
   "mimetype": "text/x-python",
   "name": "python",
   "nbconvert_exporter": "python",
   "pygments_lexer": "ipython3",
   "version": "3.7.2"
  }
 },
 "nbformat": 4,
 "nbformat_minor": 2
}
