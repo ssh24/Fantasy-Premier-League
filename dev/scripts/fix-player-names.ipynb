{
 "cells": [
  {
   "cell_type": "code",
   "execution_count": 1,
   "metadata": {},
   "outputs": [],
   "source": [
    "import os\n",
    "import pandas as pd\n",
    "import numpy as np\n",
    "import re"
   ]
  },
  {
   "cell_type": "code",
   "execution_count": 2,
   "metadata": {},
   "outputs": [],
   "source": [
    "os.chdir(os.path.join(os.getcwd(), \"..\", \"..\", \"data\"));"
   ]
  },
  {
   "cell_type": "code",
   "execution_count": 3,
   "metadata": {},
   "outputs": [],
   "source": [
    "seasons = [\"2016-17\", \"2017-18\", \"2018-19\", \"2019-20\"];"
   ]
  },
  {
   "cell_type": "code",
   "execution_count": 4,
   "metadata": {},
   "outputs": [],
   "source": [
    "def fixPlayerName(name):\n",
    "    try:\n",
    "        act_name = name.encode('raw_unicode_escape').decode('utf-8');\n",
    "    except:\n",
    "        act_name = name\n",
    "    return act_name;"
   ]
  },
  {
   "cell_type": "code",
   "execution_count": 5,
   "metadata": {},
   "outputs": [],
   "source": [
    "for season in seasons:\n",
    "    os.chdir(os.path.join(os.getcwd(), season, \"gws\"));\n",
    "    df = pd.read_csv(\"merged_gw_data.csv\");\n",
    "    df[\"name\"] = df[\"name\"].apply(lambda name: fixPlayerName(name));\n",
    "    df.to_csv(\"merged_gw_data.csv\", index=False);\n",
    "    os.chdir(os.path.join(os.getcwd(), \"..\", \"..\"));"
   ]
  }
 ],
 "metadata": {
  "kernelspec": {
   "display_name": "Python 3",
   "language": "python",
   "name": "python3"
  },
  "language_info": {
   "codemirror_mode": {
    "name": "ipython",
    "version": 3
   },
   "file_extension": ".py",
   "mimetype": "text/x-python",
   "name": "python",
   "nbconvert_exporter": "python",
   "pygments_lexer": "ipython3",
   "version": "3.7.2"
  }
 },
 "nbformat": 4,
 "nbformat_minor": 2
}
