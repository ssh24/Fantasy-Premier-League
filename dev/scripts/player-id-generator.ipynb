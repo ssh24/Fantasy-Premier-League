{
 "cells": [
  {
   "cell_type": "code",
   "execution_count": 1,
   "metadata": {},
   "outputs": [],
   "source": [
    "import os\n",
    "import pandas as pd\n",
    "import numpy as np"
   ]
  },
  {
   "cell_type": "code",
   "execution_count": 2,
   "metadata": {},
   "outputs": [],
   "source": [
    "threshold_season = \"2016-17\";"
   ]
  },
  {
   "cell_type": "code",
   "execution_count": 3,
   "metadata": {},
   "outputs": [],
   "source": [
    "os.chdir(os.path.join(os.getcwd(), \"..\", \"..\", \"data\", threshold_season, \"gws\"));"
   ]
  },
  {
   "cell_type": "code",
   "execution_count": 4,
   "metadata": {},
   "outputs": [],
   "source": [
    "def generatePlayerIdMap(df, save=False):\n",
    "    player_mappings = {};\n",
    "    players = np.unique(df[\"name\"]);\n",
    "    players.sort()\n",
    "    for index in range(len(players)):\n",
    "        player = players[index]\n",
    "        if (player not in player_mappings):\n",
    "            player_mappings[player] = index + 1\n",
    "    player_names = [];\n",
    "    player_ids = [];\n",
    "    for name, id_ in player_mappings.items():\n",
    "        player_names.append(name);\n",
    "        player_ids.append(id_);\n",
    "    player_id_df = pd.DataFrame({\"player_name\": player_names, \"player_id\": player_ids });\n",
    "    if (save):\n",
    "        os.chdir(os.path.join(os.getcwd(), \"..\", \"..\", \"..\", \"dev\", \"data\"));\n",
    "        player_id_df.to_csv(\"player_id_map.csv\", index=False);\n",
    "    return player_id_df;"
   ]
  },
  {
   "cell_type": "code",
   "execution_count": 5,
   "metadata": {},
   "outputs": [],
   "source": [
    "df = pd.read_csv(\"merged_gw.csv\");\n",
    "player_id_df = generatePlayerIdMap(df, save=True)"
   ]
  },
  {
   "cell_type": "code",
   "execution_count": 6,
   "metadata": {},
   "outputs": [
    {
     "data": {
      "text/plain": [
       "(683, 2)"
      ]
     },
     "execution_count": 6,
     "metadata": {},
     "output_type": "execute_result"
    }
   ],
   "source": [
    "player_id_df.shape"
   ]
  }
 ],
 "metadata": {
  "kernelspec": {
   "display_name": "Python 3",
   "language": "python",
   "name": "python3"
  },
  "language_info": {
   "codemirror_mode": {
    "name": "ipython",
    "version": 3
   },
   "file_extension": ".py",
   "mimetype": "text/x-python",
   "name": "python",
   "nbconvert_exporter": "python",
   "pygments_lexer": "ipython3",
   "version": "3.7.2"
  }
 },
 "nbformat": 4,
 "nbformat_minor": 2
}
