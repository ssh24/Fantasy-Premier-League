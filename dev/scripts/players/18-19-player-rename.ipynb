{
 "cells": [
  {
   "cell_type": "markdown",
   "metadata": {},
   "source": [
    "### Fix player name format for 2018 and 2019 season (Step 3)\n",
    "#### Author: S. Sakib Hasan"
   ]
  },
  {
   "cell_type": "code",
   "execution_count": 1,
   "metadata": {},
   "outputs": [],
   "source": [
    "import os\n",
    "import pandas as pd\n",
    "import numpy as np\n",
    "import re"
   ]
  },
  {
   "cell_type": "code",
   "execution_count": 2,
   "metadata": {},
   "outputs": [],
   "source": [
    "seasons = [\"2018-19\", \"2019-20\"];"
   ]
  },
  {
   "cell_type": "code",
   "execution_count": 3,
   "metadata": {},
   "outputs": [],
   "source": [
    "current_dir = os.getcwd();"
   ]
  },
  {
   "cell_type": "code",
   "execution_count": 4,
   "metadata": {},
   "outputs": [],
   "source": [
    "def isInt(s):\n",
    "    try: \n",
    "        int(s)\n",
    "        return True\n",
    "    except ValueError:\n",
    "        return False"
   ]
  },
  {
   "cell_type": "code",
   "execution_count": 5,
   "metadata": {},
   "outputs": [],
   "source": [
    "def updateName(name):\n",
    "    record = name.split(\"_\");\n",
    "    last = record.pop();\n",
    "    if isInt(last):\n",
    "        return \"_\".join(record);\n",
    "    else:\n",
    "        return name;"
   ]
  },
  {
   "cell_type": "code",
   "execution_count": 6,
   "metadata": {},
   "outputs": [
    {
     "name": "stdout",
     "output_type": "stream",
     "text": [
      "Done renaming players in 2018-19\n",
      "Done renaming players in 2019-20\n"
     ]
    }
   ],
   "source": [
    "for season in seasons:\n",
    "    os.chdir(os.path.join(os.getcwd(), \"..\", \"..\", \"..\", \"data\", season, \"gws\"));\n",
    "    df = pd.read_csv(\"merged_gw_data.csv\");\n",
    "    df[\"name\"] = df[\"name\"].apply(lambda name: updateName(name))\n",
    "    df[\"lower_name\"] = df[\"name\"].apply(lambda name: name.lower());\n",
    "    df.to_csv(\"merged_gw_data.csv\", index=False);\n",
    "    os.chdir(current_dir);\n",
    "    print(\"Done renaming players in {}\".format(season));"
   ]
  }
 ],
 "metadata": {
  "kernelspec": {
   "display_name": "Python 3",
   "language": "python",
   "name": "python3"
  },
  "language_info": {
   "codemirror_mode": {
    "name": "ipython",
    "version": 3
   },
   "file_extension": ".py",
   "mimetype": "text/x-python",
   "name": "python",
   "nbconvert_exporter": "python",
   "pygments_lexer": "ipython3",
   "version": "3.7.2"
  }
 },
 "nbformat": 4,
 "nbformat_minor": 2
}
