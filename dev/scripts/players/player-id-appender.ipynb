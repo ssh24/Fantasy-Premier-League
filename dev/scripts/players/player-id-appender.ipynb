{
 "cells": [
  {
   "cell_type": "markdown",
   "metadata": {},
   "source": [
    "### Player id appender for remaining seasons (Step 5)\n",
    "#### Author: S. Sakib Hasan"
   ]
  },
  {
   "cell_type": "code",
   "execution_count": 1,
   "metadata": {},
   "outputs": [],
   "source": [
    "import os\n",
    "import pandas as pd\n",
    "import numpy as np"
   ]
  },
  {
   "cell_type": "code",
   "execution_count": 2,
   "metadata": {},
   "outputs": [],
   "source": [
    "filename = \"player_id_map.csv\";"
   ]
  },
  {
   "cell_type": "code",
   "execution_count": 3,
   "metadata": {},
   "outputs": [],
   "source": [
    "seasons = [\"2017-18\", \"2018-19\", \"2019-20\"];"
   ]
  },
  {
   "cell_type": "code",
   "execution_count": 4,
   "metadata": {},
   "outputs": [],
   "source": [
    "os.chdir(os.path.join(os.getcwd(), \"..\", \"..\", \"data\"));"
   ]
  },
  {
   "cell_type": "code",
   "execution_count": 5,
   "metadata": {},
   "outputs": [],
   "source": [
    "cwd = os.getcwd()"
   ]
  },
  {
   "cell_type": "code",
   "execution_count": 6,
   "metadata": {},
   "outputs": [
    {
     "name": "stdout",
     "output_type": "stream",
     "text": [
      "Found 215 new players in season 2017-18\n",
      "Found 195 new players in season 2018-19\n"
     ]
    },
    {
     "name": "stderr",
     "output_type": "stream",
     "text": [
      "/usr/local/lib/python3.7/site-packages/pandas/core/frame.py:6701: FutureWarning: Sorting because non-concatenation axis is not aligned. A future version\n",
      "of pandas will change to not sort by default.\n",
      "\n",
      "To accept the future behavior, pass 'sort=False'.\n",
      "\n",
      "To retain the current behavior and silence the warning, pass 'sort=True'.\n",
      "\n",
      "  sort=sort)\n"
     ]
    },
    {
     "name": "stdout",
     "output_type": "stream",
     "text": [
      "Found 130 new players in season 2019-20\n"
     ]
    }
   ],
   "source": [
    "for season in seasons:\n",
    "    player_id_df = pd.read_csv(filename);\n",
    "    existing_names = np.unique(player_id_df[\"player_name\"]);\n",
    "    \n",
    "    os.chdir(os.path.join(os.getcwd(), \"..\", \"..\", \"data\", season, \"gws\"));\n",
    "    df = pd.read_csv(\"merged_gw_data.csv\");\n",
    "    new_names = np.unique(df[\"name\"])\n",
    "    last_index = player_id_df.tail(1).index.item();\n",
    "    last_id = player_id_df.iloc[last_index][\"player_id\"];\n",
    "    player_ids = [];\n",
    "    player_names = [];\n",
    "    player_name_act=[];\n",
    "    \n",
    "    for new in new_names:\n",
    "        if (new not in existing_names):\n",
    "            last_id = last_id + 1\n",
    "            try:\n",
    "                act_name = \" \".join(new.split(\"_\")).encode('raw_unicode_escape').decode('utf-8');\n",
    "            except:\n",
    "                act_name = \" \".join(new.split(\"_\"));\n",
    "            player_name_act.append(act_name);\n",
    "            player_ids.append(last_id);\n",
    "            player_names.append(new);\n",
    "    \n",
    "    print(\"Found {} new players in season {}\".format(len(player_ids), season));\n",
    "        \n",
    "    appender = pd.DataFrame({\"actual_name\": player_name_act, \"player_name\": player_names, \"player_id\": player_ids });\n",
    "    player_id_df = player_id_df.append(appender);\n",
    "    player_id_df.reset_index(drop=True, inplace=True);\n",
    "    \n",
    "    os.chdir(cwd);\n",
    "    player_id_df.to_csv(\"player_id_map.csv\", index=False);"
   ]
  },
  {
   "cell_type": "code",
   "execution_count": 7,
   "metadata": {},
   "outputs": [],
   "source": [
    "pdf = pd.read_csv(filename);"
   ]
  },
  {
   "cell_type": "code",
   "execution_count": 8,
   "metadata": {},
   "outputs": [],
   "source": [
    "player_id_df[\"lower_name\"] = player_id_df[\"player_name\"].apply(lambda name: name.lower())"
   ]
  },
  {
   "cell_type": "code",
   "execution_count": 9,
   "metadata": {},
   "outputs": [
    {
     "data": {
      "text/html": [
       "<div>\n",
       "<style scoped>\n",
       "    .dataframe tbody tr th:only-of-type {\n",
       "        vertical-align: middle;\n",
       "    }\n",
       "\n",
       "    .dataframe tbody tr th {\n",
       "        vertical-align: top;\n",
       "    }\n",
       "\n",
       "    .dataframe thead th {\n",
       "        text-align: right;\n",
       "    }\n",
       "</style>\n",
       "<table border=\"1\" class=\"dataframe\">\n",
       "  <thead>\n",
       "    <tr style=\"text-align: right;\">\n",
       "      <th></th>\n",
       "      <th>actual_name</th>\n",
       "      <th>lower_name</th>\n",
       "      <th>player_id</th>\n",
       "      <th>player_name</th>\n",
       "    </tr>\n",
       "  </thead>\n",
       "  <tbody>\n",
       "    <tr>\n",
       "      <th>743</th>\n",
       "      <td>Eduardo dos Reis Carvalho</td>\n",
       "      <td>eduardo_dos reis carvalho</td>\n",
       "      <td>744</td>\n",
       "      <td>Eduardo_dos Reis Carvalho</td>\n",
       "    </tr>\n",
       "    <tr>\n",
       "      <th>947</th>\n",
       "      <td>David De Gea</td>\n",
       "      <td>david_de gea</td>\n",
       "      <td>948</td>\n",
       "      <td>David_De Gea</td>\n",
       "    </tr>\n",
       "  </tbody>\n",
       "</table>\n",
       "</div>"
      ],
      "text/plain": [
       "                   actual_name                 lower_name  player_id  \\\n",
       "743  Eduardo dos Reis Carvalho  eduardo_dos reis carvalho        744   \n",
       "947               David De Gea               david_de gea        948   \n",
       "\n",
       "                   player_name  \n",
       "743  Eduardo_dos Reis Carvalho  \n",
       "947               David_De Gea  "
      ]
     },
     "execution_count": 9,
     "metadata": {},
     "output_type": "execute_result"
    }
   ],
   "source": [
    "player_id_df[player_id_df.duplicated([\"lower_name\"])]"
   ]
  },
  {
   "cell_type": "code",
   "execution_count": 10,
   "metadata": {},
   "outputs": [],
   "source": [
    "player_id_df.drop_duplicates([\"lower_name\"], inplace=True);"
   ]
  },
  {
   "cell_type": "code",
   "execution_count": 11,
   "metadata": {},
   "outputs": [],
   "source": [
    "player_id_df.to_csv(\"player_id_map.csv\", index=False);"
   ]
  }
 ],
 "metadata": {
  "kernelspec": {
   "display_name": "Python 3",
   "language": "python",
   "name": "python3"
  },
  "language_info": {
   "codemirror_mode": {
    "name": "ipython",
    "version": 3
   },
   "file_extension": ".py",
   "mimetype": "text/x-python",
   "name": "python",
   "nbconvert_exporter": "python",
   "pygments_lexer": "ipython3",
   "version": "3.7.2"
  }
 },
 "nbformat": 4,
 "nbformat_minor": 2
}
