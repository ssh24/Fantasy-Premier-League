{
 "cells": [
  {
   "cell_type": "markdown",
   "metadata": {},
   "source": [
    "### Fix player names to remove raw unicode characters for all season (Step 2)\n",
    "#### Author: S. Sakib Hasan"
   ]
  },
  {
   "cell_type": "code",
   "execution_count": 1,
   "metadata": {},
   "outputs": [],
   "source": [
    "import os\n",
    "import pandas as pd\n",
    "import numpy as np\n",
    "import re"
   ]
  },
  {
   "cell_type": "code",
   "execution_count": 2,
   "metadata": {},
   "outputs": [],
   "source": [
    "os.chdir(os.path.join(os.getcwd(), \"..\", \"..\", \"..\", \"data\"));"
   ]
  },
  {
   "cell_type": "code",
   "execution_count": 3,
   "metadata": {},
   "outputs": [],
   "source": [
    "seasons = [\"2016-17\", \"2017-18\", \"2018-19\", \"2019-20\"];"
   ]
  },
  {
   "cell_type": "code",
   "execution_count": 4,
   "metadata": {},
   "outputs": [],
   "source": [
    "def fixPlayerName(name):\n",
    "    try:\n",
    "        act_name = name.encode('raw_unicode_escape').decode('utf-8');\n",
    "    except:\n",
    "        act_name = name\n",
    "    return act_name;"
   ]
  },
  {
   "cell_type": "code",
   "execution_count": 5,
   "metadata": {},
   "outputs": [
    {
     "name": "stdout",
     "output_type": "stream",
     "text": [
      "Done fixing players in 2016-17\n",
      "Done fixing players in 2017-18\n",
      "Done fixing players in 2018-19\n",
      "Done fixing players in 2019-20\n"
     ]
    }
   ],
   "source": [
    "for season in seasons:\n",
    "    os.chdir(os.path.join(os.getcwd(), season, \"gws\"));\n",
    "    df = pd.read_csv(\"merged_gw_data.csv\");\n",
    "    df[\"name\"] = df[\"name\"].apply(lambda name: fixPlayerName(name));\n",
    "    df[\"lower_name\"] = df[\"name\"].apply(lambda name: name.lower());\n",
    "    df.to_csv(\"merged_gw_data.csv\", index=False);\n",
    "    os.chdir(os.path.join(os.getcwd(), \"..\", \"..\"));\n",
    "    print(\"Done fixing players in {}\".format(season));"
   ]
  }
 ],
 "metadata": {
  "kernelspec": {
   "display_name": "Python 3",
   "language": "python",
   "name": "python3"
  },
  "language_info": {
   "codemirror_mode": {
    "name": "ipython",
    "version": 3
   },
   "file_extension": ".py",
   "mimetype": "text/x-python",
   "name": "python",
   "nbconvert_exporter": "python",
   "pygments_lexer": "ipython3",
   "version": "3.7.2"
  }
 },
 "nbformat": 4,
 "nbformat_minor": 2
}
