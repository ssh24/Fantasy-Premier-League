{
 "cells": [
  {
   "cell_type": "code",
   "execution_count": 1,
   "metadata": {},
   "outputs": [],
   "source": [
    "# load and the test weekly fpl scrape\n",
    "season=\"2019-20\"\n",
    "gw=22\n",
    "model_type=\"rf\""
   ]
  },
  {
   "cell_type": "code",
   "execution_count": 2,
   "metadata": {},
   "outputs": [
    {
     "name": "stderr",
     "output_type": "stream",
     "text": [
      "Using TensorFlow backend.\n",
      "/usr/local/lib/python3.7/site-packages/sklearn/externals/joblib/__init__.py:15: FutureWarning: sklearn.externals.joblib is deprecated in 0.21 and will be removed in 0.23. Please import this functionality directly from joblib, which can be installed with: pip install joblib. If this warning is raised when loading pickled models, you may need to re-serialize those models with scikit-learn 0.21+.\n",
      "  warnings.warn(msg, category=FutureWarning)\n"
     ]
    }
   ],
   "source": [
    "import os\n",
    "import pandas as pd\n",
    "import numpy as np\n",
    "from keras.models import load_model\n",
    "import pickle\n",
    "from sklearn.externals import joblib"
   ]
  },
  {
   "cell_type": "code",
   "execution_count": 3,
   "metadata": {},
   "outputs": [],
   "source": [
    "os.chdir(os.path.join(os.getcwd(), \"..\", \"..\", \"data\"));"
   ]
  },
  {
   "cell_type": "code",
   "execution_count": 4,
   "metadata": {},
   "outputs": [],
   "source": [
    "# scaler = joblib.load(\"scaler.save\")"
   ]
  },
  {
   "cell_type": "code",
   "execution_count": 5,
   "metadata": {},
   "outputs": [],
   "source": [
    "player_id_df = pd.read_csv(\"player_id_map.csv\");"
   ]
  },
  {
   "cell_type": "code",
   "execution_count": 6,
   "metadata": {},
   "outputs": [],
   "source": [
    "team_id_df = pd.read_csv(\"team_id_map.csv\");"
   ]
  },
  {
   "cell_type": "code",
   "execution_count": 7,
   "metadata": {},
   "outputs": [],
   "source": [
    "X_test = pd.read_csv(\"x-test.csv\");"
   ]
  },
  {
   "cell_type": "code",
   "execution_count": 8,
   "metadata": {},
   "outputs": [],
   "source": [
    "os.chdir(os.path.join(os.getcwd(), \"..\"))"
   ]
  },
  {
   "cell_type": "code",
   "execution_count": 9,
   "metadata": {},
   "outputs": [],
   "source": [
    "model_dir = os.path.join(os.getcwd(), \"model\", season, str(gw))"
   ]
  },
  {
   "cell_type": "code",
   "execution_count": 10,
   "metadata": {},
   "outputs": [],
   "source": [
    "lineup_dir = os.path.join(os.getcwd(), \"predicted-lineup\", season, str(gw))"
   ]
  },
  {
   "cell_type": "code",
   "execution_count": 11,
   "metadata": {},
   "outputs": [],
   "source": [
    "os.chdir(model_dir)"
   ]
  },
  {
   "cell_type": "code",
   "execution_count": 12,
   "metadata": {},
   "outputs": [],
   "source": [
    "if model_type == \"nn\":\n",
    "    model = load_model(\"{}-model.h5\".format(model_type))\n",
    "else:\n",
    "    with open(\"{}-model.pkl\".format(model_type), 'rb') as f:\n",
    "            model = pickle.load(f)"
   ]
  },
  {
   "cell_type": "code",
   "execution_count": 13,
   "metadata": {},
   "outputs": [],
   "source": [
    "os.chdir(lineup_dir)"
   ]
  },
  {
   "cell_type": "code",
   "execution_count": 14,
   "metadata": {},
   "outputs": [],
   "source": [
    "weekly_scrape = pd.read_csv(\"gw{}-fpl-data.csv\".format(gw));"
   ]
  },
  {
   "cell_type": "code",
   "execution_count": 15,
   "metadata": {},
   "outputs": [],
   "source": [
    "weekly_scrape_scaled = weekly_scrape[X_test.columns];\n",
    "# scaler.transform(weekly_scrape[X_test.columns]);"
   ]
  },
  {
   "cell_type": "code",
   "execution_count": 16,
   "metadata": {},
   "outputs": [],
   "source": [
    "y_pred_weekly = model.predict(weekly_scrape_scaled);"
   ]
  },
  {
   "cell_type": "code",
   "execution_count": 17,
   "metadata": {},
   "outputs": [],
   "source": [
    "y_pred_weekly_df = pd.DataFrame({'player_id': list(weekly_scrape[\"player_id\"]), \n",
    "                                 'position': list(weekly_scrape[\"position\"]),\n",
    "                                 'predicted': y_pred_weekly.flatten()});"
   ]
  },
  {
   "cell_type": "code",
   "execution_count": 18,
   "metadata": {},
   "outputs": [],
   "source": [
    "player_names = [];\n",
    "opponent_names = [];\n",
    "\n",
    "for index, row in weekly_scrape.iterrows():\n",
    "    player_id = row[\"player_id\"];\n",
    "    opponent_id = row[\"opponent_id\"];\n",
    "    \n",
    "    player_names.append(player_id_df[player_id_df[\"player_id\"] == player_id][\"actual_name\"].iloc[0]);\n",
    "    opponent_names.append(team_id_df[team_id_df[\"team_id\"] == opponent_id][\"team_name\"].iloc[0]);"
   ]
  },
  {
   "cell_type": "code",
   "execution_count": 19,
   "metadata": {},
   "outputs": [],
   "source": [
    "y_pred_weekly_df[\"player_name\"] = player_names;\n",
    "y_pred_weekly_df[\"opponent\"] = opponent_names;"
   ]
  },
  {
   "cell_type": "code",
   "execution_count": 20,
   "metadata": {},
   "outputs": [],
   "source": [
    "y_pred_weekly_df = y_pred_weekly_df[[\"player_id\", \"position\", \"player_name\", \"opponent\", \"predicted\"]];"
   ]
  },
  {
   "cell_type": "code",
   "execution_count": 21,
   "metadata": {},
   "outputs": [
    {
     "data": {
      "text/html": [
       "<div>\n",
       "<style scoped>\n",
       "    .dataframe tbody tr th:only-of-type {\n",
       "        vertical-align: middle;\n",
       "    }\n",
       "\n",
       "    .dataframe tbody tr th {\n",
       "        vertical-align: top;\n",
       "    }\n",
       "\n",
       "    .dataframe thead th {\n",
       "        text-align: right;\n",
       "    }\n",
       "</style>\n",
       "<table border=\"1\" class=\"dataframe\">\n",
       "  <thead>\n",
       "    <tr style=\"text-align: right;\">\n",
       "      <th></th>\n",
       "      <th>player_id</th>\n",
       "      <th>position</th>\n",
       "      <th>player_name</th>\n",
       "      <th>opponent</th>\n",
       "      <th>predicted</th>\n",
       "    </tr>\n",
       "  </thead>\n",
       "  <tbody>\n",
       "    <tr>\n",
       "      <th>7</th>\n",
       "      <td>585</td>\n",
       "      <td>MID</td>\n",
       "      <td>Sadio Mané</td>\n",
       "      <td>Tottenham Hotspur</td>\n",
       "      <td>3.256629</td>\n",
       "    </tr>\n",
       "    <tr>\n",
       "      <th>2</th>\n",
       "      <td>648</td>\n",
       "      <td>DEF</td>\n",
       "      <td>Trent Alexander-Arnold</td>\n",
       "      <td>Tottenham Hotspur</td>\n",
       "      <td>3.246029</td>\n",
       "    </tr>\n",
       "    <tr>\n",
       "      <th>14</th>\n",
       "      <td>882</td>\n",
       "      <td>FWD</td>\n",
       "      <td>Tammy Abraham</td>\n",
       "      <td>Burnley</td>\n",
       "      <td>3.095744</td>\n",
       "    </tr>\n",
       "    <tr>\n",
       "      <th>0</th>\n",
       "      <td>3</td>\n",
       "      <td>GK</td>\n",
       "      <td>Aaron Ramsdale</td>\n",
       "      <td>Watford</td>\n",
       "      <td>2.905090</td>\n",
       "    </tr>\n",
       "    <tr>\n",
       "      <th>3</th>\n",
       "      <td>91</td>\n",
       "      <td>DEF</td>\n",
       "      <td>Benjamin Chilwell</td>\n",
       "      <td>Southampton</td>\n",
       "      <td>2.806487</td>\n",
       "    </tr>\n",
       "    <tr>\n",
       "      <th>6</th>\n",
       "      <td>1167</td>\n",
       "      <td>DEF</td>\n",
       "      <td>John Lundstram</td>\n",
       "      <td>West Ham United</td>\n",
       "      <td>2.786550</td>\n",
       "    </tr>\n",
       "    <tr>\n",
       "      <th>9</th>\n",
       "      <td>385</td>\n",
       "      <td>MID</td>\n",
       "      <td>Kevin De Bruyne</td>\n",
       "      <td>Aston Villa</td>\n",
       "      <td>2.601826</td>\n",
       "    </tr>\n",
       "    <tr>\n",
       "      <th>12</th>\n",
       "      <td>161</td>\n",
       "      <td>FWD</td>\n",
       "      <td>Danny Ings</td>\n",
       "      <td>Leicester City</td>\n",
       "      <td>2.598956</td>\n",
       "    </tr>\n",
       "    <tr>\n",
       "      <th>11</th>\n",
       "      <td>1233</td>\n",
       "      <td>MID</td>\n",
       "      <td>Todd Cantwell</td>\n",
       "      <td>Manchester United</td>\n",
       "      <td>2.577380</td>\n",
       "    </tr>\n",
       "    <tr>\n",
       "      <th>8</th>\n",
       "      <td>78</td>\n",
       "      <td>MID</td>\n",
       "      <td>Bamidele Alli</td>\n",
       "      <td>Liverpool</td>\n",
       "      <td>2.527455</td>\n",
       "    </tr>\n",
       "    <tr>\n",
       "      <th>5</th>\n",
       "      <td>451</td>\n",
       "      <td>DEF</td>\n",
       "      <td>Martin Kelly</td>\n",
       "      <td>Arsenal</td>\n",
       "      <td>2.288398</td>\n",
       "    </tr>\n",
       "    <tr>\n",
       "      <th>10</th>\n",
       "      <td>1153</td>\n",
       "      <td>MID</td>\n",
       "      <td>Jack Grealish</td>\n",
       "      <td>Manchester City</td>\n",
       "      <td>2.249596</td>\n",
       "    </tr>\n",
       "    <tr>\n",
       "      <th>13</th>\n",
       "      <td>304</td>\n",
       "      <td>FWD</td>\n",
       "      <td>Jamie Vardy</td>\n",
       "      <td>Southampton</td>\n",
       "      <td>0.799922</td>\n",
       "    </tr>\n",
       "    <tr>\n",
       "      <th>1</th>\n",
       "      <td>947</td>\n",
       "      <td>GK</td>\n",
       "      <td>David Button</td>\n",
       "      <td>Everton</td>\n",
       "      <td>0.185529</td>\n",
       "    </tr>\n",
       "    <tr>\n",
       "      <th>4</th>\n",
       "      <td>977</td>\n",
       "      <td>DEF</td>\n",
       "      <td>Issa Diop</td>\n",
       "      <td>Sheffield United</td>\n",
       "      <td>0.090700</td>\n",
       "    </tr>\n",
       "  </tbody>\n",
       "</table>\n",
       "</div>"
      ],
      "text/plain": [
       "    player_id position             player_name           opponent  predicted\n",
       "7         585      MID              Sadio Mané  Tottenham Hotspur   3.256629\n",
       "2         648      DEF  Trent Alexander-Arnold  Tottenham Hotspur   3.246029\n",
       "14        882      FWD           Tammy Abraham            Burnley   3.095744\n",
       "0           3       GK          Aaron Ramsdale            Watford   2.905090\n",
       "3          91      DEF       Benjamin Chilwell        Southampton   2.806487\n",
       "6        1167      DEF          John Lundstram    West Ham United   2.786550\n",
       "9         385      MID         Kevin De Bruyne        Aston Villa   2.601826\n",
       "12        161      FWD              Danny Ings     Leicester City   2.598956\n",
       "11       1233      MID           Todd Cantwell  Manchester United   2.577380\n",
       "8          78      MID           Bamidele Alli          Liverpool   2.527455\n",
       "5         451      DEF            Martin Kelly            Arsenal   2.288398\n",
       "10       1153      MID           Jack Grealish    Manchester City   2.249596\n",
       "13        304      FWD             Jamie Vardy        Southampton   0.799922\n",
       "1         947       GK            David Button            Everton   0.185529\n",
       "4         977      DEF               Issa Diop   Sheffield United   0.090700"
      ]
     },
     "execution_count": 21,
     "metadata": {},
     "output_type": "execute_result"
    }
   ],
   "source": [
    "y_pred_weekly_df.sort_values([\"predicted\"], ascending=False)"
   ]
  },
  {
   "cell_type": "code",
   "execution_count": 22,
   "metadata": {},
   "outputs": [],
   "source": [
    "y_pred_weekly_df.to_csv(\"gw{}-predicted-data-{}.csv\".format(gw, model_type));"
   ]
  },
  {
   "cell_type": "code",
   "execution_count": 23,
   "metadata": {},
   "outputs": [],
   "source": [
    "min_max_pos = {\n",
    "    \"GK\": {\n",
    "        \"min\": 1,\n",
    "        \"max\": 1\n",
    "    },\n",
    "    \"DEF\": {\n",
    "        \"min\": 3,\n",
    "        \"max\": 5\n",
    "    },\n",
    "    \"MID\": {\n",
    "        \"min\": 2,\n",
    "        \"max\": 5\n",
    "    },\n",
    "    \"FWD\": {\n",
    "        \"min\": 1,\n",
    "        \"max\": 3\n",
    "    }\n",
    "}"
   ]
  },
  {
   "cell_type": "code",
   "execution_count": 24,
   "metadata": {},
   "outputs": [],
   "source": [
    "def best11(df, max_players=11, verbose=0):\n",
    "    selectedTeam = pd.DataFrame(columns=df.columns);\n",
    "    positions = list(np.unique(df[\"position\"]));\n",
    "    availablePlayers = pd.DataFrame(columns=df.columns);\n",
    "    \n",
    "    if (df.shape[0] < max_players):\n",
    "        raise Exception(\"Err: Cannot have less than {} players in a game\".format(max_players));\n",
    "    \n",
    "    # base cases - min 1 keeper, 3 def, 2 mids, 1 fwd\n",
    "    for position in positions:\n",
    "        original_query = df[df[\"position\"] == position].sort_values([\"predicted\"], ascending=False);\n",
    "        if (original_query.shape[0] < min_max_pos[position][\"min\"]):\n",
    "            raise Exception(\"Err: Cannot have less than {} {} in the formation. Found only {}\".format(min_max_pos[position][\"min\"], position, original_query.shape[0]));\n",
    "        df_head = original_query.head(min_max_pos[position][\"min\"]);\n",
    "        df_tail = original_query.tail(original_query.shape[0] - df_head.shape[0]);\n",
    "        selectedTeam = selectedTeam.append(df_head);\n",
    "        availablePlayers = availablePlayers.append(df_tail);\n",
    "\n",
    "    gk_ind = positions.index(\"GK\");\n",
    "    del positions[gk_ind];\n",
    "    \n",
    "    num_players = selectedTeam.shape[0];\n",
    "    \n",
    "    if verbose == 1:\n",
    "        print(\"Initial selected team\", selectedTeam)\n",
    "        print(\"\\n\")\n",
    "    \n",
    "    # recursive case - max 5 def, 5 mids, 3 fwd\n",
    "    while num_players < max_players:\n",
    "        num_def = selectedTeam[selectedTeam[\"position\"] == \"DEF\"].shape[0];\n",
    "        num_mid = selectedTeam[selectedTeam[\"position\"] == \"MID\"].shape[0];\n",
    "        num_fwd = selectedTeam[selectedTeam[\"position\"] == \"FWD\"].shape[0];\n",
    "        \n",
    "        candidates=[]\n",
    "\n",
    "        # for each position, select the best candidate\n",
    "        for position in positions:\n",
    "            original_query = df[df[\"position\"] == position].sort_values([\"predicted\"], ascending=False);\n",
    "            num_position = selectedTeam[selectedTeam[\"position\"] == position].shape[0];\n",
    "            \n",
    "            # and availablePlayers[availablePlayers[\"position\"] == position].shape[0] > 0\n",
    "            if (num_position < min_max_pos[position][\"max\"] and availablePlayers[availablePlayers[\"position\"] == position].shape[0] > 0):\n",
    "                candidate = original_query.head(selectedTeam[selectedTeam[\"position\"] == position].shape[0] + 1).tail(1)\n",
    "                candidates.append(candidate);\n",
    "        \n",
    "        if verbose == 1:\n",
    "            print(\"Candidates: \", candidates);\n",
    "        \n",
    "        max_score = 0\n",
    "        for index in range(len(candidates)):\n",
    "            score = candidates[index][\"predicted\"].iloc[0]\n",
    "            if (score > max_score):\n",
    "                max_score = score\n",
    "                best_player = candidates[index];\n",
    "        \n",
    "        if verbose == 1:\n",
    "            print(\"Candidate chosen: \", best_player.iloc[0][\"player_name\"])\n",
    "        selectedTeam = selectedTeam.append(best_player);\n",
    "        availablePlayers = availablePlayers[availablePlayers[\"player_id\"] != best_player.iloc[0][\"player_id\"]];\n",
    "        \n",
    "        num_players = num_players + 1;\n",
    "        \n",
    "        if verbose == 1:\n",
    "            print(\"Chose {} players\".format(num_players))\n",
    "            print(selectedTeam)\n",
    "            print(\"\\n\")\n",
    "        \n",
    "    best11 = pd.DataFrame(columns=selectedTeam.columns);\n",
    "    best11 = best11.append(selectedTeam[selectedTeam[\"position\"] == \"GK\"]);\n",
    "    best11 = best11.append(selectedTeam[selectedTeam[\"position\"] == \"DEF\"]);\n",
    "    best11 = best11.append(selectedTeam[selectedTeam[\"position\"] == \"MID\"]);\n",
    "    best11 = best11.append(selectedTeam[selectedTeam[\"position\"] == \"FWD\"]);\n",
    "    \n",
    "    top2_ = list(best11.sort_values([\"predicted\"], ascending=False).head(2).index);\n",
    "    best11[\"roles\"] = \"\"\n",
    "    best11.at[top2_[0], 'roles']=\"C\"\n",
    "    best11.at[top2_[1], 'roles']=\"VC\"\n",
    "    \n",
    "    best11[\"predicted\"] = best11[\"predicted\"].apply(lambda predicted: round(predicted, 0));\n",
    "    \n",
    "    best11[\"predicted\"] = best11.apply(lambda row: row[\"predicted\"] * 2 if row[\"roles\"] == \"C\" else row[\"predicted\"], axis=1)\n",
    "    \n",
    "    return best11\n"
   ]
  },
  {
   "cell_type": "code",
   "execution_count": 25,
   "metadata": {},
   "outputs": [],
   "source": [
    "best11 = best11(y_pred_weekly_df)"
   ]
  },
  {
   "cell_type": "code",
   "execution_count": 26,
   "metadata": {},
   "outputs": [
    {
     "data": {
      "text/html": [
       "<div>\n",
       "<style scoped>\n",
       "    .dataframe tbody tr th:only-of-type {\n",
       "        vertical-align: middle;\n",
       "    }\n",
       "\n",
       "    .dataframe tbody tr th {\n",
       "        vertical-align: top;\n",
       "    }\n",
       "\n",
       "    .dataframe thead th {\n",
       "        text-align: right;\n",
       "    }\n",
       "</style>\n",
       "<table border=\"1\" class=\"dataframe\">\n",
       "  <thead>\n",
       "    <tr style=\"text-align: right;\">\n",
       "      <th></th>\n",
       "      <th>player_id</th>\n",
       "      <th>position</th>\n",
       "      <th>player_name</th>\n",
       "      <th>opponent</th>\n",
       "      <th>predicted</th>\n",
       "      <th>roles</th>\n",
       "    </tr>\n",
       "  </thead>\n",
       "  <tbody>\n",
       "    <tr>\n",
       "      <th>0</th>\n",
       "      <td>3</td>\n",
       "      <td>GK</td>\n",
       "      <td>Aaron Ramsdale</td>\n",
       "      <td>Watford</td>\n",
       "      <td>3.0</td>\n",
       "      <td></td>\n",
       "    </tr>\n",
       "    <tr>\n",
       "      <th>2</th>\n",
       "      <td>648</td>\n",
       "      <td>DEF</td>\n",
       "      <td>Trent Alexander-Arnold</td>\n",
       "      <td>Tottenham Hotspur</td>\n",
       "      <td>3.0</td>\n",
       "      <td>VC</td>\n",
       "    </tr>\n",
       "    <tr>\n",
       "      <th>3</th>\n",
       "      <td>91</td>\n",
       "      <td>DEF</td>\n",
       "      <td>Benjamin Chilwell</td>\n",
       "      <td>Southampton</td>\n",
       "      <td>3.0</td>\n",
       "      <td></td>\n",
       "    </tr>\n",
       "    <tr>\n",
       "      <th>6</th>\n",
       "      <td>1167</td>\n",
       "      <td>DEF</td>\n",
       "      <td>John Lundstram</td>\n",
       "      <td>West Ham United</td>\n",
       "      <td>3.0</td>\n",
       "      <td></td>\n",
       "    </tr>\n",
       "    <tr>\n",
       "      <th>5</th>\n",
       "      <td>451</td>\n",
       "      <td>DEF</td>\n",
       "      <td>Martin Kelly</td>\n",
       "      <td>Arsenal</td>\n",
       "      <td>2.0</td>\n",
       "      <td></td>\n",
       "    </tr>\n",
       "    <tr>\n",
       "      <th>7</th>\n",
       "      <td>585</td>\n",
       "      <td>MID</td>\n",
       "      <td>Sadio Mané</td>\n",
       "      <td>Tottenham Hotspur</td>\n",
       "      <td>6.0</td>\n",
       "      <td>C</td>\n",
       "    </tr>\n",
       "    <tr>\n",
       "      <th>9</th>\n",
       "      <td>385</td>\n",
       "      <td>MID</td>\n",
       "      <td>Kevin De Bruyne</td>\n",
       "      <td>Aston Villa</td>\n",
       "      <td>3.0</td>\n",
       "      <td></td>\n",
       "    </tr>\n",
       "    <tr>\n",
       "      <th>11</th>\n",
       "      <td>1233</td>\n",
       "      <td>MID</td>\n",
       "      <td>Todd Cantwell</td>\n",
       "      <td>Manchester United</td>\n",
       "      <td>3.0</td>\n",
       "      <td></td>\n",
       "    </tr>\n",
       "    <tr>\n",
       "      <th>8</th>\n",
       "      <td>78</td>\n",
       "      <td>MID</td>\n",
       "      <td>Bamidele Alli</td>\n",
       "      <td>Liverpool</td>\n",
       "      <td>3.0</td>\n",
       "      <td></td>\n",
       "    </tr>\n",
       "    <tr>\n",
       "      <th>14</th>\n",
       "      <td>882</td>\n",
       "      <td>FWD</td>\n",
       "      <td>Tammy Abraham</td>\n",
       "      <td>Burnley</td>\n",
       "      <td>3.0</td>\n",
       "      <td></td>\n",
       "    </tr>\n",
       "    <tr>\n",
       "      <th>12</th>\n",
       "      <td>161</td>\n",
       "      <td>FWD</td>\n",
       "      <td>Danny Ings</td>\n",
       "      <td>Leicester City</td>\n",
       "      <td>3.0</td>\n",
       "      <td></td>\n",
       "    </tr>\n",
       "  </tbody>\n",
       "</table>\n",
       "</div>"
      ],
      "text/plain": [
       "   player_id position             player_name           opponent  predicted  \\\n",
       "0          3       GK          Aaron Ramsdale            Watford        3.0   \n",
       "2        648      DEF  Trent Alexander-Arnold  Tottenham Hotspur        3.0   \n",
       "3         91      DEF       Benjamin Chilwell        Southampton        3.0   \n",
       "6       1167      DEF          John Lundstram    West Ham United        3.0   \n",
       "5        451      DEF            Martin Kelly            Arsenal        2.0   \n",
       "7        585      MID              Sadio Mané  Tottenham Hotspur        6.0   \n",
       "9        385      MID         Kevin De Bruyne        Aston Villa        3.0   \n",
       "11      1233      MID           Todd Cantwell  Manchester United        3.0   \n",
       "8         78      MID           Bamidele Alli          Liverpool        3.0   \n",
       "14       882      FWD           Tammy Abraham            Burnley        3.0   \n",
       "12       161      FWD              Danny Ings     Leicester City        3.0   \n",
       "\n",
       "   roles  \n",
       "0         \n",
       "2     VC  \n",
       "3         \n",
       "6         \n",
       "5         \n",
       "7      C  \n",
       "9         \n",
       "11        \n",
       "8         \n",
       "14        \n",
       "12        "
      ]
     },
     "execution_count": 26,
     "metadata": {},
     "output_type": "execute_result"
    }
   ],
   "source": [
    "best11"
   ]
  },
  {
   "cell_type": "code",
   "execution_count": 27,
   "metadata": {},
   "outputs": [
    {
     "data": {
      "text/plain": [
       "35.0"
      ]
     },
     "execution_count": 27,
     "metadata": {},
     "output_type": "execute_result"
    }
   ],
   "source": [
    "sum(best11[\"predicted\"])"
   ]
  },
  {
   "cell_type": "code",
   "execution_count": 28,
   "metadata": {},
   "outputs": [],
   "source": [
    "best11.to_csv(\"gw{}-best11-{}.csv\".format(gw,model_type), index=False);"
   ]
  }
 ],
 "metadata": {
  "kernelspec": {
   "display_name": "Python 3",
   "language": "python",
   "name": "python3"
  },
  "language_info": {
   "codemirror_mode": {
    "name": "ipython",
    "version": 3
   },
   "file_extension": ".py",
   "mimetype": "text/x-python",
   "name": "python",
   "nbconvert_exporter": "python",
   "pygments_lexer": "ipython3",
   "version": "3.7.2"
  }
 },
 "nbformat": 4,
 "nbformat_minor": 2
}
