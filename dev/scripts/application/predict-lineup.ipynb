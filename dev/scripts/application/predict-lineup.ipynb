{
 "cells": [
  {
   "cell_type": "code",
   "execution_count": 1,
   "metadata": {},
   "outputs": [],
   "source": [
    "# load and the test weekly fpl scrape\n",
    "season=\"2019-20\"\n",
    "gw=10\n",
    "model_type=\"rf\""
   ]
  },
  {
   "cell_type": "code",
   "execution_count": 2,
   "metadata": {},
   "outputs": [
    {
     "name": "stderr",
     "output_type": "stream",
     "text": [
      "Using TensorFlow backend.\n"
     ]
    }
   ],
   "source": [
    "import os\n",
    "import pandas as pd\n",
    "import numpy as np\n",
    "from keras.models import load_model\n",
    "import pickle\n",
    "from sklearn.externals import joblib"
   ]
  },
  {
   "cell_type": "code",
   "execution_count": 3,
   "metadata": {},
   "outputs": [],
   "source": [
    "os.chdir(os.path.join(os.getcwd(), \"..\", \"..\", \"data\"));"
   ]
  },
  {
   "cell_type": "code",
   "execution_count": 4,
   "metadata": {},
   "outputs": [],
   "source": [
    "# scaler = joblib.load(\"scaler.save\")"
   ]
  },
  {
   "cell_type": "code",
   "execution_count": 5,
   "metadata": {},
   "outputs": [],
   "source": [
    "player_id_df = pd.read_csv(\"player_id_map.csv\");"
   ]
  },
  {
   "cell_type": "code",
   "execution_count": 6,
   "metadata": {},
   "outputs": [],
   "source": [
    "team_id_df = pd.read_csv(\"team_id_map.csv\");"
   ]
  },
  {
   "cell_type": "code",
   "execution_count": 7,
   "metadata": {},
   "outputs": [],
   "source": [
    "X_test = pd.read_csv(\"x-test.csv\");"
   ]
  },
  {
   "cell_type": "code",
   "execution_count": 8,
   "metadata": {},
   "outputs": [],
   "source": [
    "os.chdir(os.path.join(os.getcwd(), \"..\"))"
   ]
  },
  {
   "cell_type": "code",
   "execution_count": 9,
   "metadata": {},
   "outputs": [],
   "source": [
    "model_dir = os.path.join(os.getcwd(), \"model\", season, str(gw))"
   ]
  },
  {
   "cell_type": "code",
   "execution_count": 10,
   "metadata": {},
   "outputs": [],
   "source": [
    "lineup_dir = os.path.join(os.getcwd(), \"predicted-lineup\", season, str(gw))"
   ]
  },
  {
   "cell_type": "code",
   "execution_count": 11,
   "metadata": {},
   "outputs": [],
   "source": [
    "os.chdir(model_dir)"
   ]
  },
  {
   "cell_type": "code",
   "execution_count": 12,
   "metadata": {},
   "outputs": [],
   "source": [
    "if model_type == \"nn\":\n",
    "    model = load_model(\"{}-model.h5\".format(model_type))\n",
    "else:\n",
    "    with open(\"{}-model.pkl\".format(model_type), 'rb') as f:\n",
    "            model = pickle.load(f)"
   ]
  },
  {
   "cell_type": "code",
   "execution_count": 13,
   "metadata": {},
   "outputs": [],
   "source": [
    "os.chdir(lineup_dir)"
   ]
  },
  {
   "cell_type": "code",
   "execution_count": 14,
   "metadata": {},
   "outputs": [],
   "source": [
    "weekly_scrape = pd.read_csv(\"gw{}-fpl-data.csv\".format(gw));"
   ]
  },
  {
   "cell_type": "code",
   "execution_count": 15,
   "metadata": {},
   "outputs": [],
   "source": [
    "weekly_scrape_scaled = weekly_scrape[X_test.columns];\n",
    "# scaler.transform(weekly_scrape[X_test.columns]);"
   ]
  },
  {
   "cell_type": "code",
   "execution_count": 16,
   "metadata": {},
   "outputs": [],
   "source": [
    "y_pred_weekly = model.predict(weekly_scrape_scaled);"
   ]
  },
  {
   "cell_type": "code",
   "execution_count": 17,
   "metadata": {},
   "outputs": [],
   "source": [
    "y_pred_weekly_df = pd.DataFrame({'player_id': list(weekly_scrape[\"player_id\"]), \n",
    "                                 'position': list(weekly_scrape[\"position\"]),\n",
    "                                 'predicted': y_pred_weekly.flatten()});"
   ]
  },
  {
   "cell_type": "code",
   "execution_count": 18,
   "metadata": {},
   "outputs": [],
   "source": [
    "player_names = [];\n",
    "opponent_names = [];\n",
    "\n",
    "for index, row in weekly_scrape.iterrows():\n",
    "    player_id = row[\"player_id\"];\n",
    "    opponent_id = row[\"opponent_id\"];\n",
    "    \n",
    "    player_names.append(player_id_df[player_id_df[\"player_id\"] == player_id][\"actual_name\"].iloc[0]);\n",
    "    opponent_names.append(team_id_df[team_id_df[\"team_id\"] == opponent_id][\"team_name\"].iloc[0]);"
   ]
  },
  {
   "cell_type": "code",
   "execution_count": 19,
   "metadata": {},
   "outputs": [],
   "source": [
    "y_pred_weekly_df[\"player_name\"] = player_names;\n",
    "y_pred_weekly_df[\"opponent\"] = opponent_names;"
   ]
  },
  {
   "cell_type": "code",
   "execution_count": 20,
   "metadata": {},
   "outputs": [],
   "source": [
    "y_pred_weekly_df = y_pred_weekly_df[[\"player_id\", \"position\", \"player_name\", \"opponent\", \"predicted\"]];"
   ]
  },
  {
   "cell_type": "code",
   "execution_count": 21,
   "metadata": {},
   "outputs": [
    {
     "data": {
      "text/html": [
       "<div>\n",
       "<style scoped>\n",
       "    .dataframe tbody tr th:only-of-type {\n",
       "        vertical-align: middle;\n",
       "    }\n",
       "\n",
       "    .dataframe tbody tr th {\n",
       "        vertical-align: top;\n",
       "    }\n",
       "\n",
       "    .dataframe thead th {\n",
       "        text-align: right;\n",
       "    }\n",
       "</style>\n",
       "<table border=\"1\" class=\"dataframe\">\n",
       "  <thead>\n",
       "    <tr style=\"text-align: right;\">\n",
       "      <th></th>\n",
       "      <th>player_id</th>\n",
       "      <th>position</th>\n",
       "      <th>player_name</th>\n",
       "      <th>opponent</th>\n",
       "      <th>predicted</th>\n",
       "    </tr>\n",
       "  </thead>\n",
       "  <tbody>\n",
       "    <tr>\n",
       "      <th>7</th>\n",
       "      <td>585</td>\n",
       "      <td>MID</td>\n",
       "      <td>Sadio Mané</td>\n",
       "      <td>Tottenham Hotspur</td>\n",
       "      <td>3.367586</td>\n",
       "    </tr>\n",
       "    <tr>\n",
       "      <th>10</th>\n",
       "      <td>385</td>\n",
       "      <td>MID</td>\n",
       "      <td>Kevin De Bruyne</td>\n",
       "      <td>Aston Villa</td>\n",
       "      <td>3.352451</td>\n",
       "    </tr>\n",
       "    <tr>\n",
       "      <th>17</th>\n",
       "      <td>304</td>\n",
       "      <td>FWD</td>\n",
       "      <td>Jamie Vardy</td>\n",
       "      <td>Southampton</td>\n",
       "      <td>3.324969</td>\n",
       "    </tr>\n",
       "    <tr>\n",
       "      <th>16</th>\n",
       "      <td>161</td>\n",
       "      <td>FWD</td>\n",
       "      <td>Danny Ings</td>\n",
       "      <td>Leicester City</td>\n",
       "      <td>3.274737</td>\n",
       "    </tr>\n",
       "    <tr>\n",
       "      <th>2</th>\n",
       "      <td>648</td>\n",
       "      <td>DEF</td>\n",
       "      <td>Trent Alexander-Arnold</td>\n",
       "      <td>Tottenham Hotspur</td>\n",
       "      <td>3.205010</td>\n",
       "    </tr>\n",
       "    <tr>\n",
       "      <th>4</th>\n",
       "      <td>977</td>\n",
       "      <td>DEF</td>\n",
       "      <td>Issa Diop</td>\n",
       "      <td>Sheffield United</td>\n",
       "      <td>3.105472</td>\n",
       "    </tr>\n",
       "    <tr>\n",
       "      <th>14</th>\n",
       "      <td>858</td>\n",
       "      <td>FWD</td>\n",
       "      <td>Pierre-Emerick Aubameyang</td>\n",
       "      <td>Crystal Palace</td>\n",
       "      <td>3.031038</td>\n",
       "    </tr>\n",
       "    <tr>\n",
       "      <th>12</th>\n",
       "      <td>882</td>\n",
       "      <td>FWD</td>\n",
       "      <td>Tammy Abraham</td>\n",
       "      <td>Burnley</td>\n",
       "      <td>2.956601</td>\n",
       "    </tr>\n",
       "    <tr>\n",
       "      <th>13</th>\n",
       "      <td>1211</td>\n",
       "      <td>FWD</td>\n",
       "      <td>Teemu Pukki</td>\n",
       "      <td>Manchester United</td>\n",
       "      <td>2.923175</td>\n",
       "    </tr>\n",
       "    <tr>\n",
       "      <th>18</th>\n",
       "      <td>17</td>\n",
       "      <td>MID</td>\n",
       "      <td>Adama Traoré</td>\n",
       "      <td>Newcastle United</td>\n",
       "      <td>2.872443</td>\n",
       "    </tr>\n",
       "    <tr>\n",
       "      <th>15</th>\n",
       "      <td>439</td>\n",
       "      <td>DEF</td>\n",
       "      <td>Marcos Alonso</td>\n",
       "      <td>Burnley</td>\n",
       "      <td>2.807538</td>\n",
       "    </tr>\n",
       "    <tr>\n",
       "      <th>0</th>\n",
       "      <td>832</td>\n",
       "      <td>GK</td>\n",
       "      <td>Mathew Ryan</td>\n",
       "      <td>Everton</td>\n",
       "      <td>2.689526</td>\n",
       "    </tr>\n",
       "    <tr>\n",
       "      <th>11</th>\n",
       "      <td>1213</td>\n",
       "      <td>MID</td>\n",
       "      <td>Todd Cantwell</td>\n",
       "      <td>Manchester United</td>\n",
       "      <td>2.541573</td>\n",
       "    </tr>\n",
       "    <tr>\n",
       "      <th>9</th>\n",
       "      <td>1182</td>\n",
       "      <td>MID</td>\n",
       "      <td>Mason Mount</td>\n",
       "      <td>Burnley</td>\n",
       "      <td>2.478401</td>\n",
       "    </tr>\n",
       "    <tr>\n",
       "      <th>6</th>\n",
       "      <td>1159</td>\n",
       "      <td>DEF</td>\n",
       "      <td>John Lundstram</td>\n",
       "      <td>West Ham United</td>\n",
       "      <td>2.413922</td>\n",
       "    </tr>\n",
       "    <tr>\n",
       "      <th>8</th>\n",
       "      <td>267</td>\n",
       "      <td>MID</td>\n",
       "      <td>Harry Wilson</td>\n",
       "      <td>Watford</td>\n",
       "      <td>1.698678</td>\n",
       "    </tr>\n",
       "    <tr>\n",
       "      <th>5</th>\n",
       "      <td>451</td>\n",
       "      <td>DEF</td>\n",
       "      <td>Martin Kelly</td>\n",
       "      <td>Arsenal</td>\n",
       "      <td>0.972115</td>\n",
       "    </tr>\n",
       "    <tr>\n",
       "      <th>3</th>\n",
       "      <td>514</td>\n",
       "      <td>DEF</td>\n",
       "      <td>Nicolás Otamendi</td>\n",
       "      <td>Aston Villa</td>\n",
       "      <td>0.570944</td>\n",
       "    </tr>\n",
       "    <tr>\n",
       "      <th>1</th>\n",
       "      <td>947</td>\n",
       "      <td>GK</td>\n",
       "      <td>David Button</td>\n",
       "      <td>Everton</td>\n",
       "      <td>0.072283</td>\n",
       "    </tr>\n",
       "  </tbody>\n",
       "</table>\n",
       "</div>"
      ],
      "text/plain": [
       "    player_id position                player_name           opponent  \\\n",
       "7         585      MID                 Sadio Mané  Tottenham Hotspur   \n",
       "10        385      MID            Kevin De Bruyne        Aston Villa   \n",
       "17        304      FWD                Jamie Vardy        Southampton   \n",
       "16        161      FWD                 Danny Ings     Leicester City   \n",
       "2         648      DEF     Trent Alexander-Arnold  Tottenham Hotspur   \n",
       "4         977      DEF                  Issa Diop   Sheffield United   \n",
       "14        858      FWD  Pierre-Emerick Aubameyang     Crystal Palace   \n",
       "12        882      FWD              Tammy Abraham            Burnley   \n",
       "13       1211      FWD                Teemu Pukki  Manchester United   \n",
       "18         17      MID               Adama Traoré   Newcastle United   \n",
       "15        439      DEF              Marcos Alonso            Burnley   \n",
       "0         832       GK                Mathew Ryan            Everton   \n",
       "11       1213      MID              Todd Cantwell  Manchester United   \n",
       "9        1182      MID                Mason Mount            Burnley   \n",
       "6        1159      DEF             John Lundstram    West Ham United   \n",
       "8         267      MID               Harry Wilson            Watford   \n",
       "5         451      DEF               Martin Kelly            Arsenal   \n",
       "3         514      DEF           Nicolás Otamendi        Aston Villa   \n",
       "1         947       GK               David Button            Everton   \n",
       "\n",
       "    predicted  \n",
       "7    3.367586  \n",
       "10   3.352451  \n",
       "17   3.324969  \n",
       "16   3.274737  \n",
       "2    3.205010  \n",
       "4    3.105472  \n",
       "14   3.031038  \n",
       "12   2.956601  \n",
       "13   2.923175  \n",
       "18   2.872443  \n",
       "15   2.807538  \n",
       "0    2.689526  \n",
       "11   2.541573  \n",
       "9    2.478401  \n",
       "6    2.413922  \n",
       "8    1.698678  \n",
       "5    0.972115  \n",
       "3    0.570944  \n",
       "1    0.072283  "
      ]
     },
     "execution_count": 21,
     "metadata": {},
     "output_type": "execute_result"
    }
   ],
   "source": [
    "y_pred_weekly_df.sort_values([\"predicted\"], ascending=False)"
   ]
  },
  {
   "cell_type": "code",
   "execution_count": 22,
   "metadata": {},
   "outputs": [],
   "source": [
    "y_pred_weekly_df.to_csv(\"gw{}-predicted-data-{}.csv\".format(gw, model_type));"
   ]
  },
  {
   "cell_type": "code",
   "execution_count": 23,
   "metadata": {},
   "outputs": [],
   "source": [
    "min_max_pos = {\n",
    "    \"GK\": {\n",
    "        \"min\": 1,\n",
    "        \"max\": 1\n",
    "    },\n",
    "    \"DEF\": {\n",
    "        \"min\": 3,\n",
    "        \"max\": 5\n",
    "    },\n",
    "    \"MID\": {\n",
    "        \"min\": 2,\n",
    "        \"max\": 5\n",
    "    },\n",
    "    \"FWD\": {\n",
    "        \"min\": 1,\n",
    "        \"max\": 3\n",
    "    }\n",
    "}"
   ]
  },
  {
   "cell_type": "code",
   "execution_count": 24,
   "metadata": {},
   "outputs": [],
   "source": [
    "def best11(df, max_players=11):\n",
    "    selectedTeam = pd.DataFrame(columns=df.columns);\n",
    "    positions = list(np.unique(df[\"position\"]));\n",
    "    \n",
    "    # base cases - min 1 keeper, 3 def, 2 mids, 1 fwd\n",
    "    for position in positions:\n",
    "        df_ = df[df[\"position\"] == position].sort_values([\"predicted\"], \n",
    "                                                         ascending=False).head(min_max_pos[position][\"min\"]);\n",
    "        selectedTeam = selectedTeam.append(df_);\n",
    "        \n",
    "    gk_ind = positions.index(\"GK\");\n",
    "    del positions[gk_ind];\n",
    "    \n",
    "    num_players = selectedTeam.shape[0];\n",
    "    \n",
    "    # recursive case - max 5 def, 5 mids, 3 fwd\n",
    "    while num_players < max_players:\n",
    "        num_def = selectedTeam[selectedTeam[\"position\"] == \"DEF\"].shape[0];\n",
    "        num_mid = selectedTeam[selectedTeam[\"position\"] == \"MID\"].shape[0];\n",
    "        num_fwd = selectedTeam[selectedTeam[\"position\"] == \"FWD\"].shape[0];\n",
    "        \n",
    "        candidates=[]\n",
    "\n",
    "        for position in positions:\n",
    "            num_position = selectedTeam[selectedTeam[\"position\"] == position].shape[0];\n",
    "            \n",
    "            if (num_position < min_max_pos[position][\"max\"]):\n",
    "                df_ = df[df[\"position\"] == position].sort_values([\"predicted\"], ascending=False).head(selectedTeam[selectedTeam[\"position\"] == position].shape[0] + 1).tail(1)\n",
    "                candidates.append(df_)\n",
    "    \n",
    "        max_score = candidates[0][\"predicted\"].iloc[0]\n",
    "        best_player = candidates[0]\n",
    "        \n",
    "        for index in range(len(candidates)):\n",
    "            score = candidates[index][\"predicted\"].iloc[0]\n",
    "            if (score > max_score):\n",
    "                max_score = score\n",
    "                best_player = candidates[index]\n",
    "        \n",
    "        selectedTeam = selectedTeam.append(best_player);\n",
    "        \n",
    "        num_players = num_players + 1;\n",
    "        \n",
    "    \n",
    "    best11 = pd.DataFrame(columns=selectedTeam.columns);\n",
    "    best11 = best11.append(selectedTeam[selectedTeam[\"position\"] == \"GK\"]);\n",
    "    best11 = best11.append(selectedTeam[selectedTeam[\"position\"] == \"DEF\"]);\n",
    "    best11 = best11.append(selectedTeam[selectedTeam[\"position\"] == \"MID\"]);\n",
    "    best11 = best11.append(selectedTeam[selectedTeam[\"position\"] == \"FWD\"]);\n",
    "    \n",
    "    top2_ = list(best11.sort_values([\"predicted\"], ascending=False).head(2).index);\n",
    "    best11[\"roles\"] = \"\"\n",
    "    best11.at[top2_[0], 'roles']=\"C\"\n",
    "    best11.at[top2_[1], 'roles']=\"VC\"\n",
    "    \n",
    "    best11[\"predicted\"] = best11[\"predicted\"].apply(lambda predicted: round(predicted, 0));\n",
    "    \n",
    "    best11[\"predicted\"] = best11.apply(lambda row: row[\"predicted\"] * 2 if row[\"roles\"] == \"C\" else row[\"predicted\"], axis=1)\n",
    "    \n",
    "    return best11\n"
   ]
  },
  {
   "cell_type": "code",
   "execution_count": 25,
   "metadata": {},
   "outputs": [],
   "source": [
    "best11 = best11(y_pred_weekly_df)"
   ]
  },
  {
   "cell_type": "code",
   "execution_count": 26,
   "metadata": {},
   "outputs": [
    {
     "data": {
      "text/html": [
       "<div>\n",
       "<style scoped>\n",
       "    .dataframe tbody tr th:only-of-type {\n",
       "        vertical-align: middle;\n",
       "    }\n",
       "\n",
       "    .dataframe tbody tr th {\n",
       "        vertical-align: top;\n",
       "    }\n",
       "\n",
       "    .dataframe thead th {\n",
       "        text-align: right;\n",
       "    }\n",
       "</style>\n",
       "<table border=\"1\" class=\"dataframe\">\n",
       "  <thead>\n",
       "    <tr style=\"text-align: right;\">\n",
       "      <th></th>\n",
       "      <th>player_id</th>\n",
       "      <th>position</th>\n",
       "      <th>player_name</th>\n",
       "      <th>opponent</th>\n",
       "      <th>predicted</th>\n",
       "      <th>roles</th>\n",
       "    </tr>\n",
       "  </thead>\n",
       "  <tbody>\n",
       "    <tr>\n",
       "      <th>0</th>\n",
       "      <td>832</td>\n",
       "      <td>GK</td>\n",
       "      <td>Mathew Ryan</td>\n",
       "      <td>Everton</td>\n",
       "      <td>3.0</td>\n",
       "      <td></td>\n",
       "    </tr>\n",
       "    <tr>\n",
       "      <th>2</th>\n",
       "      <td>648</td>\n",
       "      <td>DEF</td>\n",
       "      <td>Trent Alexander-Arnold</td>\n",
       "      <td>Tottenham Hotspur</td>\n",
       "      <td>3.0</td>\n",
       "      <td></td>\n",
       "    </tr>\n",
       "    <tr>\n",
       "      <th>4</th>\n",
       "      <td>977</td>\n",
       "      <td>DEF</td>\n",
       "      <td>Issa Diop</td>\n",
       "      <td>Sheffield United</td>\n",
       "      <td>3.0</td>\n",
       "      <td></td>\n",
       "    </tr>\n",
       "    <tr>\n",
       "      <th>15</th>\n",
       "      <td>439</td>\n",
       "      <td>DEF</td>\n",
       "      <td>Marcos Alonso</td>\n",
       "      <td>Burnley</td>\n",
       "      <td>3.0</td>\n",
       "      <td></td>\n",
       "    </tr>\n",
       "    <tr>\n",
       "      <th>7</th>\n",
       "      <td>585</td>\n",
       "      <td>MID</td>\n",
       "      <td>Sadio Mané</td>\n",
       "      <td>Tottenham Hotspur</td>\n",
       "      <td>6.0</td>\n",
       "      <td>C</td>\n",
       "    </tr>\n",
       "    <tr>\n",
       "      <th>10</th>\n",
       "      <td>385</td>\n",
       "      <td>MID</td>\n",
       "      <td>Kevin De Bruyne</td>\n",
       "      <td>Aston Villa</td>\n",
       "      <td>3.0</td>\n",
       "      <td>VC</td>\n",
       "    </tr>\n",
       "    <tr>\n",
       "      <th>18</th>\n",
       "      <td>17</td>\n",
       "      <td>MID</td>\n",
       "      <td>Adama Traoré</td>\n",
       "      <td>Newcastle United</td>\n",
       "      <td>3.0</td>\n",
       "      <td></td>\n",
       "    </tr>\n",
       "    <tr>\n",
       "      <th>11</th>\n",
       "      <td>1213</td>\n",
       "      <td>MID</td>\n",
       "      <td>Todd Cantwell</td>\n",
       "      <td>Manchester United</td>\n",
       "      <td>3.0</td>\n",
       "      <td></td>\n",
       "    </tr>\n",
       "    <tr>\n",
       "      <th>17</th>\n",
       "      <td>304</td>\n",
       "      <td>FWD</td>\n",
       "      <td>Jamie Vardy</td>\n",
       "      <td>Southampton</td>\n",
       "      <td>3.0</td>\n",
       "      <td></td>\n",
       "    </tr>\n",
       "    <tr>\n",
       "      <th>16</th>\n",
       "      <td>161</td>\n",
       "      <td>FWD</td>\n",
       "      <td>Danny Ings</td>\n",
       "      <td>Leicester City</td>\n",
       "      <td>3.0</td>\n",
       "      <td></td>\n",
       "    </tr>\n",
       "    <tr>\n",
       "      <th>14</th>\n",
       "      <td>858</td>\n",
       "      <td>FWD</td>\n",
       "      <td>Pierre-Emerick Aubameyang</td>\n",
       "      <td>Crystal Palace</td>\n",
       "      <td>3.0</td>\n",
       "      <td></td>\n",
       "    </tr>\n",
       "  </tbody>\n",
       "</table>\n",
       "</div>"
      ],
      "text/plain": [
       "   player_id position                player_name           opponent  \\\n",
       "0        832       GK                Mathew Ryan            Everton   \n",
       "2        648      DEF     Trent Alexander-Arnold  Tottenham Hotspur   \n",
       "4        977      DEF                  Issa Diop   Sheffield United   \n",
       "15       439      DEF              Marcos Alonso            Burnley   \n",
       "7        585      MID                 Sadio Mané  Tottenham Hotspur   \n",
       "10       385      MID            Kevin De Bruyne        Aston Villa   \n",
       "18        17      MID               Adama Traoré   Newcastle United   \n",
       "11      1213      MID              Todd Cantwell  Manchester United   \n",
       "17       304      FWD                Jamie Vardy        Southampton   \n",
       "16       161      FWD                 Danny Ings     Leicester City   \n",
       "14       858      FWD  Pierre-Emerick Aubameyang     Crystal Palace   \n",
       "\n",
       "    predicted roles  \n",
       "0         3.0        \n",
       "2         3.0        \n",
       "4         3.0        \n",
       "15        3.0        \n",
       "7         6.0     C  \n",
       "10        3.0    VC  \n",
       "18        3.0        \n",
       "11        3.0        \n",
       "17        3.0        \n",
       "16        3.0        \n",
       "14        3.0        "
      ]
     },
     "execution_count": 26,
     "metadata": {},
     "output_type": "execute_result"
    }
   ],
   "source": [
    "best11"
   ]
  },
  {
   "cell_type": "code",
   "execution_count": 27,
   "metadata": {},
   "outputs": [
    {
     "data": {
      "text/plain": [
       "36.0"
      ]
     },
     "execution_count": 27,
     "metadata": {},
     "output_type": "execute_result"
    }
   ],
   "source": [
    "sum(best11[\"predicted\"])"
   ]
  },
  {
   "cell_type": "code",
   "execution_count": 28,
   "metadata": {},
   "outputs": [],
   "source": [
    "best11.to_csv(\"gw{}-best11-{}.csv\".format(gw,model_type), index=False);"
   ]
  }
 ],
 "metadata": {
  "kernelspec": {
   "display_name": "Python 3",
   "language": "python",
   "name": "python3"
  },
  "language_info": {
   "codemirror_mode": {
    "name": "ipython",
    "version": 3
   },
   "file_extension": ".py",
   "mimetype": "text/x-python",
   "name": "python",
   "nbconvert_exporter": "python",
   "pygments_lexer": "ipython3",
   "version": "3.7.2"
  }
 },
 "nbformat": 4,
 "nbformat_minor": 2
}
