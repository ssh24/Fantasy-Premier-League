{
 "cells": [
  {
   "cell_type": "code",
   "execution_count": 1,
   "metadata": {},
   "outputs": [],
   "source": [
    "# load and the test weekly fpl scrape\n",
    "season=\"2019-20\"\n",
    "gw=16\n",
    "model_type=\"rf\""
   ]
  },
  {
   "cell_type": "code",
   "execution_count": 2,
   "metadata": {},
   "outputs": [
    {
     "name": "stderr",
     "output_type": "stream",
     "text": [
      "Using TensorFlow backend.\n"
     ]
    }
   ],
   "source": [
    "import os\n",
    "import pandas as pd\n",
    "import numpy as np\n",
    "from keras.models import load_model\n",
    "import pickle\n",
    "from sklearn.externals import joblib"
   ]
  },
  {
   "cell_type": "code",
   "execution_count": 3,
   "metadata": {},
   "outputs": [],
   "source": [
    "os.chdir(os.path.join(os.getcwd(), \"..\", \"..\", \"data\"));"
   ]
  },
  {
   "cell_type": "code",
   "execution_count": 4,
   "metadata": {},
   "outputs": [],
   "source": [
    "# scaler = joblib.load(\"scaler.save\")"
   ]
  },
  {
   "cell_type": "code",
   "execution_count": 5,
   "metadata": {},
   "outputs": [],
   "source": [
    "player_id_df = pd.read_csv(\"player_id_map.csv\");"
   ]
  },
  {
   "cell_type": "code",
   "execution_count": 6,
   "metadata": {},
   "outputs": [],
   "source": [
    "team_id_df = pd.read_csv(\"team_id_map.csv\");"
   ]
  },
  {
   "cell_type": "code",
   "execution_count": 7,
   "metadata": {},
   "outputs": [],
   "source": [
    "X_test = pd.read_csv(\"x-test.csv\");"
   ]
  },
  {
   "cell_type": "code",
   "execution_count": 8,
   "metadata": {},
   "outputs": [],
   "source": [
    "os.chdir(os.path.join(os.getcwd(), \"..\"))"
   ]
  },
  {
   "cell_type": "code",
   "execution_count": 9,
   "metadata": {},
   "outputs": [],
   "source": [
    "model_dir = os.path.join(os.getcwd(), \"model\", season, str(gw))"
   ]
  },
  {
   "cell_type": "code",
   "execution_count": 10,
   "metadata": {},
   "outputs": [],
   "source": [
    "lineup_dir = os.path.join(os.getcwd(), \"predicted-lineup\", season, str(gw))"
   ]
  },
  {
   "cell_type": "code",
   "execution_count": 11,
   "metadata": {},
   "outputs": [],
   "source": [
    "os.chdir(model_dir)"
   ]
  },
  {
   "cell_type": "code",
   "execution_count": 12,
   "metadata": {},
   "outputs": [],
   "source": [
    "if model_type == \"nn\":\n",
    "    model = load_model(\"{}-model.h5\".format(model_type))\n",
    "else:\n",
    "    with open(\"{}-model.pkl\".format(model_type), 'rb') as f:\n",
    "            model = pickle.load(f)"
   ]
  },
  {
   "cell_type": "code",
   "execution_count": 13,
   "metadata": {},
   "outputs": [],
   "source": [
    "os.chdir(lineup_dir)"
   ]
  },
  {
   "cell_type": "code",
   "execution_count": 14,
   "metadata": {},
   "outputs": [],
   "source": [
    "weekly_scrape = pd.read_csv(\"gw{}-fpl-data.csv\".format(gw));"
   ]
  },
  {
   "cell_type": "code",
   "execution_count": 15,
   "metadata": {},
   "outputs": [],
   "source": [
    "weekly_scrape_scaled = weekly_scrape[X_test.columns];\n",
    "# scaler.transform(weekly_scrape[X_test.columns]);"
   ]
  },
  {
   "cell_type": "code",
   "execution_count": 16,
   "metadata": {},
   "outputs": [],
   "source": [
    "y_pred_weekly = model.predict(weekly_scrape_scaled);"
   ]
  },
  {
   "cell_type": "code",
   "execution_count": 17,
   "metadata": {},
   "outputs": [],
   "source": [
    "y_pred_weekly_df = pd.DataFrame({'player_id': list(weekly_scrape[\"player_id\"]), \n",
    "                                 'position': list(weekly_scrape[\"position\"]),\n",
    "                                 'predicted': y_pred_weekly.flatten()});"
   ]
  },
  {
   "cell_type": "code",
   "execution_count": 18,
   "metadata": {},
   "outputs": [],
   "source": [
    "player_names = [];\n",
    "opponent_names = [];\n",
    "\n",
    "for index, row in weekly_scrape.iterrows():\n",
    "    player_id = row[\"player_id\"];\n",
    "    opponent_id = row[\"opponent_id\"];\n",
    "    \n",
    "    player_names.append(player_id_df[player_id_df[\"player_id\"] == player_id][\"actual_name\"].iloc[0]);\n",
    "    opponent_names.append(team_id_df[team_id_df[\"team_id\"] == opponent_id][\"team_name\"].iloc[0]);"
   ]
  },
  {
   "cell_type": "code",
   "execution_count": 19,
   "metadata": {},
   "outputs": [],
   "source": [
    "y_pred_weekly_df[\"player_name\"] = player_names;\n",
    "y_pred_weekly_df[\"opponent\"] = opponent_names;"
   ]
  },
  {
   "cell_type": "code",
   "execution_count": 20,
   "metadata": {},
   "outputs": [],
   "source": [
    "y_pred_weekly_df = y_pred_weekly_df[[\"player_id\", \"position\", \"player_name\", \"opponent\", \"predicted\"]];"
   ]
  },
  {
   "cell_type": "code",
   "execution_count": 21,
   "metadata": {},
   "outputs": [
    {
     "data": {
      "text/html": [
       "<div>\n",
       "<style scoped>\n",
       "    .dataframe tbody tr th:only-of-type {\n",
       "        vertical-align: middle;\n",
       "    }\n",
       "\n",
       "    .dataframe tbody tr th {\n",
       "        vertical-align: top;\n",
       "    }\n",
       "\n",
       "    .dataframe thead th {\n",
       "        text-align: right;\n",
       "    }\n",
       "</style>\n",
       "<table border=\"1\" class=\"dataframe\">\n",
       "  <thead>\n",
       "    <tr style=\"text-align: right;\">\n",
       "      <th></th>\n",
       "      <th>player_id</th>\n",
       "      <th>position</th>\n",
       "      <th>player_name</th>\n",
       "      <th>opponent</th>\n",
       "      <th>predicted</th>\n",
       "    </tr>\n",
       "  </thead>\n",
       "  <tbody>\n",
       "    <tr>\n",
       "      <th>14</th>\n",
       "      <td>78</td>\n",
       "      <td>MID</td>\n",
       "      <td>Bamidele Alli</td>\n",
       "      <td>Burnley</td>\n",
       "      <td>2.121433</td>\n",
       "    </tr>\n",
       "    <tr>\n",
       "      <th>8</th>\n",
       "      <td>17</td>\n",
       "      <td>MID</td>\n",
       "      <td>Adama Traoré</td>\n",
       "      <td>Brighton and Hove Albion</td>\n",
       "      <td>2.086704</td>\n",
       "    </tr>\n",
       "    <tr>\n",
       "      <th>7</th>\n",
       "      <td>585</td>\n",
       "      <td>MID</td>\n",
       "      <td>Sadio Mané</td>\n",
       "      <td>Bournemouth</td>\n",
       "      <td>2.078225</td>\n",
       "    </tr>\n",
       "    <tr>\n",
       "      <th>11</th>\n",
       "      <td>161</td>\n",
       "      <td>FWD</td>\n",
       "      <td>Danny Ings</td>\n",
       "      <td>Newcastle United</td>\n",
       "      <td>2.038203</td>\n",
       "    </tr>\n",
       "    <tr>\n",
       "      <th>9</th>\n",
       "      <td>669</td>\n",
       "      <td>MID</td>\n",
       "      <td>Wilfried Zaha</td>\n",
       "      <td>Watford</td>\n",
       "      <td>2.009731</td>\n",
       "    </tr>\n",
       "    <tr>\n",
       "      <th>13</th>\n",
       "      <td>858</td>\n",
       "      <td>FWD</td>\n",
       "      <td>Pierre-Emerick Aubameyang</td>\n",
       "      <td>West Ham United</td>\n",
       "      <td>1.913917</td>\n",
       "    </tr>\n",
       "    <tr>\n",
       "      <th>10</th>\n",
       "      <td>1222</td>\n",
       "      <td>MID</td>\n",
       "      <td>Todd Cantwell</td>\n",
       "      <td>Sheffield United</td>\n",
       "      <td>1.909246</td>\n",
       "    </tr>\n",
       "    <tr>\n",
       "      <th>12</th>\n",
       "      <td>304</td>\n",
       "      <td>FWD</td>\n",
       "      <td>Jamie Vardy</td>\n",
       "      <td>Aston Villa</td>\n",
       "      <td>1.862019</td>\n",
       "    </tr>\n",
       "    <tr>\n",
       "      <th>0</th>\n",
       "      <td>541</td>\n",
       "      <td>GK</td>\n",
       "      <td>Paulo Gazzaniga</td>\n",
       "      <td>Burnley</td>\n",
       "      <td>1.644936</td>\n",
       "    </tr>\n",
       "    <tr>\n",
       "      <th>2</th>\n",
       "      <td>648</td>\n",
       "      <td>DEF</td>\n",
       "      <td>Trent Alexander-Arnold</td>\n",
       "      <td>Bournemouth</td>\n",
       "      <td>1.427669</td>\n",
       "    </tr>\n",
       "    <tr>\n",
       "      <th>5</th>\n",
       "      <td>451</td>\n",
       "      <td>DEF</td>\n",
       "      <td>Martin Kelly</td>\n",
       "      <td>Watford</td>\n",
       "      <td>1.372381</td>\n",
       "    </tr>\n",
       "    <tr>\n",
       "      <th>6</th>\n",
       "      <td>1164</td>\n",
       "      <td>DEF</td>\n",
       "      <td>John Lundstram</td>\n",
       "      <td>Norwich City</td>\n",
       "      <td>1.162387</td>\n",
       "    </tr>\n",
       "    <tr>\n",
       "      <th>1</th>\n",
       "      <td>947</td>\n",
       "      <td>GK</td>\n",
       "      <td>David Button</td>\n",
       "      <td>Wolverhampton Wanderers</td>\n",
       "      <td>0.279422</td>\n",
       "    </tr>\n",
       "    <tr>\n",
       "      <th>3</th>\n",
       "      <td>91</td>\n",
       "      <td>DEF</td>\n",
       "      <td>Benjamin Chilwell</td>\n",
       "      <td>Aston Villa</td>\n",
       "      <td>0.269899</td>\n",
       "    </tr>\n",
       "    <tr>\n",
       "      <th>4</th>\n",
       "      <td>977</td>\n",
       "      <td>DEF</td>\n",
       "      <td>Issa Diop</td>\n",
       "      <td>Arsenal</td>\n",
       "      <td>0.072892</td>\n",
       "    </tr>\n",
       "  </tbody>\n",
       "</table>\n",
       "</div>"
      ],
      "text/plain": [
       "    player_id position                player_name                  opponent  \\\n",
       "14         78      MID              Bamidele Alli                   Burnley   \n",
       "8          17      MID               Adama Traoré  Brighton and Hove Albion   \n",
       "7         585      MID                 Sadio Mané               Bournemouth   \n",
       "11        161      FWD                 Danny Ings          Newcastle United   \n",
       "9         669      MID              Wilfried Zaha                   Watford   \n",
       "13        858      FWD  Pierre-Emerick Aubameyang           West Ham United   \n",
       "10       1222      MID              Todd Cantwell          Sheffield United   \n",
       "12        304      FWD                Jamie Vardy               Aston Villa   \n",
       "0         541       GK            Paulo Gazzaniga                   Burnley   \n",
       "2         648      DEF     Trent Alexander-Arnold               Bournemouth   \n",
       "5         451      DEF               Martin Kelly                   Watford   \n",
       "6        1164      DEF             John Lundstram              Norwich City   \n",
       "1         947       GK               David Button   Wolverhampton Wanderers   \n",
       "3          91      DEF          Benjamin Chilwell               Aston Villa   \n",
       "4         977      DEF                  Issa Diop                   Arsenal   \n",
       "\n",
       "    predicted  \n",
       "14   2.121433  \n",
       "8    2.086704  \n",
       "7    2.078225  \n",
       "11   2.038203  \n",
       "9    2.009731  \n",
       "13   1.913917  \n",
       "10   1.909246  \n",
       "12   1.862019  \n",
       "0    1.644936  \n",
       "2    1.427669  \n",
       "5    1.372381  \n",
       "6    1.162387  \n",
       "1    0.279422  \n",
       "3    0.269899  \n",
       "4    0.072892  "
      ]
     },
     "execution_count": 21,
     "metadata": {},
     "output_type": "execute_result"
    }
   ],
   "source": [
    "y_pred_weekly_df.sort_values([\"predicted\"], ascending=False)"
   ]
  },
  {
   "cell_type": "code",
   "execution_count": 22,
   "metadata": {},
   "outputs": [],
   "source": [
    "y_pred_weekly_df.to_csv(\"gw{}-predicted-data-{}.csv\".format(gw, model_type));"
   ]
  },
  {
   "cell_type": "code",
   "execution_count": 23,
   "metadata": {},
   "outputs": [],
   "source": [
    "min_max_pos = {\n",
    "    \"GK\": {\n",
    "        \"min\": 1,\n",
    "        \"max\": 1\n",
    "    },\n",
    "    \"DEF\": {\n",
    "        \"min\": 3,\n",
    "        \"max\": 5\n",
    "    },\n",
    "    \"MID\": {\n",
    "        \"min\": 2,\n",
    "        \"max\": 5\n",
    "    },\n",
    "    \"FWD\": {\n",
    "        \"min\": 1,\n",
    "        \"max\": 3\n",
    "    }\n",
    "}"
   ]
  },
  {
   "cell_type": "code",
   "execution_count": 24,
   "metadata": {},
   "outputs": [],
   "source": [
    "def best11(df, max_players=11, verbose=0):\n",
    "    selectedTeam = pd.DataFrame(columns=df.columns);\n",
    "    positions = list(np.unique(df[\"position\"]));\n",
    "    availablePlayers = pd.DataFrame(columns=df.columns);\n",
    "    \n",
    "    if (df.shape[0] < max_players):\n",
    "        raise Exception(\"Err: Cannot have less than {} players in a game\".format(max_players));\n",
    "    \n",
    "    # base cases - min 1 keeper, 3 def, 2 mids, 1 fwd\n",
    "    for position in positions:\n",
    "        original_query = df[df[\"position\"] == position].sort_values([\"predicted\"], ascending=False);\n",
    "        if (original_query.shape[0] < min_max_pos[position][\"min\"]):\n",
    "            raise Exception(\"Err: Cannot have less than {} {} in the formation. Found only {}\".format(min_max_pos[position][\"min\"], position, original_query.shape[0]));\n",
    "        df_head = original_query.head(min_max_pos[position][\"min\"]);\n",
    "        df_tail = original_query.tail(original_query.shape[0] - df_head.shape[0]);\n",
    "        selectedTeam = selectedTeam.append(df_head);\n",
    "        availablePlayers = availablePlayers.append(df_tail);\n",
    "\n",
    "    gk_ind = positions.index(\"GK\");\n",
    "    del positions[gk_ind];\n",
    "    \n",
    "    num_players = selectedTeam.shape[0];\n",
    "    \n",
    "    if verbose == 1:\n",
    "        print(\"Initial selected team\", selectedTeam)\n",
    "        print(\"\\n\")\n",
    "    \n",
    "    # recursive case - max 5 def, 5 mids, 3 fwd\n",
    "    while num_players < max_players:\n",
    "        num_def = selectedTeam[selectedTeam[\"position\"] == \"DEF\"].shape[0];\n",
    "        num_mid = selectedTeam[selectedTeam[\"position\"] == \"MID\"].shape[0];\n",
    "        num_fwd = selectedTeam[selectedTeam[\"position\"] == \"FWD\"].shape[0];\n",
    "        \n",
    "        candidates=[]\n",
    "\n",
    "        # for each position, select the best candidate\n",
    "        for position in positions:\n",
    "            original_query = df[df[\"position\"] == position].sort_values([\"predicted\"], ascending=False);\n",
    "            num_position = selectedTeam[selectedTeam[\"position\"] == position].shape[0];\n",
    "            \n",
    "            # and availablePlayers[availablePlayers[\"position\"] == position].shape[0] > 0\n",
    "            if (num_position < min_max_pos[position][\"max\"] and availablePlayers[availablePlayers[\"position\"] == position].shape[0] > 0):\n",
    "                candidate = original_query.head(selectedTeam[selectedTeam[\"position\"] == position].shape[0] + 1).tail(1)\n",
    "                candidates.append(candidate);\n",
    "        \n",
    "        if verbose == 1:\n",
    "            print(\"Candidates: \", candidates);\n",
    "        \n",
    "        max_score = 0\n",
    "        for index in range(len(candidates)):\n",
    "            score = candidates[index][\"predicted\"].iloc[0]\n",
    "            if (score > max_score):\n",
    "                max_score = score\n",
    "                best_player = candidates[index];\n",
    "        \n",
    "        if verbose == 1:\n",
    "            print(\"Candidate chosen: \", best_player.iloc[0][\"player_name\"])\n",
    "        selectedTeam = selectedTeam.append(best_player);\n",
    "        availablePlayers = availablePlayers[availablePlayers[\"player_id\"] != best_player.iloc[0][\"player_id\"]];\n",
    "        \n",
    "        num_players = num_players + 1;\n",
    "        \n",
    "        if verbose == 1:\n",
    "            print(\"Chose {} players\".format(num_players))\n",
    "            print(selectedTeam)\n",
    "            print(\"\\n\")\n",
    "        \n",
    "    best11 = pd.DataFrame(columns=selectedTeam.columns);\n",
    "    best11 = best11.append(selectedTeam[selectedTeam[\"position\"] == \"GK\"]);\n",
    "    best11 = best11.append(selectedTeam[selectedTeam[\"position\"] == \"DEF\"]);\n",
    "    best11 = best11.append(selectedTeam[selectedTeam[\"position\"] == \"MID\"]);\n",
    "    best11 = best11.append(selectedTeam[selectedTeam[\"position\"] == \"FWD\"]);\n",
    "    \n",
    "    top2_ = list(best11.sort_values([\"predicted\"], ascending=False).head(2).index);\n",
    "    best11[\"roles\"] = \"\"\n",
    "    best11.at[top2_[0], 'roles']=\"C\"\n",
    "    best11.at[top2_[1], 'roles']=\"VC\"\n",
    "    \n",
    "    best11[\"predicted\"] = best11[\"predicted\"].apply(lambda predicted: round(predicted, 0));\n",
    "    \n",
    "    best11[\"predicted\"] = best11.apply(lambda row: row[\"predicted\"] * 2 if row[\"roles\"] == \"C\" else row[\"predicted\"], axis=1)\n",
    "    \n",
    "    return best11\n"
   ]
  },
  {
   "cell_type": "code",
   "execution_count": 25,
   "metadata": {},
   "outputs": [],
   "source": [
    "best11 = best11(y_pred_weekly_df)"
   ]
  },
  {
   "cell_type": "code",
   "execution_count": 26,
   "metadata": {},
   "outputs": [
    {
     "data": {
      "text/html": [
       "<div>\n",
       "<style scoped>\n",
       "    .dataframe tbody tr th:only-of-type {\n",
       "        vertical-align: middle;\n",
       "    }\n",
       "\n",
       "    .dataframe tbody tr th {\n",
       "        vertical-align: top;\n",
       "    }\n",
       "\n",
       "    .dataframe thead th {\n",
       "        text-align: right;\n",
       "    }\n",
       "</style>\n",
       "<table border=\"1\" class=\"dataframe\">\n",
       "  <thead>\n",
       "    <tr style=\"text-align: right;\">\n",
       "      <th></th>\n",
       "      <th>player_id</th>\n",
       "      <th>position</th>\n",
       "      <th>player_name</th>\n",
       "      <th>opponent</th>\n",
       "      <th>predicted</th>\n",
       "      <th>roles</th>\n",
       "    </tr>\n",
       "  </thead>\n",
       "  <tbody>\n",
       "    <tr>\n",
       "      <th>0</th>\n",
       "      <td>541</td>\n",
       "      <td>GK</td>\n",
       "      <td>Paulo Gazzaniga</td>\n",
       "      <td>Burnley</td>\n",
       "      <td>2.0</td>\n",
       "      <td></td>\n",
       "    </tr>\n",
       "    <tr>\n",
       "      <th>2</th>\n",
       "      <td>648</td>\n",
       "      <td>DEF</td>\n",
       "      <td>Trent Alexander-Arnold</td>\n",
       "      <td>Bournemouth</td>\n",
       "      <td>1.0</td>\n",
       "      <td></td>\n",
       "    </tr>\n",
       "    <tr>\n",
       "      <th>5</th>\n",
       "      <td>451</td>\n",
       "      <td>DEF</td>\n",
       "      <td>Martin Kelly</td>\n",
       "      <td>Watford</td>\n",
       "      <td>1.0</td>\n",
       "      <td></td>\n",
       "    </tr>\n",
       "    <tr>\n",
       "      <th>6</th>\n",
       "      <td>1164</td>\n",
       "      <td>DEF</td>\n",
       "      <td>John Lundstram</td>\n",
       "      <td>Norwich City</td>\n",
       "      <td>1.0</td>\n",
       "      <td></td>\n",
       "    </tr>\n",
       "    <tr>\n",
       "      <th>14</th>\n",
       "      <td>78</td>\n",
       "      <td>MID</td>\n",
       "      <td>Bamidele Alli</td>\n",
       "      <td>Burnley</td>\n",
       "      <td>4.0</td>\n",
       "      <td>C</td>\n",
       "    </tr>\n",
       "    <tr>\n",
       "      <th>8</th>\n",
       "      <td>17</td>\n",
       "      <td>MID</td>\n",
       "      <td>Adama Traoré</td>\n",
       "      <td>Brighton and Hove Albion</td>\n",
       "      <td>2.0</td>\n",
       "      <td>VC</td>\n",
       "    </tr>\n",
       "    <tr>\n",
       "      <th>7</th>\n",
       "      <td>585</td>\n",
       "      <td>MID</td>\n",
       "      <td>Sadio Mané</td>\n",
       "      <td>Bournemouth</td>\n",
       "      <td>2.0</td>\n",
       "      <td></td>\n",
       "    </tr>\n",
       "    <tr>\n",
       "      <th>9</th>\n",
       "      <td>669</td>\n",
       "      <td>MID</td>\n",
       "      <td>Wilfried Zaha</td>\n",
       "      <td>Watford</td>\n",
       "      <td>2.0</td>\n",
       "      <td></td>\n",
       "    </tr>\n",
       "    <tr>\n",
       "      <th>10</th>\n",
       "      <td>1222</td>\n",
       "      <td>MID</td>\n",
       "      <td>Todd Cantwell</td>\n",
       "      <td>Sheffield United</td>\n",
       "      <td>2.0</td>\n",
       "      <td></td>\n",
       "    </tr>\n",
       "    <tr>\n",
       "      <th>11</th>\n",
       "      <td>161</td>\n",
       "      <td>FWD</td>\n",
       "      <td>Danny Ings</td>\n",
       "      <td>Newcastle United</td>\n",
       "      <td>2.0</td>\n",
       "      <td></td>\n",
       "    </tr>\n",
       "    <tr>\n",
       "      <th>13</th>\n",
       "      <td>858</td>\n",
       "      <td>FWD</td>\n",
       "      <td>Pierre-Emerick Aubameyang</td>\n",
       "      <td>West Ham United</td>\n",
       "      <td>2.0</td>\n",
       "      <td></td>\n",
       "    </tr>\n",
       "  </tbody>\n",
       "</table>\n",
       "</div>"
      ],
      "text/plain": [
       "   player_id position                player_name                  opponent  \\\n",
       "0        541       GK            Paulo Gazzaniga                   Burnley   \n",
       "2        648      DEF     Trent Alexander-Arnold               Bournemouth   \n",
       "5        451      DEF               Martin Kelly                   Watford   \n",
       "6       1164      DEF             John Lundstram              Norwich City   \n",
       "14        78      MID              Bamidele Alli                   Burnley   \n",
       "8         17      MID               Adama Traoré  Brighton and Hove Albion   \n",
       "7        585      MID                 Sadio Mané               Bournemouth   \n",
       "9        669      MID              Wilfried Zaha                   Watford   \n",
       "10      1222      MID              Todd Cantwell          Sheffield United   \n",
       "11       161      FWD                 Danny Ings          Newcastle United   \n",
       "13       858      FWD  Pierre-Emerick Aubameyang           West Ham United   \n",
       "\n",
       "    predicted roles  \n",
       "0         2.0        \n",
       "2         1.0        \n",
       "5         1.0        \n",
       "6         1.0        \n",
       "14        4.0     C  \n",
       "8         2.0    VC  \n",
       "7         2.0        \n",
       "9         2.0        \n",
       "10        2.0        \n",
       "11        2.0        \n",
       "13        2.0        "
      ]
     },
     "execution_count": 26,
     "metadata": {},
     "output_type": "execute_result"
    }
   ],
   "source": [
    "best11"
   ]
  },
  {
   "cell_type": "code",
   "execution_count": 27,
   "metadata": {},
   "outputs": [
    {
     "data": {
      "text/plain": [
       "21.0"
      ]
     },
     "execution_count": 27,
     "metadata": {},
     "output_type": "execute_result"
    }
   ],
   "source": [
    "sum(best11[\"predicted\"])"
   ]
  },
  {
   "cell_type": "code",
   "execution_count": 28,
   "metadata": {},
   "outputs": [],
   "source": [
    "best11.to_csv(\"gw{}-best11-{}.csv\".format(gw,model_type), index=False);"
   ]
  }
 ],
 "metadata": {
  "kernelspec": {
   "display_name": "Python 3",
   "language": "python",
   "name": "python3"
  },
  "language_info": {
   "codemirror_mode": {
    "name": "ipython",
    "version": 3
   },
   "file_extension": ".py",
   "mimetype": "text/x-python",
   "name": "python",
   "nbconvert_exporter": "python",
   "pygments_lexer": "ipython3",
   "version": "3.7.2"
  }
 },
 "nbformat": 4,
 "nbformat_minor": 2
}
